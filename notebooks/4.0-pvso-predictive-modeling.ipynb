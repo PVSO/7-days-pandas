{
 "cells": [
  {
   "cell_type": "code",
   "execution_count": null,
   "id": "49d8f0f9",
   "metadata": {},
   "outputs": [],
   "source": [
    "import pandas as pd\n",
    "import datetime as dt\n",
    "from sklearn.linear_model import PoissonRegressor"
   ]
  },
  {
   "cell_type": "code",
   "execution_count": null,
   "id": "976d5ae2",
   "metadata": {},
   "outputs": [],
   "source": [
    "df = pd.read_parquet('../data/processed/emprestimos_exemplares.parquet')"
   ]
  },
  {
   "cell_type": "code",
   "execution_count": null,
   "id": "8ff89da6",
   "metadata": {},
   "outputs": [],
   "source": [
    "df_records = pd.read_parquet('../data/processed/students_records/records.parquet')"
   ]
  },
  {
   "cell_type": "code",
   "execution_count": null,
   "id": "25afaa22",
   "metadata": {},
   "outputs": [],
   "source": [
    "df_records['matricula_ou_siape'].unique()"
   ]
  },
  {
   "cell_type": "code",
   "execution_count": null,
   "id": "09106d3b",
   "metadata": {},
   "outputs": [],
   "source": [
    "df_records['tipo_vinculo_usuario'].unique()"
   ]
  },
  {
   "cell_type": "code",
   "execution_count": null,
   "id": "144fd641",
   "metadata": {},
   "outputs": [],
   "source": [
    "df.dtypes"
   ]
  },
  {
   "cell_type": "code",
   "execution_count": null,
   "id": "9279fec1",
   "metadata": {},
   "outputs": [],
   "source": [
    "df['data_emprestimo'] = pd.to_datetime(df['data_emprestimo'],format='ISO8601')"
   ]
  },
  {
   "cell_type": "code",
   "execution_count": null,
   "id": "85e0d2c5",
   "metadata": {},
   "outputs": [],
   "source": [
    "data = df.merge(df_records)\n",
    "\n",
    "data.head()"
   ]
  },
  {
   "cell_type": "code",
   "execution_count": null,
   "id": "92afd343",
   "metadata": {},
   "outputs": [],
   "source": [
    "data['tipo_vinculo_usuario'].unique()"
   ]
  },
  {
   "cell_type": "code",
   "execution_count": null,
   "id": "95d64780",
   "metadata": {},
   "outputs": [],
   "source": [
    "graduacao_pos_2015 = data[data['tipo_vinculo_usuario'] == 'ALUNO DE GRADUAÇÃO']\n",
    "\n",
    "# graduacao_pos_2015 = graduacao_pos_2015.loc[:,['matricula_ou_siape','data_emprestimo']]\n",
    "\n",
    "data['data_emprestimo'] = pd.to_datetime(data['data_emprestimo'])\n",
    "\n",
    "graduacao_pos_2015 = data[data['data_emprestimo'].dt.year > 2015]\n",
    "\n",
    "graduacao_pos_2015 = graduacao_pos_2015.reset_index(drop=True)\n",
    "\n",
    "# graduacao_pos_2015.head()"
   ]
  },
  {
   "cell_type": "code",
   "execution_count": null,
   "id": "504abf9c",
   "metadata": {},
   "outputs": [],
   "source": [
    "graduacao_pos_2015['data_emprestimo'].unique()"
   ]
  },
  {
   "cell_type": "code",
   "execution_count": null,
   "id": "35a61ec2",
   "metadata": {},
   "outputs": [],
   "source": [
    "cursos_selecionados = graduacao_pos_2015[graduacao_pos_2015['curso'].isin(['BIBLIOTECONOMIA','CIÊNCIAS SOCIAIS','COMUNICAÇÃO SOCIAL','DIREITO','FILOSOFIA','PEDAGOGIA'])]\n",
    "# cursos_selecionados['curso'].unique()\n"
   ]
  },
  {
   "cell_type": "code",
   "execution_count": null,
   "id": "a48c1af1",
   "metadata": {},
   "outputs": [],
   "source": [
    "cursos_selecionados.head()"
   ]
  },
  {
   "cell_type": "code",
   "execution_count": null,
   "id": "72f9ff45",
   "metadata": {},
   "outputs": [],
   "source": [
    "cursos_selecionados['ano_emprestimo'] = cursos_selecionados['data_emprestimo'].dt.year\n",
    "\n",
    "emprestimos_graduacao = cursos_selecionados.groupby(['ano_emprestimo', 'curso']).size().reset_index(name='quantidade')\n",
    "\n",
    "# emprestimos_graduacao.index = emprestimos_graduacao['curso']\n",
    "emprestimos_graduacao = emprestimos_graduacao.set_index('curso')\n",
    "\n",
    "emprestimos_graduacao"
   ]
  },
  {
   "cell_type": "code",
   "execution_count": null,
   "id": "89d8cd16",
   "metadata": {},
   "outputs": [],
   "source": [
    "previsoes = []\n",
    "# total_2023 = 0\n",
    "\n",
    "# Iterar sobre cada curso (excluindo o total)\n",
    "for curso in emprestimos_graduacao.index.unique():\n",
    "    serie_curso = emprestimos_graduacao.loc[[curso], ['ano_emprestimo', 'quantidade']]\n",
    "    \n",
    "    X = serie_curso[['ano_emprestimo']]\n",
    "    y = serie_curso['quantidade']\n",
    "    \n",
    "    # Treinar Prophet\n",
    "    model = PoissonRegressor(alpha=0.0, max_iter=1000)\n",
    "    model.fit(X, y)\n",
    "    \n",
    "    # Guardar resultado\n",
    "    valor_2023 = int(model.predict([[2023]])[0])\n",
    "    previsoes.append({'curso': curso, '2023':  max(0, valor_2023)})\n",
    "    \n",
    "    # total_2023 +=  max(0, valor_2023)\n",
    "\n",
    "# previsoes.append({'curso': 'TOTAL', '2023': total_2023})\n",
    "\n",
    "# Transformar previsões em DataFrame\n",
    "df_previsoes = pd.DataFrame(previsoes).set_index('curso')\n",
    "df_previsoes"
   ]
  },
  {
   "cell_type": "code",
   "execution_count": null,
   "id": "6e2b3eff",
   "metadata": {},
   "outputs": [],
   "source": [
    "emprestimos_graduacao.index"
   ]
  },
  {
   "cell_type": "code",
   "execution_count": null,
   "id": "258d1c8b",
   "metadata": {},
   "outputs": [],
   "source": [
    "df_previsoes.index"
   ]
  },
  {
   "cell_type": "code",
   "execution_count": null,
   "id": "75e58a6d",
   "metadata": {},
   "outputs": [],
   "source": [
    "emprestimos_graduacao.dtypes"
   ]
  },
  {
   "cell_type": "code",
   "execution_count": null,
   "id": "68e9b90b",
   "metadata": {},
   "outputs": [],
   "source": [
    "df_previsoes.dtypes"
   ]
  },
  {
   "cell_type": "code",
   "execution_count": null,
   "id": "ab8edb99",
   "metadata": {},
   "outputs": [],
   "source": [
    "df_previsoes = df_previsoes.reset_index().melt(id_vars='curso', var_name='ano_emprestimo',value_name='quantidade')\n",
    "# df_previsoes = df_previsoes.reset_index()"
   ]
  },
  {
   "cell_type": "code",
   "execution_count": null,
   "id": "c4f61a22",
   "metadata": {},
   "outputs": [],
   "source": [
    "df_previsoes.index"
   ]
  },
  {
   "cell_type": "code",
   "execution_count": null,
   "id": "3f863ba1",
   "metadata": {},
   "outputs": [],
   "source": [
    "df_previsoes = df_previsoes.set_index('curso')"
   ]
  },
  {
   "cell_type": "code",
   "execution_count": null,
   "id": "73cf7a41",
   "metadata": {},
   "outputs": [],
   "source": [
    "df_previsoes['ano_emprestimo'] = df_previsoes['ano_emprestimo'].astype('int32')"
   ]
  },
  {
   "cell_type": "code",
   "execution_count": null,
   "id": "4633b8c3",
   "metadata": {},
   "outputs": [],
   "source": [
    "df_previsoes"
   ]
  },
  {
   "cell_type": "code",
   "execution_count": null,
   "id": "a343a10e",
   "metadata": {},
   "outputs": [],
   "source": [
    "df_emprestimos = pd.concat(\n",
    "    [emprestimos_graduacao, df_previsoes]\n",
    ")"
   ]
  },
  {
   "cell_type": "code",
   "execution_count": null,
   "id": "1cf9f070",
   "metadata": {},
   "outputs": [],
   "source": [
    "df_emprestimos"
   ]
  },
  {
   "cell_type": "code",
   "execution_count": null,
   "id": "e98048c6",
   "metadata": {},
   "outputs": [],
   "source": [
    "df_emprestimos = df_emprestimos.reset_index()"
   ]
  },
  {
   "cell_type": "code",
   "execution_count": null,
   "id": "7978c107",
   "metadata": {},
   "outputs": [],
   "source": [
    "emprestimos_cursos_pivot = df_emprestimos.pivot_table(\n",
    "    index='curso',\n",
    "    columns='ano_emprestimo',\n",
    "    values='quantidade',\n",
    "    fill_value = 0,\n",
    "    aggfunc= 'sum',\n",
    "    margins = True,\n",
    "    margins_name = 'TOTAL',\n",
    ")\n",
    "\n",
    "emprestimos_cursos_pivot"
   ]
  },
  {
   "cell_type": "code",
   "execution_count": null,
   "id": "fe0239b6",
   "metadata": {},
   "outputs": [],
   "source": [
    "emprestimos_cursos_pivot"
   ]
  },
  {
   "cell_type": "code",
   "execution_count": null,
   "id": "c3cbbdd8",
   "metadata": {},
   "outputs": [],
   "source": [
    "df_previsoes_graduacao = pd.DataFrame(emprestimos_cursos_pivot)"
   ]
  },
  {
   "cell_type": "code",
   "execution_count": null,
   "id": "412c48b3",
   "metadata": {},
   "outputs": [],
   "source": [
    "df_previsoes_graduacao.to_parquet(\n",
    "    '../data/processed/students_records/records_graduacao_previsao.parquet'\n",
    ")"
   ]
  },
  {
   "cell_type": "code",
   "execution_count": null,
   "id": "4023f31e",
   "metadata": {},
   "outputs": [],
   "source": [
    "previsoes_graduacao = pd.read_parquet('../data/processed/students_records/records_graduacao_previsao.parquet')"
   ]
  },
  {
   "cell_type": "code",
   "execution_count": null,
   "id": "d407c991",
   "metadata": {},
   "outputs": [],
   "source": [
    "previsoes_graduacao"
   ]
  },
  {
   "cell_type": "markdown",
   "id": "7468a272",
   "metadata": {},
   "source": [
    "___"
   ]
  },
  {
   "cell_type": "markdown",
   "id": "a9b84fb6",
   "metadata": {},
   "source": [
    "PÓS-GRADUCAÇÃO"
   ]
  },
  {
   "cell_type": "code",
   "execution_count": null,
   "id": "b9f1df4c",
   "metadata": {},
   "outputs": [],
   "source": [
    "emprestimos_pos_graduacao = pd.read_parquet('../data/processed/students_records/records_pos_graduacao.parquet')"
   ]
  },
  {
   "cell_type": "code",
   "execution_count": null,
   "id": "49275c8e",
   "metadata": {},
   "outputs": [],
   "source": [
    "emprestimos_pos_graduacao"
   ]
  },
  {
   "cell_type": "code",
   "execution_count": null,
   "id": "f051fb6c",
   "metadata": {},
   "outputs": [],
   "source": [
    "emprestimos_pos_graduacao['ano_emprestimo'] = emprestimos_pos_graduacao['data_emprestimo'].dt.year"
   ]
  },
  {
   "cell_type": "code",
   "execution_count": null,
   "id": "18f25d88",
   "metadata": {},
   "outputs": [],
   "source": [
    "emprestimos_pos_graduacao"
   ]
  },
  {
   "cell_type": "code",
   "execution_count": null,
   "id": "5f2974fd",
   "metadata": {},
   "outputs": [],
   "source": [
    "emprestimos_pos_graduacao_agrupado = emprestimos_pos_graduacao.groupby(['ano_emprestimo', 'curso']).size().reset_index(name='quantidade')"
   ]
  },
  {
   "cell_type": "code",
   "execution_count": null,
   "id": "37f3d93c",
   "metadata": {},
   "outputs": [],
   "source": [
    "emprestimos_pos_graduacao_agrupado"
   ]
  },
  {
   "cell_type": "code",
   "execution_count": null,
   "id": "2b3cd622",
   "metadata": {},
   "outputs": [],
   "source": [
    "emprestimos_pos_graduacao_agrupado = emprestimos_pos_graduacao_agrupado.set_index('curso')\n",
    "emprestimos_pos_graduacao_agrupado"
   ]
  },
  {
   "cell_type": "code",
   "execution_count": null,
   "id": "b1518b66",
   "metadata": {},
   "outputs": [],
   "source": [
    "previsoes = []\n",
    "# total_2023 = 0\n",
    "\n",
    "# Iterar sobre cada curso (excluindo o total)\n",
    "for curso in emprestimos_pos_graduacao_agrupado.index.unique():\n",
    "    serie_curso = emprestimos_pos_graduacao_agrupado.loc[[curso], ['ano_emprestimo', 'quantidade']]\n",
    "    \n",
    "    X = serie_curso[['ano_emprestimo']]\n",
    "    y = serie_curso['quantidade']\n",
    "    \n",
    "    # Treinar Prophet\n",
    "    model = PoissonRegressor(alpha=0.0, max_iter=1000)\n",
    "    model.fit(X, y)\n",
    "    \n",
    "    # Guardar resultado\n",
    "    valor_2023 = int(model.predict([[2023]])[0])\n",
    "    previsoes.append({'curso': curso, '2023':  max(0, valor_2023)})\n",
    "    \n",
    "    # total_2023 +=  max(0, valor_2023)\n",
    "\n",
    "# previsoes.append({'curso': 'TOTAL', '2023': total_2023})\n",
    "\n",
    "# Transformar previsões em DataFrame\n",
    "df_previsoes_pos_graduacao = pd.DataFrame(previsoes).set_index('curso')\n",
    "df_previsoes_pos_graduacao"
   ]
  },
  {
   "cell_type": "code",
   "execution_count": null,
   "id": "a8b630ad",
   "metadata": {},
   "outputs": [],
   "source": [
    "df_previsoes_pos_graduacao = df_previsoes_pos_graduacao.reset_index().melt(id_vars='curso', var_name='ano_emprestimo',value_name='quantidade')"
   ]
  },
  {
   "cell_type": "code",
   "execution_count": null,
   "id": "95b20a2c",
   "metadata": {},
   "outputs": [],
   "source": [
    "df_previsoes_pos_graduacao"
   ]
  },
  {
   "cell_type": "code",
   "execution_count": null,
   "id": "923e8230",
   "metadata": {},
   "outputs": [],
   "source": [
    "df_previsoes_pos_graduacao = df_previsoes_pos_graduacao.set_index('curso')"
   ]
  },
  {
   "cell_type": "code",
   "execution_count": null,
   "id": "db7e6f42",
   "metadata": {},
   "outputs": [],
   "source": [
    "df_previsoes_pos_graduacao['ano_emprestimo'] = df_previsoes_pos_graduacao['ano_emprestimo'].astype('int32')"
   ]
  },
  {
   "cell_type": "code",
   "execution_count": null,
   "id": "5bc04f42",
   "metadata": {},
   "outputs": [],
   "source": [
    "df_emprestimos_pos_graduacao = pd.concat(\n",
    "    [emprestimos_pos_graduacao_agrupado, df_previsoes_pos_graduacao]\n",
    ")\n",
    "\n",
    "df_emprestimos_pos_graduacao"
   ]
  },
  {
   "cell_type": "code",
   "execution_count": null,
   "id": "54aea11d",
   "metadata": {},
   "outputs": [],
   "source": [
    "df_emprestimos_pos_graduacao_pos_2017 = df_emprestimos_pos_graduacao[df_emprestimos_pos_graduacao['ano_emprestimo'] > 2017]\n",
    "df_emprestimos_pos_graduacao_pos_2017"
   ]
  },
  {
   "cell_type": "code",
   "execution_count": null,
   "id": "d817d09d",
   "metadata": {},
   "outputs": [],
   "source": [
    "df_emprestimos_pos_graduacao[df_emprestimos_pos_graduacao['ano_emprestimo'] == 2021]"
   ]
  },
  {
   "cell_type": "code",
   "execution_count": null,
   "id": "1311febb",
   "metadata": {},
   "outputs": [],
   "source": [
    "df_emprestimos_pos_graduacao = df_emprestimos_pos_graduacao.reset_index()"
   ]
  },
  {
   "cell_type": "code",
   "execution_count": null,
   "id": "177bb0e7",
   "metadata": {},
   "outputs": [],
   "source": [
    "df_emprestimos_pos_graduacao_pos_2017 = df_emprestimos_pos_graduacao_pos_2017.reset_index()"
   ]
  },
  {
   "cell_type": "code",
   "execution_count": null,
   "id": "a1240cf7",
   "metadata": {},
   "outputs": [],
   "source": [
    "df_emprestimos_pos_graduacao_pos_2017.index"
   ]
  },
  {
   "cell_type": "code",
   "execution_count": null,
   "id": "26e506b2",
   "metadata": {},
   "outputs": [],
   "source": [
    "emprestimos_pos_graduacao_pivot = df_emprestimos_pos_graduacao.pivot_table(\n",
    "    index='curso',\n",
    "    columns='ano_emprestimo',\n",
    "    values='quantidade',\n",
    "    fill_value = 0,\n",
    "    aggfunc= 'sum',\n",
    "    margins = True,\n",
    "    margins_name = 'TOTAL',\n",
    ")\n",
    "\n",
    "emprestimos_pos_graduacao_pivot"
   ]
  },
  {
   "cell_type": "code",
   "execution_count": null,
   "id": "c9535a62",
   "metadata": {},
   "outputs": [],
   "source": [
    "emprestimos_pos_graduacao_pivot.to_parquet(\n",
    "    '../data/processed/students_records/records_pos_graduacao_previsao.parquet'\n",
    ")"
   ]
  },
  {
   "cell_type": "code",
   "execution_count": null,
   "id": "02bc0c2e",
   "metadata": {},
   "outputs": [],
   "source": [
    "emprestimos_pos_graduacao_pos_2017_pivot = df_emprestimos_pos_graduacao_pos_2017.pivot_table(\n",
    "    index='curso',\n",
    "    columns='ano_emprestimo',\n",
    "    values='quantidade',\n",
    "    fill_value = 0,\n",
    "    aggfunc= 'sum',\n",
    "    margins = True,\n",
    "    margins_name = 'TOTAL',\n",
    ")\n",
    "\n",
    "emprestimos_pos_graduacao_pos_2017_pivot"
   ]
  },
  {
   "cell_type": "code",
   "execution_count": null,
   "id": "2782a1c0",
   "metadata": {},
   "outputs": [],
   "source": [
    "def diferenca_percentual_ano_anterior(x,y):\n",
    "    return round(((x/y *100)-100),2)"
   ]
  },
  {
   "cell_type": "code",
   "execution_count": null,
   "id": "0b6affd7",
   "metadata": {},
   "outputs": [],
   "source": [
    "percentual_2021 = diferenca_percentual_ano_anterior(emprestimos_pos_graduacao_pos_2017_pivot.iloc[:,3],emprestimos_pos_graduacao_pos_2017_pivot.iloc[:,2])\n",
    "percentual_2022 = diferenca_percentual_ano_anterior(emprestimos_pos_graduacao_pos_2017_pivot.iloc[:,4],emprestimos_pos_graduacao_pos_2017_pivot.iloc[:,3])\n",
    "percentual_2023 = diferenca_percentual_ano_anterior(emprestimos_pos_graduacao_pos_2017_pivot.iloc[:,5],emprestimos_pos_graduacao_pos_2017_pivot.iloc[:,4])"
   ]
  },
  {
   "cell_type": "code",
   "execution_count": null,
   "id": "fe00cad3",
   "metadata": {},
   "outputs": [],
   "source": [
    "df_percentual = pd.DataFrame(\n",
    "    {\n",
    "        '2021': percentual_2021,\n",
    "        '2022': percentual_2022,\n",
    "        '2023': percentual_2023,\n",
    "    }\n",
    ")\n",
    "\n",
    "df_percentual"
   ]
  },
  {
   "cell_type": "code",
   "execution_count": null,
   "id": "97377690",
   "metadata": {},
   "outputs": [],
   "source": [
    "df_percentual.reset_index(inplace=True)\n",
    "df_percentual.columns = df_percentual.columns.str.capitalize()\n",
    "df_percentual.Curso = df_percentual.Curso.str.capitalize()\n",
    "\n",
    "df_percentual"
   ]
  },
  {
   "cell_type": "code",
   "execution_count": null,
   "id": "b59aa823",
   "metadata": {},
   "outputs": [],
   "source": [
    "df_percentual.to_parquet(\n",
    "    '../data/processed/students_records/records_percentual_pos_graduacao.parquet'\n",
    ")"
   ]
  },
  {
   "cell_type": "code",
   "execution_count": null,
   "id": "5700bdf4",
   "metadata": {},
   "outputs": [],
   "source": []
  }
 ],
 "metadata": {
  "kernelspec": {
   "display_name": "py_313_data",
   "language": "python",
   "name": "python3"
  },
  "language_info": {
   "codemirror_mode": {
    "name": "ipython",
    "version": 3
   },
   "file_extension": ".py",
   "mimetype": "text/x-python",
   "name": "python",
   "nbconvert_exporter": "python",
   "pygments_lexer": "ipython3",
   "version": "3.13.5"
  }
 },
 "nbformat": 4,
 "nbformat_minor": 5
}
