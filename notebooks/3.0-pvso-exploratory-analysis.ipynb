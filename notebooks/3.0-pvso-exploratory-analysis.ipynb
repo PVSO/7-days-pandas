{
 "cells": [
  {
   "cell_type": "code",
   "execution_count": null,
   "id": "837ac96d",
   "metadata": {
    "ExecuteTime": {
     "end_time": "2025-10-11T23:32:52.276717Z",
     "start_time": "2025-10-11T23:32:52.077059Z"
    }
   },
   "outputs": [],
   "source": [
    "import pandas as pd\n",
    "import datetime as dt\n",
    "import plotly.express as px\n",
    "import matplotlib.ticker as ticker\n",
    "import matplotlib.pyplot as plt\n",
    "import seaborn as sns"
   ]
  },
  {
   "cell_type": "code",
   "execution_count": null,
   "id": "8abaffe9",
   "metadata": {},
   "outputs": [],
   "source": [
    "df = pd.read_csv('../data/processed/emprestimos_exemplares.csv')"
   ]
  },
  {
   "cell_type": "code",
   "execution_count": null,
   "id": "2bc3f7ab",
   "metadata": {},
   "outputs": [],
   "source": [
    "\n",
    "df.head()"
   ]
  },
  {
   "cell_type": "code",
   "execution_count": null,
   "id": "20801fb3",
   "metadata": {
    "ExecuteTime": {
     "end_time": "2025-10-11T23:33:13.330131Z",
     "start_time": "2025-10-11T23:33:05.494294Z"
    }
   },
   "outputs": [],
   "source": [
    "df = pd.read_parquet('../data/processed/emprestimos_exemplares.parquet')"
   ]
  },
  {
   "cell_type": "code",
   "execution_count": null,
   "id": "b4b47084",
   "metadata": {},
   "outputs": [],
   "source": [
    "df['biblioteca'].unique()"
   ]
  },
  {
   "cell_type": "code",
   "execution_count": null,
   "id": "473a7997",
   "metadata": {},
   "outputs": [],
   "source": [
    "df.head()"
   ]
  },
  {
   "cell_type": "code",
   "execution_count": null,
   "id": "04d2e663",
   "metadata": {},
   "outputs": [],
   "source": [
    "df.columns"
   ]
  },
  {
   "cell_type": "code",
   "execution_count": null,
   "id": "7268b7bc",
   "metadata": {},
   "outputs": [],
   "source": [
    "len(df.id_emprestimo.drop_duplicates())"
   ]
  },
  {
   "cell_type": "code",
   "execution_count": null,
   "id": "4f1b0be7",
   "metadata": {},
   "outputs": [],
   "source": [
    "len(df)"
   ]
  },
  {
   "cell_type": "code",
   "execution_count": null,
   "id": "2d9d82cd",
   "metadata": {},
   "outputs": [],
   "source": [
    "df.dtypes"
   ]
  },
  {
   "cell_type": "markdown",
   "id": "b528cdc4",
   "metadata": {},
   "source": [
    "A diretoria da biblioteca gostaria de entender se a quantidade de empréstimos está diminuindo, aumentando ou permanecendo igual ao decorrer dos últimos anos."
   ]
  },
  {
   "cell_type": "code",
   "execution_count": null,
   "id": "c7620a7b",
   "metadata": {},
   "outputs": [],
   "source": [
    "df['data_emprestimo'].value_counts()"
   ]
  },
  {
   "cell_type": "code",
   "execution_count": 3,
   "id": "2201e46b",
   "metadata": {
    "ExecuteTime": {
     "end_time": "2025-10-11T23:33:20.517202Z",
     "start_time": "2025-10-11T23:33:16.997536Z"
    }
   },
   "outputs": [],
   "source": [
    "# convertendo o tipo de data_emprestimo para datetime\n",
    "\n",
    "df['data_emprestimo'] = pd.to_datetime(df['data_emprestimo'], dayfirst=True, format='ISO8601')"
   ]
  },
  {
   "cell_type": "code",
   "execution_count": 4,
   "id": "b3827e86",
   "metadata": {
    "ExecuteTime": {
     "end_time": "2025-10-11T23:33:47.858727Z",
     "start_time": "2025-10-11T23:33:42.849062Z"
    }
   },
   "outputs": [],
   "source": [
    "# verifique qual é a quantidade total de exemplares emprestados por cada ano\n",
    "# plote um gráfico de linhas.\n",
    "\n",
    "qtd_por_ano = df['data_emprestimo'].value_counts().reset_index()\n",
    "\n",
    "qtd_por_ano.rename(\n",
    "    columns={\n",
    "        'data_emprestimo': 'data',\n",
    "        'count': 'quantidade'\n",
    "    },\n",
    "    inplace=True\n",
    ")\n",
    "\n",
    "# qtd_por_ano\n"
   ]
  },
  {
   "cell_type": "code",
   "execution_count": null,
   "id": "10591d0e",
   "metadata": {
    "ExecuteTime": {
     "end_time": "2025-10-11T23:34:03.562691Z",
     "start_time": "2025-10-11T23:33:51.528242Z"
    }
   },
   "outputs": [],
   "source": [
    "# verifique qual é a quantidade total de exemplares emprestados por cada ano\n",
    "# plote um gráfico de linhas.\n",
    "\n",
    "qtd_por_ano_agrupado = qtd_por_ano.groupby(\n",
    "    by=qtd_por_ano.data.dt.year).sum(numeric_only=True).reset_index()\n",
    "\n",
    "qtd_por_ano_agrupado.rename(\n",
    "    columns={\n",
    "        'data': 'ano'\n",
    "    },\n",
    "    inplace=True\n",
    ")\n",
    "\n",
    "# qtd_por_ano_agrupado.columns\n"
   ]
  },
  {
   "cell_type": "code",
   "execution_count": 7,
   "id": "242993f7",
   "metadata": {},
   "outputs": [
    {
     "data": {
      "application/vnd.plotly.v1+json": {
       "config": {
        "plotlyServerURL": "https://plot.ly"
       },
       "data": [
        {
         "hovertemplate": "ano=%{x}<br>quantidade=%{text}<extra></extra>",
         "legendgroup": "",
         "marker": {
          "color": "#636efa",
          "pattern": {
           "shape": ""
          }
         },
         "name": "",
         "orientation": "v",
         "showlegend": false,
         "text": {
          "bdata": "AAAAAJCzA0EAAAAAMPkHQQAAAACoBQtBAAAAAOCl/UAAAAAAqMEKQQAAAABwEgpBAAAAAOBaCkEAAAAA8KoKQQAAAAAAsQdBAAAAAMj4BEEAAAAAgBvZQAAAAAAA1bNAAAAAAEAS8EA=",
          "dtype": "f8"
         },
         "textposition": "auto",
         "type": "bar",
         "x": {
          "bdata": "2gcAANsHAADcBwAA3QcAAN4HAADfBwAA4AcAAOEHAADiBwAA4wcAAOQHAADlBwAA5gcAAA==",
          "dtype": "i4"
         },
         "xaxis": "x",
         "y": {
          "bdata": "cnYCACb/AgC1YAMAXtoBADVYAwBOQgMAXEsDAF5VAwAg9gIAGZ8CAG5kAADVEwAAJAEBAA==",
          "dtype": "i4"
         },
         "yaxis": "y"
        }
       ],
       "layout": {
        "annotations": [
         {
          "align": "left",
          "font": {
           "size": 12
          },
          "showarrow": false,
          "text": "Desde 2014 observa-se uma tendência de queda nos empréstimos, com redução acentuada em 2019 possivelmente relacionada às restrições da pandemia de COVID-19.<br>Em 2022 houve uma leve recuperação, refletindo a retomada das atividades presenciais.<br>Recomenda-se investigar fatores internos e externos que possam ter contribuído para a diminuição contínua desde 2014 e durante o período pandêmico.",
          "x": 0,
          "xref": "paper",
          "y": -0.4,
          "yref": "paper"
         }
        ],
        "barmode": "relative",
        "legend": {
         "tracegroupgap": 0
        },
        "margin": {
         "b": 120,
         "t": 80
        },
        "template": {
         "data": {
          "bar": [
           {
            "error_x": {
             "color": "#2a3f5f"
            },
            "error_y": {
             "color": "#2a3f5f"
            },
            "marker": {
             "line": {
              "color": "#E5ECF6",
              "width": 0.5
             },
             "pattern": {
              "fillmode": "overlay",
              "size": 10,
              "solidity": 0.2
             }
            },
            "type": "bar"
           }
          ],
          "barpolar": [
           {
            "marker": {
             "line": {
              "color": "#E5ECF6",
              "width": 0.5
             },
             "pattern": {
              "fillmode": "overlay",
              "size": 10,
              "solidity": 0.2
             }
            },
            "type": "barpolar"
           }
          ],
          "carpet": [
           {
            "aaxis": {
             "endlinecolor": "#2a3f5f",
             "gridcolor": "white",
             "linecolor": "white",
             "minorgridcolor": "white",
             "startlinecolor": "#2a3f5f"
            },
            "baxis": {
             "endlinecolor": "#2a3f5f",
             "gridcolor": "white",
             "linecolor": "white",
             "minorgridcolor": "white",
             "startlinecolor": "#2a3f5f"
            },
            "type": "carpet"
           }
          ],
          "choropleth": [
           {
            "colorbar": {
             "outlinewidth": 0,
             "ticks": ""
            },
            "type": "choropleth"
           }
          ],
          "contour": [
           {
            "colorbar": {
             "outlinewidth": 0,
             "ticks": ""
            },
            "colorscale": [
             [
              0,
              "#0d0887"
             ],
             [
              0.1111111111111111,
              "#46039f"
             ],
             [
              0.2222222222222222,
              "#7201a8"
             ],
             [
              0.3333333333333333,
              "#9c179e"
             ],
             [
              0.4444444444444444,
              "#bd3786"
             ],
             [
              0.5555555555555556,
              "#d8576b"
             ],
             [
              0.6666666666666666,
              "#ed7953"
             ],
             [
              0.7777777777777778,
              "#fb9f3a"
             ],
             [
              0.8888888888888888,
              "#fdca26"
             ],
             [
              1,
              "#f0f921"
             ]
            ],
            "type": "contour"
           }
          ],
          "contourcarpet": [
           {
            "colorbar": {
             "outlinewidth": 0,
             "ticks": ""
            },
            "type": "contourcarpet"
           }
          ],
          "heatmap": [
           {
            "colorbar": {
             "outlinewidth": 0,
             "ticks": ""
            },
            "colorscale": [
             [
              0,
              "#0d0887"
             ],
             [
              0.1111111111111111,
              "#46039f"
             ],
             [
              0.2222222222222222,
              "#7201a8"
             ],
             [
              0.3333333333333333,
              "#9c179e"
             ],
             [
              0.4444444444444444,
              "#bd3786"
             ],
             [
              0.5555555555555556,
              "#d8576b"
             ],
             [
              0.6666666666666666,
              "#ed7953"
             ],
             [
              0.7777777777777778,
              "#fb9f3a"
             ],
             [
              0.8888888888888888,
              "#fdca26"
             ],
             [
              1,
              "#f0f921"
             ]
            ],
            "type": "heatmap"
           }
          ],
          "histogram": [
           {
            "marker": {
             "pattern": {
              "fillmode": "overlay",
              "size": 10,
              "solidity": 0.2
             }
            },
            "type": "histogram"
           }
          ],
          "histogram2d": [
           {
            "colorbar": {
             "outlinewidth": 0,
             "ticks": ""
            },
            "colorscale": [
             [
              0,
              "#0d0887"
             ],
             [
              0.1111111111111111,
              "#46039f"
             ],
             [
              0.2222222222222222,
              "#7201a8"
             ],
             [
              0.3333333333333333,
              "#9c179e"
             ],
             [
              0.4444444444444444,
              "#bd3786"
             ],
             [
              0.5555555555555556,
              "#d8576b"
             ],
             [
              0.6666666666666666,
              "#ed7953"
             ],
             [
              0.7777777777777778,
              "#fb9f3a"
             ],
             [
              0.8888888888888888,
              "#fdca26"
             ],
             [
              1,
              "#f0f921"
             ]
            ],
            "type": "histogram2d"
           }
          ],
          "histogram2dcontour": [
           {
            "colorbar": {
             "outlinewidth": 0,
             "ticks": ""
            },
            "colorscale": [
             [
              0,
              "#0d0887"
             ],
             [
              0.1111111111111111,
              "#46039f"
             ],
             [
              0.2222222222222222,
              "#7201a8"
             ],
             [
              0.3333333333333333,
              "#9c179e"
             ],
             [
              0.4444444444444444,
              "#bd3786"
             ],
             [
              0.5555555555555556,
              "#d8576b"
             ],
             [
              0.6666666666666666,
              "#ed7953"
             ],
             [
              0.7777777777777778,
              "#fb9f3a"
             ],
             [
              0.8888888888888888,
              "#fdca26"
             ],
             [
              1,
              "#f0f921"
             ]
            ],
            "type": "histogram2dcontour"
           }
          ],
          "mesh3d": [
           {
            "colorbar": {
             "outlinewidth": 0,
             "ticks": ""
            },
            "type": "mesh3d"
           }
          ],
          "parcoords": [
           {
            "line": {
             "colorbar": {
              "outlinewidth": 0,
              "ticks": ""
             }
            },
            "type": "parcoords"
           }
          ],
          "pie": [
           {
            "automargin": true,
            "type": "pie"
           }
          ],
          "scatter": [
           {
            "fillpattern": {
             "fillmode": "overlay",
             "size": 10,
             "solidity": 0.2
            },
            "type": "scatter"
           }
          ],
          "scatter3d": [
           {
            "line": {
             "colorbar": {
              "outlinewidth": 0,
              "ticks": ""
             }
            },
            "marker": {
             "colorbar": {
              "outlinewidth": 0,
              "ticks": ""
             }
            },
            "type": "scatter3d"
           }
          ],
          "scattercarpet": [
           {
            "marker": {
             "colorbar": {
              "outlinewidth": 0,
              "ticks": ""
             }
            },
            "type": "scattercarpet"
           }
          ],
          "scattergeo": [
           {
            "marker": {
             "colorbar": {
              "outlinewidth": 0,
              "ticks": ""
             }
            },
            "type": "scattergeo"
           }
          ],
          "scattergl": [
           {
            "marker": {
             "colorbar": {
              "outlinewidth": 0,
              "ticks": ""
             }
            },
            "type": "scattergl"
           }
          ],
          "scattermap": [
           {
            "marker": {
             "colorbar": {
              "outlinewidth": 0,
              "ticks": ""
             }
            },
            "type": "scattermap"
           }
          ],
          "scattermapbox": [
           {
            "marker": {
             "colorbar": {
              "outlinewidth": 0,
              "ticks": ""
             }
            },
            "type": "scattermapbox"
           }
          ],
          "scatterpolar": [
           {
            "marker": {
             "colorbar": {
              "outlinewidth": 0,
              "ticks": ""
             }
            },
            "type": "scatterpolar"
           }
          ],
          "scatterpolargl": [
           {
            "marker": {
             "colorbar": {
              "outlinewidth": 0,
              "ticks": ""
             }
            },
            "type": "scatterpolargl"
           }
          ],
          "scatterternary": [
           {
            "marker": {
             "colorbar": {
              "outlinewidth": 0,
              "ticks": ""
             }
            },
            "type": "scatterternary"
           }
          ],
          "surface": [
           {
            "colorbar": {
             "outlinewidth": 0,
             "ticks": ""
            },
            "colorscale": [
             [
              0,
              "#0d0887"
             ],
             [
              0.1111111111111111,
              "#46039f"
             ],
             [
              0.2222222222222222,
              "#7201a8"
             ],
             [
              0.3333333333333333,
              "#9c179e"
             ],
             [
              0.4444444444444444,
              "#bd3786"
             ],
             [
              0.5555555555555556,
              "#d8576b"
             ],
             [
              0.6666666666666666,
              "#ed7953"
             ],
             [
              0.7777777777777778,
              "#fb9f3a"
             ],
             [
              0.8888888888888888,
              "#fdca26"
             ],
             [
              1,
              "#f0f921"
             ]
            ],
            "type": "surface"
           }
          ],
          "table": [
           {
            "cells": {
             "fill": {
              "color": "#EBF0F8"
             },
             "line": {
              "color": "white"
             }
            },
            "header": {
             "fill": {
              "color": "#C8D4E3"
             },
             "line": {
              "color": "white"
             }
            },
            "type": "table"
           }
          ]
         },
         "layout": {
          "annotationdefaults": {
           "arrowcolor": "#2a3f5f",
           "arrowhead": 0,
           "arrowwidth": 1
          },
          "autotypenumbers": "strict",
          "coloraxis": {
           "colorbar": {
            "outlinewidth": 0,
            "ticks": ""
           }
          },
          "colorscale": {
           "diverging": [
            [
             0,
             "#8e0152"
            ],
            [
             0.1,
             "#c51b7d"
            ],
            [
             0.2,
             "#de77ae"
            ],
            [
             0.3,
             "#f1b6da"
            ],
            [
             0.4,
             "#fde0ef"
            ],
            [
             0.5,
             "#f7f7f7"
            ],
            [
             0.6,
             "#e6f5d0"
            ],
            [
             0.7,
             "#b8e186"
            ],
            [
             0.8,
             "#7fbc41"
            ],
            [
             0.9,
             "#4d9221"
            ],
            [
             1,
             "#276419"
            ]
           ],
           "sequential": [
            [
             0,
             "#0d0887"
            ],
            [
             0.1111111111111111,
             "#46039f"
            ],
            [
             0.2222222222222222,
             "#7201a8"
            ],
            [
             0.3333333333333333,
             "#9c179e"
            ],
            [
             0.4444444444444444,
             "#bd3786"
            ],
            [
             0.5555555555555556,
             "#d8576b"
            ],
            [
             0.6666666666666666,
             "#ed7953"
            ],
            [
             0.7777777777777778,
             "#fb9f3a"
            ],
            [
             0.8888888888888888,
             "#fdca26"
            ],
            [
             1,
             "#f0f921"
            ]
           ],
           "sequentialminus": [
            [
             0,
             "#0d0887"
            ],
            [
             0.1111111111111111,
             "#46039f"
            ],
            [
             0.2222222222222222,
             "#7201a8"
            ],
            [
             0.3333333333333333,
             "#9c179e"
            ],
            [
             0.4444444444444444,
             "#bd3786"
            ],
            [
             0.5555555555555556,
             "#d8576b"
            ],
            [
             0.6666666666666666,
             "#ed7953"
            ],
            [
             0.7777777777777778,
             "#fb9f3a"
            ],
            [
             0.8888888888888888,
             "#fdca26"
            ],
            [
             1,
             "#f0f921"
            ]
           ]
          },
          "colorway": [
           "#636efa",
           "#EF553B",
           "#00cc96",
           "#ab63fa",
           "#FFA15A",
           "#19d3f3",
           "#FF6692",
           "#B6E880",
           "#FF97FF",
           "#FECB52"
          ],
          "font": {
           "color": "#2a3f5f"
          },
          "geo": {
           "bgcolor": "white",
           "lakecolor": "white",
           "landcolor": "#E5ECF6",
           "showlakes": true,
           "showland": true,
           "subunitcolor": "white"
          },
          "hoverlabel": {
           "align": "left"
          },
          "hovermode": "closest",
          "mapbox": {
           "style": "light"
          },
          "paper_bgcolor": "white",
          "plot_bgcolor": "#E5ECF6",
          "polar": {
           "angularaxis": {
            "gridcolor": "white",
            "linecolor": "white",
            "ticks": ""
           },
           "bgcolor": "#E5ECF6",
           "radialaxis": {
            "gridcolor": "white",
            "linecolor": "white",
            "ticks": ""
           }
          },
          "scene": {
           "xaxis": {
            "backgroundcolor": "#E5ECF6",
            "gridcolor": "white",
            "gridwidth": 2,
            "linecolor": "white",
            "showbackground": true,
            "ticks": "",
            "zerolinecolor": "white"
           },
           "yaxis": {
            "backgroundcolor": "#E5ECF6",
            "gridcolor": "white",
            "gridwidth": 2,
            "linecolor": "white",
            "showbackground": true,
            "ticks": "",
            "zerolinecolor": "white"
           },
           "zaxis": {
            "backgroundcolor": "#E5ECF6",
            "gridcolor": "white",
            "gridwidth": 2,
            "linecolor": "white",
            "showbackground": true,
            "ticks": "",
            "zerolinecolor": "white"
           }
          },
          "shapedefaults": {
           "line": {
            "color": "#2a3f5f"
           }
          },
          "ternary": {
           "aaxis": {
            "gridcolor": "white",
            "linecolor": "white",
            "ticks": ""
           },
           "baxis": {
            "gridcolor": "white",
            "linecolor": "white",
            "ticks": ""
           },
           "bgcolor": "#E5ECF6",
           "caxis": {
            "gridcolor": "white",
            "linecolor": "white",
            "ticks": ""
           }
          },
          "title": {
           "x": 0.05
          },
          "xaxis": {
           "automargin": true,
           "gridcolor": "white",
           "linecolor": "white",
           "ticks": "",
           "title": {
            "standoff": 15
           },
           "zerolinecolor": "white",
           "zerolinewidth": 2
          },
          "yaxis": {
           "automargin": true,
           "gridcolor": "white",
           "linecolor": "white",
           "ticks": "",
           "title": {
            "standoff": 15
           },
           "zerolinecolor": "white",
           "zerolinewidth": 2
          }
         }
        },
        "title": {
         "text": "A quantidade de empréstimos está aumentando ou diminuindo ao decorrer dos últimos anos?"
        },
        "xaxis": {
         "anchor": "y",
         "domain": [
          0,
          1
         ],
         "title": {
          "text": "ano"
         }
        },
        "yaxis": {
         "anchor": "x",
         "domain": [
          0,
          1
         ],
         "title": {
          "text": "quantidade"
         }
        }
       }
      }
     },
     "metadata": {},
     "output_type": "display_data"
    }
   ],
   "source": [
    "\n",
    "# fig = px.line(\n",
    "#     qtd_por_ano_agrupado,\n",
    "#     x='ano',\n",
    "#     y='quantidade',\n",
    "#     markers=True,\n",
    "#     title='verifique qual é a quantidade total de exemplares emprestados por cada ano'\n",
    "# )\n",
    "\n",
    "fig = px.bar(\n",
    "    qtd_por_ano_agrupado,\n",
    "    x='ano',\n",
    "    y='quantidade',\n",
    "    # text_auto=True,\n",
    "    text='quantidade',\n",
    "    title='A quantidade de empréstimos está aumentando ou diminuindo ao decorrer dos últimos anos?'\n",
    ")\n",
    "\n",
    "fig.add_annotation(\n",
    "    text='Desde 2014 observa-se uma tendência de queda nos empréstimos, com redução acentuada em 2019 possivelmente relacionada às restrições da pandemia de COVID-19.<br>Em 2022 houve uma leve recuperação, refletindo a retomada das atividades presenciais.<br>Recomenda-se investigar fatores internos e externos que possam ter contribuído para a diminuição contínua desde 2014 e durante o período pandêmico.',\n",
    "    xref=\"paper\", yref=\"paper\",\n",
    "    x=0, y=-0.4,  # posição abaixo do gráfico\n",
    "    showarrow=False,\n",
    "    font=dict(size=12),\n",
    "    align=\"left\"\n",
    ")\n",
    "\n",
    "# Ajustar layout para não cortar o texto\n",
    "fig.update_layout(\n",
    "    margin=dict(t=80, b=120),\n",
    ")\n",
    "\n",
    "fig.show()"
   ]
  },
  {
   "cell_type": "markdown",
   "id": "67582995",
   "metadata": {},
   "source": [
    "Percebe-se que desde 2014, o número de empréstimos vem diminuíndo, com queda acentuada no ano de 2019.\n",
    "\n",
    "Acredita-se que a queda em 2019 se deu por causa da restrição sanitária decorrida da pandemia do COVID-19\n",
    "\n",
    "Em contrapartida, houve um pequeno aumento dos empréstimos no ano de 2022, decorrente da volta da \"normalidade\".\n",
    "\n",
    "Contudo, apesar do pequeno aumento em 2022, faz-se necessário que a direção da Biblioteca tome medidas investigativas para elucidar o que está ocorrendo desde 2014 com os procedimentos realizados, além de uma investigação mais direcionada para os anos de pandemia (2019 e 2020). Alguns questionamentos importantes devem ser respondidos em outras análises, como:\n",
    "\n",
    "- O número de alunos da universidade vem diminuindo?\n",
    "- Como está a pesquisa de satisfação dos usuários da biblioteca?\n",
    "- Quais são as estratégias de marketing que a biblioteca está realizando?\n",
    "- De que forma as restrições sanitárias impactaram diretamente o funcionamento da biblioteca e o acesso ao acervo físico?\n",
    "- Houve implementação de alternativas digitais ou serviços remotos durante o período de pandemia? Se sim, quantos empréstimos foram realizados em comparação aos físicos?"
   ]
  },
  {
   "cell_type": "code",
   "execution_count": null,
   "id": "5c1fecf2",
   "metadata": {},
   "outputs": [],
   "source": [
    "qtd_por_ano_agrupado"
   ]
  },
  {
   "cell_type": "code",
   "execution_count": null,
   "id": "82e4c936",
   "metadata": {},
   "outputs": [],
   "source": [
    "df['biblioteca'].unique()"
   ]
  },
  {
   "cell_type": "code",
   "execution_count": null,
   "id": "2cc98b29d1b5eede",
   "metadata": {},
   "outputs": [],
   "source": [
    "# Renomeando as bibliotecas da base de dados\n",
    "\n",
    "df['biblioteca'] = df['biblioteca'].replace({\n",
    "    'Biblioteca Central Zila Mamede': 'BCZM',\n",
    "    'Biblioteca Setorial Prof. Rodolfo Helinski - Escola Agrícola de Jundiaí - EAJ  - Macaiba': 'BSEAJ',\n",
    "    'Biblioteca Setorial Bertha Cruz Enders - \\xadEscola de Saúde da UFRN - ESUFRN': 'BSES',\n",
    "    'Biblioteca Setorial do Centro Ciências da Saúde - CCS': 'BSCCS',\n",
    "    'Biblioteca Setorial Prof. Alberto Moreira Campos - \\xadDepartamento de Odontologia': 'BSDO',\n",
    "    'Biblioteca Setorial Prof. Ronaldo Xavier de Arruda - CCET': 'BSCCET',\n",
    "    'Biblioteca Setorial do Centro de Ciências Humanas, Letras e Artes - CCHLA': 'BSCCHLA – CCHLA',\n",
    "    'Biblioteca Setorial Prof. Horácio Nicolas Solimo - \\xad Engenharia Química - EQ - CT': 'BSEQ',\n",
    "    'Biblioteca Setorial Prof. Francisco Gurgel De Azevedo - Instituto Química - IQ': 'BSIQ',\n",
    "    'Biblioteca Setorial do Centro Ciências Sociais Aplicadas - CCSA': 'BSCCSA – CCSA',\n",
    "    'Biblioteca Setorial do Departamento de Artes - DEART': 'BSDEART – DEART',\n",
    "    'Biblioteca Setorial Prof. Dr. Marcelo Bezerra de Melo Tinôco - DARQ - \\xadCT': 'BSDARQ',\n",
    "    'Biblioteca Setorial Árvore do Conhecimento - Instituto do Cérebro - ICe': 'BSICE',\n",
    "    'Biblioteca Setorial Moacyr de Góes - CE': 'BSCE',\n",
    "    'Biblioteca Setorial Prof. Leopoldo Nelson - \\xadCentro de Biociências - CB': 'BSCB',\n",
    "    'Biblioteca Setorial Dr. Paulo Bezerra - EMCM/RN - Caicó': 'BSEMCM',\n",
    "    'Biblioteca Setorial Pe. Jaime Diniz - Escola de Música - EMUFRN': 'BSEMUFRN',\n",
    "    'Biblioteca Setorial Profª. Maria Lúcia da Costa Bezerra - \\xadCERES\\xad - Caicó': 'BSCERES',\n",
    "    'Biblioteca Setorial Profª. Maria José Mamede Galvão - FELCS - Currais Novos': 'BSFELCS',\n",
    "    'Biblioteca Setorial do Núcleo de Educação da Infância - NEI': 'BSNEI',\n",
    "    'Biblioteca Setorial da Faculdade de Ciências da Saúde do Trairi - FACISA - Santa Cruz': 'BSFACISA',\n",
    "    'Biblioteca Setorial do Núcleo de Ensino Superior do Agreste - NESA - Nova Cruz': 'BSNESA – NESA'\n",
    "})"
   ]
  },
  {
   "cell_type": "code",
   "execution_count": null,
   "id": "994c22a0",
   "metadata": {},
   "outputs": [],
   "source": [
    "df['biblioteca'].unique()"
   ]
  },
  {
   "cell_type": "code",
   "execution_count": null,
   "id": "af928f7e",
   "metadata": {},
   "outputs": [],
   "source": [
    "sum(qtd_por_ano_agrupado.quantidade)"
   ]
  },
  {
   "cell_type": "code",
   "execution_count": null,
   "id": "7a457caa",
   "metadata": {},
   "outputs": [],
   "source": [
    "# gerenciar a programação de férias dos colaboradores de acordo com os meses de menor demanda;\n",
    "# programar atividades que não sejam de atendimento ao usuário para períodos específicos de\n",
    "# menor demanda.\n",
    "\n",
    "# Portanto, gere uma tabela com a quantidade total de exemplares emprestados por mês e descubra\n",
    "# quais meses são os que possuem a maior quantidade de empréstimos realizados.\n",
    "\n",
    "qtd_por_mes_agrupado = qtd_por_ano.groupby(\n",
    "    by=qtd_por_ano.data.dt.month\n",
    "    ).sum(numeric_only=True).reset_index()\n",
    "\n",
    "qtd_por_mes_agrupado.rename(\n",
    "    columns={\n",
    "        'data': 'mes'\n",
    "    },\n",
    "    inplace=True\n",
    ")\n",
    "\n",
    "# qtd_por_mes_agrupado\n",
    "\n",
    "mes_renomear = {\n",
    "    1: 'jan',\n",
    "    2: 'fev',\n",
    "    3: 'mar',\n",
    "    4: 'abr',\n",
    "    5: 'mai',\n",
    "    6: 'jun',\n",
    "    7: 'jul',\n",
    "    8: 'ago',\n",
    "    9: 'set',\n",
    "    10: 'out',\n",
    "    11: 'nov',\n",
    "    12: 'dez',\n",
    "}\n",
    "\n",
    "qtd_por_mes_agrupado['mes'] = qtd_por_mes_agrupado['mes'].map(mes_renomear)\n",
    "\n",
    "# qtd_por_mes_agrupado.sort_values(by='quantidade',ascending=False)\n",
    "\n",
    "# Plote um gráfico de linhas.\n",
    "# fig = px.line(\n",
    "#     qtd_por_mes_agrupado,\n",
    "#     x='mes',\n",
    "#     y='quantidade',\n",
    "#     markers=True,\n",
    "#     text='quantidade',\n",
    "#     title='Quantidade total de exemplares emprestados por mês',\n",
    "# )\n",
    "\n",
    "fig= px.bar(\n",
    "    qtd_por_mes_agrupado,\n",
    "    x='mes',\n",
    "    y='quantidade',\n",
    "    text='quantidade',\n",
    "    title='Quantidade total de exemplares emprestados por mês',\n",
    ")\n",
    "\n",
    "fig.show()"
   ]
  },
  {
   "cell_type": "code",
   "execution_count": null,
   "id": "8fc38197",
   "metadata": {},
   "outputs": [],
   "source": [
    "qtd_por_mes_agrupado"
   ]
  },
  {
   "cell_type": "code",
   "execution_count": null,
   "id": "c8cbea77",
   "metadata": {},
   "outputs": [],
   "source": [
    "qtd_por_ano.data.dt.hour.unique()"
   ]
  },
  {
   "cell_type": "code",
   "execution_count": null,
   "id": "c63d9229",
   "metadata": {},
   "outputs": [],
   "source": [
    "# Além do gerenciamento anual das atividades, a diretoria também necessita que seja planejada \n",
    "# uma programação diária das atividades. Por este motivo, verifique quais foram os horários\n",
    "# com maior quantidade de empréstimos ao longo de um dia inteiro.\n",
    "\n",
    "\n",
    "qtd_por_hora_agrupado = qtd_por_ano.groupby(\n",
    "    by=qtd_por_ano.data.dt.hour\n",
    "    ).sum(numeric_only=True).reset_index()\n",
    "\n",
    "qtd_por_hora_agrupado.rename(\n",
    "    columns={\n",
    "        'data': 'hora'\n",
    "    },\n",
    "    inplace=True\n",
    ")\n",
    "\n",
    "# qtd_por_hora_agrupado\n",
    "\n",
    "# Plote um gráfico de barras e analise quais seriam os melhores horários para alocar as demais\n",
    "# atividades que não sejam de atendimento ao usuário.\n",
    "fig = px.bar(\n",
    "    qtd_por_hora_agrupado,\n",
    "    x='hora',\n",
    "    y='quantidade',\n",
    "    title='Quantidade total de exemplares emprestados por hora',\n",
    ")\n",
    "\n",
    "fig.show()"
   ]
  },
  {
   "cell_type": "code",
   "execution_count": null,
   "id": "3485ac7f",
   "metadata": {},
   "outputs": [],
   "source": [
    "# O objetivo será entender a quantidade de empréstimos a partir das variáveis categóricas do \n",
    "# seu conjunto de dados.\n",
    "# Para explorar os dados, alguns questionamentos serão pertinentes para a diretoria das bibliotecas,\n",
    "# como:\n",
    "# Vamos explorar algumas das variáveis categóricas das quais precisaremos extrair mais informações. \n",
    "# Elas são:\n",
    "#   Tipo de vínculo\n",
    "#   Coleção\n",
    "#   Biblioteca\n",
    "#   Classificação geral da CDU\n",
    "\n",
    "# Ao se analisar uma nova variável, é bem interessante verificar os valores únicos delas.\n",
    "\n",
    "tipo_vinculo = df['tipo_vinculo_usuario'].unique()\n",
    "\n",
    "colecao = df['colecao'].unique()\n",
    "\n",
    "biblioteca = df['biblioteca'].unique()\n",
    "\n",
    "cdu = df['CDU'].unique()"
   ]
  },
  {
   "cell_type": "code",
   "execution_count": null,
   "id": "94bff034",
   "metadata": {},
   "outputs": [],
   "source": [
    "tipo_vinculo"
   ]
  },
  {
   "cell_type": "code",
   "execution_count": null,
   "id": "5df3d991",
   "metadata": {},
   "outputs": [],
   "source": [
    "colecao"
   ]
  },
  {
   "cell_type": "code",
   "execution_count": null,
   "id": "caa2f4f0",
   "metadata": {},
   "outputs": [],
   "source": [
    "biblioteca"
   ]
  },
  {
   "cell_type": "code",
   "execution_count": null,
   "id": "4cdf7102",
   "metadata": {},
   "outputs": [],
   "source": [
    "cdu"
   ]
  },
  {
   "cell_type": "code",
   "execution_count": null,
   "id": "566ca303",
   "metadata": {},
   "outputs": [],
   "source": [
    "df.columns"
   ]
  },
  {
   "cell_type": "code",
   "execution_count": null,
   "id": "69ef081e",
   "metadata": {
    "ExecuteTime": {
     "end_time": "2025-10-11T23:38:04.319013Z",
     "start_time": "2025-10-11T23:38:04.307196Z"
    }
   },
   "outputs": [],
   "source": [
    "# Gere uma tabela de frequência e com o percentual para cada variável.\n",
    "# Como é um trabalho repetitivo, crie uma função que gere a tabela com os valores.\n",
    "\n",
    "def gerar_tabela_frequencia(campo):\n",
    "    df_tabela = pd.DataFrame(df[campo].value_counts().reset_index())\n",
    "\n",
    "    df_tabela.rename(\n",
    "        columns={\n",
    "            'count':'quantidade'\n",
    "        },\n",
    "        inplace=True\n",
    "    )\n",
    "\n",
    "    df_tabela['porcentagem'] = round((df_tabela['quantidade'] / df_tabela['quantidade'].sum())*100, 10)\n",
    "\n",
    "    return df_tabela\n"
   ]
  },
  {
   "cell_type": "code",
   "execution_count": null,
   "id": "b869ed75",
   "metadata": {},
   "outputs": [],
   "source": [
    "# “Como se distribuem os empréstimos de exemplares pelos tipos de vínculo dos usuários?”\n",
    "# Desta forma, a diretoria poderá entender qual é o público que está utilizando a biblioteca \n",
    "# e assim tomar decisões em continuar com a estratégia de negócio atual ou modificá-la.\n",
    "\n",
    "gerar_tabela_frequencia('tipo_vinculo_usuario')"
   ]
  },
  {
   "cell_type": "code",
   "execution_count": null,
   "id": "06c3d991",
   "metadata": {},
   "outputs": [],
   "source": [
    "# Quais coleções são mais emprestadas?\n",
    "# Da mesma forma, as coleções. Ranquear as coleções mais emprestadas pelo público, será bastante\n",
    "# importante para a estratégia atual.\n",
    "\n",
    "gerar_tabela_frequencia('colecao')"
   ]
  },
  {
   "cell_type": "code",
   "execution_count": null,
   "id": "1a5c47d4",
   "metadata": {
    "ExecuteTime": {
     "end_time": "2025-10-11T23:38:09.116461Z",
     "start_time": "2025-10-11T23:38:08.751022Z"
    }
   },
   "outputs": [],
   "source": [
    "# Quais são as bibliotecas com mais ou menos quantidade de empréstimos?\n",
    "# Assim, a diretoria conseguirá entender onde ela deverá melhorar e focar suas iniciativas.\n",
    "\n",
    "gerar_tabela_frequencia('biblioteca')"
   ]
  },
  {
   "cell_type": "code",
   "execution_count": null,
   "id": "1958a0748f288469",
   "metadata": {
    "ExecuteTime": {
     "end_time": "2025-10-11T23:48:33.556107Z",
     "start_time": "2025-10-11T23:48:21.266952Z"
    }
   },
   "outputs": [],
   "source": [
    "df_tabela = pd.DataFrame(df['biblioteca'].value_counts().reset_index())\n",
    "\n",
    "df_tabela.rename(\n",
    "    columns={\n",
    "        'count':'quantidade'\n",
    "    },\n",
    "    inplace=True\n",
    ")\n",
    "\n",
    "# df_tabela['porcentagem'] = round((df_tabela['quantidade'] / df_tabela['quantidade'].sum())*100, 10)\n",
    "df_tabela['porcentagem'] = (df_tabela['quantidade'] / df_tabela['quantidade'].sum() * 100).round(2)\n",
    "\n",
    "# df_tabela\n",
    "\n",
    "fig = px.bar(\n",
    "    df_tabela,\n",
    "    x='biblioteca',\n",
    "    y='porcentagem',\n",
    "    text='porcentagem',\n",
    "    title='Em quais bibliotecas do sistema estão a maior quantidade de empréstimos? (Em percentual)'\n",
    ")\n",
    "\n",
    "fig.update_traces(\n",
    "    texttemplate='%{text:.2f}%',\n",
    "    textfont=dict(size=11),\n",
    "    )\n",
    "\n",
    "fig.update_layout(\n",
    "    uniformtext=dict(minsize=10, mode='show'),\n",
    ")\n",
    "\n",
    "fig.show()"
   ]
  },
  {
   "cell_type": "code",
   "execution_count": null,
   "id": "0cdc371f",
   "metadata": {},
   "outputs": [],
   "source": [
    "df_tabela"
   ]
  },
  {
   "cell_type": "code",
   "execution_count": null,
   "id": "1d3b9439",
   "metadata": {},
   "outputs": [],
   "source": [
    "# De quais temas da CDU tem os exemplares mais emprestados?\n",
    "\n",
    "gerar_tabela_frequencia('CDU')"
   ]
  },
  {
   "cell_type": "code",
   "execution_count": null,
   "id": "222829ef",
   "metadata": {},
   "outputs": [],
   "source": [
    "df_tabela = pd.DataFrame(df['CDU'].value_counts().reset_index())\n",
    "\n",
    "df_tabela.rename(\n",
    "    columns={\n",
    "        'count':'quantidade'\n",
    "    },\n",
    "    inplace=True\n",
    ")\n",
    "\n",
    "# df_tabela['porcentagem'] = round((df_tabela['quantidade'] / df_tabela['quantidade'].sum())*100, 10)\n",
    "df_tabela['porcentagem'] = (df_tabela['quantidade'] / df_tabela['quantidade'].sum() * 100).round(2)\n",
    "\n",
    "# df_tabela\n",
    "\n",
    "fig = px.bar(\n",
    "    df_tabela,\n",
    "    x='CDU',\n",
    "    y='porcentagem',\n",
    "    text='porcentagem',\n",
    "    title='Quais são os temas mais emprestados? E os menos? (Em percentual)'\n",
    ")\n",
    "\n",
    "fig.update_traces(\n",
    "    texttemplate='%{text:.2f}%',\n",
    "    textfont=dict(size=11),\n",
    "    )\n",
    "\n",
    "fig.update_layout(\n",
    "    uniformtext=dict(minsize=10, mode='show'),\n",
    ")\n",
    "\n",
    "fig.show()"
   ]
  },
  {
   "cell_type": "code",
   "execution_count": null,
   "id": "8922f9cc",
   "metadata": {},
   "outputs": [],
   "source": [
    "df_tabela = pd.DataFrame(df['tipo_vinculo_usuario'].value_counts().reset_index())\n",
    "\n",
    "df_tabela.rename(\n",
    "    columns={\n",
    "        'count':'quantidade'\n",
    "    },\n",
    "    inplace=True\n",
    ")\n",
    "\n",
    "# df_tabela['porcentagem'] = round((df_tabela['quantidade'] / df_tabela['quantidade'].sum())*100, 10)\n",
    "df_tabela['porcentagem'] = (df_tabela['quantidade'] / df_tabela['quantidade'].sum() * 100).round(2)\n",
    "\n",
    "# df_tabela\n",
    "\n",
    "fig = px.bar(\n",
    "    df_tabela,\n",
    "    x='tipo_vinculo_usuario',\n",
    "    y='porcentagem',\n",
    "    text='porcentagem',\n",
    "    title='Como se distribuem os empréstimos de exemplares pelos tipos de vínculo dos usuários? (Em percentual)'\n",
    ")\n",
    "\n",
    "fig.update_traces(\n",
    "    texttemplate='%{text:.2f}%',\n",
    "    textfont=dict(size=11),\n",
    "    )\n",
    "\n",
    "fig.update_layout(\n",
    "    uniformtext=dict(minsize=10, mode='show'),\n",
    ")\n",
    "\n",
    "fig.show()"
   ]
  },
  {
   "cell_type": "code",
   "execution_count": null,
   "id": "e84ecb8b",
   "metadata": {},
   "outputs": [],
   "source": [
    "df_tabela = pd.DataFrame(df['colecao'].value_counts().reset_index())\n",
    "\n",
    "df_tabela.rename(\n",
    "    columns={\n",
    "        'count':'quantidade'\n",
    "    },\n",
    "    inplace=True\n",
    ")\n",
    "\n",
    "# df_tabela['porcentagem'] = round((df_tabela['quantidade'] / df_tabela['quantidade'].sum())*100, 10)\n",
    "df_tabela['porcentagem'] = (df_tabela['quantidade'] / df_tabela['quantidade'].sum() * 100).round(2)\n",
    "\n",
    "# df_tabela\n",
    "\n",
    "fig = px.bar(\n",
    "    df_tabela,\n",
    "    x='colecao',\n",
    "    y='porcentagem',\n",
    "    text='porcentagem',\n",
    "    title='Quais coleções são mais emprestadas? (Em percentual)'\n",
    ")\n",
    "\n",
    "fig.update_traces(\n",
    "    texttemplate='%{text:.2f}%',\n",
    "    textfont=dict(size=11),\n",
    "    )\n",
    "\n",
    "fig.update_layout(\n",
    "    uniformtext=dict(minsize=10, mode='show'),\n",
    ")\n",
    "\n",
    "fig.show()"
   ]
  },
  {
   "cell_type": "code",
   "execution_count": null,
   "id": "04c66a6b",
   "metadata": {},
   "outputs": [],
   "source": [
    "# avaliar dentre os alunos de graduação e pós graduação a distribuição de empréstimos mensais \n",
    "# por ano realizados entre 2010 e 2022 da coleção que tiver a maior frequência de empréstimos.\n",
    "\n",
    "# Distribuição mensal por alunos de graduação\n",
    "alunos_graduacao = df[df['tipo_vinculo_usuario'] == 'ALUNO DE GRADUAÇÃO']\n",
    "\n",
    "colecao = alunos_graduacao['colecao'].value_counts().idxmax()\n",
    "\n",
    "emprestimos_graduacao = alunos_graduacao[alunos_graduacao['colecao'] == colecao].copy()\n",
    "\n",
    "emprestimos_graduacao['ano'] = emprestimos_graduacao['data_emprestimo'].dt.year\n",
    "emprestimos_graduacao['mes'] = emprestimos_graduacao['data_emprestimo'].dt.month\n",
    "\n",
    "mes_renomear = {\n",
    "    1: 'jan',\n",
    "    2: 'fev',\n",
    "    3: 'mar',\n",
    "    4: 'abr',\n",
    "    5: 'mai',\n",
    "    6: 'jun',\n",
    "    7: 'jul',\n",
    "    8: 'ago',\n",
    "    9: 'set',\n",
    "    10: 'out',\n",
    "    11: 'nov',\n",
    "    12: 'dez',\n",
    "}\n",
    "\n",
    "emprestimos_graduacao['mes'] = emprestimos_graduacao['mes'].map(mes_renomear)\n",
    "\n",
    "emprestimos_graduacao = emprestimos_graduacao.loc[:,['ano', 'mes']]\n",
    "emprestimos_graduacao = emprestimos_graduacao.value_counts().to_frame('quantidade').reset_index()\n"
   ]
  },
  {
   "cell_type": "code",
   "execution_count": null,
   "id": "90d692bc",
   "metadata": {},
   "outputs": [],
   "source": [
    "emprestimos_graduacao"
   ]
  },
  {
   "cell_type": "code",
   "execution_count": null,
   "id": "c2259171",
   "metadata": {},
   "outputs": [],
   "source": [
    "meses = [\n",
    "    'jan', 'fev', 'mar', 'abr', 'mai', 'jun', 'jul', 'ago', 'set', 'out', 'nov', 'dez'\n",
    "]\n",
    "\n",
    "fig = px.box(\n",
    "    emprestimos_graduacao,\n",
    "    x='mes',\n",
    "    y='quantidade',\n",
    "    color='mes',\n",
    "    category_orders={\n",
    "        'mes': meses\n",
    "    },\n",
    "    title='Graduação<br>Distribuição Mensal de Empréstimos dos anos 2010 a 2022 - Coleção Mais Emprestada'\n",
    ")\n",
    "\n",
    "fig.show()"
   ]
  },
  {
   "cell_type": "code",
   "execution_count": null,
   "id": "ca301639",
   "metadata": {},
   "outputs": [],
   "source": [
    "alunos_pos_graduacao = df[df['tipo_vinculo_usuario'] == 'ALUNO DE PÓS-GRADUAÇÃO']\n",
    "\n",
    "colecao = alunos_pos_graduacao['colecao'].value_counts().idxmax()\n",
    "\n",
    "emprestimos = alunos_pos_graduacao[alunos_pos_graduacao['colecao'] == colecao].copy()\n",
    "\n",
    "emprestimos['ano'] = emprestimos['data_emprestimo'].dt.year\n",
    "emprestimos['mes'] = emprestimos['data_emprestimo'].dt.month\n",
    "\n",
    "\n",
    "emprestimos = emprestimos.loc[:,['ano', 'mes']]\n",
    "emprestimos = emprestimos.value_counts().to_frame('quantidade').reset_index()\n",
    "\n",
    "emprestimos"
   ]
  },
  {
   "cell_type": "code",
   "execution_count": null,
   "id": "e01a4c85",
   "metadata": {},
   "outputs": [],
   "source": [
    "fig = px.box(\n",
    "    emprestimos,\n",
    "    x='ano',\n",
    "    y='quantidade',\n",
    "    color='ano',\n",
    "    category_orders={\n",
    "        'ano': sorted(emprestimos_graduacao['ano'].unique())\n",
    "    },\n",
    "    title='Pós-Graduação - Distribuição Mensal de Empréstimos dos anos 2010 a 2022<br> Coleção Mais Emprestada'\n",
    ")\n",
    "\n",
    "fig.show()"
   ]
  },
  {
   "cell_type": "code",
   "execution_count": null,
   "id": "3490fe6b",
   "metadata": {},
   "outputs": [],
   "source": [
    "df_records = pd.read_csv('../data/processed/students_records/records.csv')\n",
    "\n",
    "df_records.head()"
   ]
  },
  {
   "cell_type": "code",
   "execution_count": null,
   "id": "b821ab7e",
   "metadata": {},
   "outputs": [],
   "source": [
    "df_records = pd.read_parquet('../data/processed/students_records/records.parquet')"
   ]
  },
  {
   "cell_type": "code",
   "execution_count": null,
   "id": "8b71faf1",
   "metadata": {},
   "outputs": [],
   "source": [
    "df_records.head()"
   ]
  },
  {
   "cell_type": "code",
   "execution_count": null,
   "id": "8c509663",
   "metadata": {},
   "outputs": [],
   "source": [
    "graduacao = df.query(\"tipo_vinculo_usuario == 'ALUNO DE GRADUAÇÃO'\")\n",
    "\n",
    "graduacao"
   ]
  },
  {
   "cell_type": "code",
   "execution_count": null,
   "id": "d9f13e81",
   "metadata": {},
   "outputs": [],
   "source": [
    "graduacao_pos_2015 = df[df['tipo_vinculo_usuario'] == 'ALUNO DE GRADUAÇÃO']\n",
    "\n",
    "graduacao_pos_2015 = graduacao_pos_2015.loc[:,['matricula_ou_siape','data_emprestimo']]\n",
    "\n",
    "# graduacao_pos_2015['data_emprestimo'] = pd.to_datetime(graduacao_pos_2015['data_emprestimo'])\n",
    "\n",
    "graduacao_pos_2015 = graduacao_pos_2015[graduacao_pos_2015['data_emprestimo'].dt.year > 2015]\n",
    "\n",
    "graduacao_pos_2015 = graduacao_pos_2015.reset_index(drop=True)\n",
    "\n",
    "graduacao_pos_2015.head()"
   ]
  },
  {
   "cell_type": "code",
   "execution_count": null,
   "id": "b24fec9e",
   "metadata": {},
   "outputs": [],
   "source": [
    "graduacao.isna().sum()"
   ]
  },
  {
   "cell_type": "code",
   "execution_count": null,
   "id": "f6097915",
   "metadata": {},
   "outputs": [],
   "source": [
    "graduacao.isnull().sum()"
   ]
  },
  {
   "cell_type": "code",
   "execution_count": null,
   "id": "e2b1e7c2",
   "metadata": {},
   "outputs": [],
   "source": [
    "cursos_selecionados = df_records[df_records['curso'].isin(['BIBLIOTECONOMIA','CIÊNCIAS SOCIAIS','COMUNICAÇÃO SOCIAL','DIREITO','FILOSOFIA','PEDAGOGIA'])]\n",
    "cursos_selecionados"
   ]
  },
  {
   "cell_type": "code",
   "execution_count": null,
   "id": "725176bc",
   "metadata": {},
   "outputs": [],
   "source": [
    "usuarios_graduacao_cursos = graduacao_pos_2015.merge(cursos_selecionados)\n",
    "\n",
    "usuarios_graduacao_cursos"
   ]
  },
  {
   "cell_type": "code",
   "execution_count": null,
   "id": "352144f3",
   "metadata": {},
   "outputs": [],
   "source": [
    "usuarios_graduacao_cursos.columns"
   ]
  },
  {
   "cell_type": "code",
   "execution_count": null,
   "id": "f9d319b1",
   "metadata": {},
   "outputs": [],
   "source": [
    "usuarios_graduacao_cursos['ano_emprestimo'] = usuarios_graduacao_cursos['data_emprestimo'].dt.year"
   ]
  },
  {
   "cell_type": "code",
   "execution_count": null,
   "id": "63493da9",
   "metadata": {},
   "outputs": [],
   "source": [
    "emprestimos_graduacao_cursos = usuarios_graduacao_cursos.groupby(['ano_emprestimo', 'curso']).size().reset_index(name='quantidade')\n",
    "emprestimos_graduacao_cursos"
   ]
  },
  {
   "cell_type": "code",
   "execution_count": null,
   "id": "1c52e80b",
   "metadata": {},
   "outputs": [],
   "source": [
    "emprestimos_graduacao_cursos_pivot = emprestimos_graduacao_cursos.pivot_table(\n",
    "    index='curso',\n",
    "    columns='ano_emprestimo',\n",
    "    values='quantidade',\n",
    "    fill_value = '-',\n",
    "    aggfunc= 'sum',\n",
    "    margins = True,\n",
    "    margins_name = 'TOTAL',\n",
    ")\n",
    "\n",
    "emprestimos_graduacao_cursos_pivot"
   ]
  }
 ],
 "metadata": {
  "kernelspec": {
   "display_name": "py_313_data (3.13.5)",
   "language": "python",
   "name": "python3"
  },
  "language_info": {
   "codemirror_mode": {
    "name": "ipython",
    "version": 3
   },
   "file_extension": ".py",
   "mimetype": "text/x-python",
   "name": "python",
   "nbconvert_exporter": "python",
   "pygments_lexer": "ipython3",
   "version": "3.13.5"
  }
 },
 "nbformat": 4,
 "nbformat_minor": 5
}
