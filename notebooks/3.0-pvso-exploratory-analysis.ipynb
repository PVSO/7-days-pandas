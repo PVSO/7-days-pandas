{
 "cells": [
  {
   "cell_type": "code",
   "execution_count": null,
   "id": "837ac96d",
   "metadata": {},
   "outputs": [],
   "source": [
    "import pandas as pd\n",
    "import datetime as dt\n",
    "import plotly.express as px\n",
    "import matplotlib.ticker as ticker\n",
    "import matplotlib.pyplot as plt\n",
    "import seaborn as sns"
   ]
  },
  {
   "cell_type": "code",
   "execution_count": null,
   "id": "8abaffe9",
   "metadata": {},
   "outputs": [],
   "source": [
    "df = pd.read_csv('../data/processed/emprestimos_exemplares.csv')\n",
    "\n",
    "df.head()"
   ]
  },
  {
   "cell_type": "code",
   "execution_count": null,
   "id": "7268b7bc",
   "metadata": {},
   "outputs": [],
   "source": [
    "len(df.id_emprestimo.drop_duplicates())\n"
   ]
  },
  {
   "cell_type": "code",
   "execution_count": null,
   "id": "4f1b0be7",
   "metadata": {},
   "outputs": [],
   "source": [
    "len(df)"
   ]
  },
  {
   "cell_type": "code",
   "execution_count": null,
   "id": "2d9d82cd",
   "metadata": {},
   "outputs": [],
   "source": [
    "df.dtypes"
   ]
  },
  {
   "cell_type": "markdown",
   "id": "b528cdc4",
   "metadata": {},
   "source": [
    "A diretoria da biblioteca gostaria de entender se a quantidade de empréstimos está diminuindo, aumentando ou permanecendo igual ao decorrer dos últimos anos."
   ]
  },
  {
   "cell_type": "code",
   "execution_count": null,
   "id": "c7620a7b",
   "metadata": {},
   "outputs": [],
   "source": [
    "df['data_emprestimo'].value_counts()"
   ]
  },
  {
   "cell_type": "code",
   "execution_count": null,
   "id": "2201e46b",
   "metadata": {},
   "outputs": [],
   "source": [
    "# convertendo o tipo de data_emprestimo para datetime\n",
    "\n",
    "df['data_emprestimo'] = pd.to_datetime(df['data_emprestimo'], dayfirst=True, format='ISO8601')\n"
   ]
  },
  {
   "cell_type": "code",
   "execution_count": null,
   "id": "b3827e86",
   "metadata": {},
   "outputs": [],
   "source": [
    "# verifique qual é a quantidade total de exemplares emprestados por cada ano\n",
    "# plote um gráfico de linhas.\n",
    "\n",
    "qtd_por_ano = df['data_emprestimo'].value_counts().reset_index()\n",
    "\n",
    "qtd_por_ano.rename(\n",
    "    columns={\n",
    "        'data_emprestimo': 'data',\n",
    "        'count': 'quantidade'\n",
    "    },\n",
    "    inplace=True\n",
    ")\n",
    "\n",
    "qtd_por_ano\n"
   ]
  },
  {
   "cell_type": "code",
   "execution_count": null,
   "id": "10591d0e",
   "metadata": {},
   "outputs": [],
   "source": [
    "qtd_por_ano_agrupado = qtd_por_ano.groupby(by=qtd_por_ano.data.dt.year).sum(numeric_only=True).reset_index()\n",
    "\n",
    "qtd_por_ano_agrupado.rename(\n",
    "    columns={\n",
    "        'data': 'ano'\n",
    "    },\n",
    "    inplace=True\n",
    ")\n",
    "\n",
    "# qtd_por_ano_agrupado.columns\n",
    "\n",
    "fig = px.line(\n",
    "    qtd_por_ano_agrupado,\n",
    "    x='ano',\n",
    "    y='quantidade',\n",
    "    markers=True,\n",
    "    title='verifique qual é a quantidade total de exemplares emprestados por cada ano'\n",
    ")\n",
    "\n",
    "fig.show()"
   ]
  },
  {
   "cell_type": "code",
   "execution_count": null,
   "id": "5c1fecf2",
   "metadata": {},
   "outputs": [],
   "source": [
    "qtd_por_ano_agrupado"
   ]
  },
  {
   "cell_type": "code",
   "execution_count": null,
   "id": "af928f7e",
   "metadata": {},
   "outputs": [],
   "source": [
    "sum(qtd_por_ano_agrupado.quantidade)"
   ]
  },
  {
   "cell_type": "code",
   "execution_count": null,
   "id": "7a457caa",
   "metadata": {},
   "outputs": [],
   "source": [
    "# gerenciar a programação de férias dos colaboradores de acordo com os meses de menor demanda;\n",
    "# programar atividades que não sejam de atendimento ao usuário para períodos específicos de\n",
    "# menor demanda.\n",
    "\n",
    "qtd_por_mes_agrupado = qtd_por_ano.groupby(by=qtd_por_ano.data.dt.month).sum(numeric_only=True).reset_index()\n",
    "\n",
    "qtd_por_mes_agrupado.rename(\n",
    "    columns={\n",
    "        'data': 'mes'\n",
    "    },\n",
    "    inplace=True\n",
    ")\n",
    "\n",
    "# qtd_por_mes_agrupado\n",
    "\n",
    "mes_renomear = {\n",
    "    1: 'jan',\n",
    "    2: 'fev',\n",
    "    3: 'mar',\n",
    "    4: 'abr',\n",
    "    5: 'mai',\n",
    "    6: 'jun',\n",
    "    7: 'jul',\n",
    "    8: 'ago',\n",
    "    9: 'set',\n",
    "    10: 'out',\n",
    "    11: 'nov',\n",
    "    12: 'dez',\n",
    "}\n",
    "\n",
    "qtd_por_mes_agrupado['mes'] = qtd_por_mes_agrupado['mes'].map(mes_renomear)\n",
    "\n",
    "# Portanto, gere uma tabela com a quantidade total de exemplares emprestados por mês e descubra\n",
    "# quais meses são os que possuem a maior quantidade de empréstimos realizados.\n",
    "# qtd_por_mes_agrupado.sort_values(by='quantidade',ascending=False)\n",
    "\n",
    "# # Plote um gráfico de linhas.\n",
    "fig = px.line(\n",
    "    qtd_por_mes_agrupado,\n",
    "    x='mes',\n",
    "    y='quantidade',\n",
    "    markers=True,\n",
    "    title='Quantidade total de exemplares emprestados por mês',\n",
    ")\n",
    "\n",
    "fig.show()"
   ]
  },
  {
   "cell_type": "code",
   "execution_count": null,
   "id": "8fc38197",
   "metadata": {},
   "outputs": [],
   "source": [
    "qtd_por_mes_agrupado"
   ]
  },
  {
   "cell_type": "code",
   "execution_count": null,
   "id": "c8cbea77",
   "metadata": {},
   "outputs": [],
   "source": [
    "qtd_por_ano.data.dt.hour.unique()"
   ]
  },
  {
   "cell_type": "code",
   "execution_count": null,
   "id": "c63d9229",
   "metadata": {},
   "outputs": [],
   "source": [
    "# Além do gerenciamento anual das atividades, a diretoria também necessita que seja planejada \n",
    "# uma programação diária das atividades. Por este motivo, verifique quais foram os horários\n",
    "# com maior quantidade de empréstimos ao longo de um dia inteiro.\n",
    "\n",
    "# Plote um gráfico de barras e analise quais seriam os melhores horários para alocar as demais\n",
    "# atividades que não sejam de atendimento ao usuário.\n",
    "\n",
    "qtd_por_hora_agrupado = qtd_por_ano.groupby(by=qtd_por_ano.data.dt.hour).sum(numeric_only=True).reset_index()\n",
    "\n",
    "qtd_por_hora_agrupado.rename(\n",
    "    columns={\n",
    "        'data': 'hora'\n",
    "    },\n",
    "    inplace=True\n",
    ")\n",
    "\n",
    "# qtd_por_hora_agrupado\n",
    "\n",
    "fig = px.bar(\n",
    "    qtd_por_hora_agrupado,\n",
    "    x='hora',\n",
    "    y='quantidade',\n",
    "    title='Quantidade total de exemplares emprestados por hora',\n",
    ")\n",
    "\n",
    "fig.show()"
   ]
  }
 ],
 "metadata": {
  "kernelspec": {
   "display_name": "py_313_data",
   "language": "python",
   "name": "python3"
  },
  "language_info": {
   "codemirror_mode": {
    "name": "ipython",
    "version": 3
   },
   "file_extension": ".py",
   "mimetype": "text/x-python",
   "name": "python",
   "nbconvert_exporter": "python",
   "pygments_lexer": "ipython3",
   "version": "3.13.5"
  }
 },
 "nbformat": 4,
 "nbformat_minor": 5
}
