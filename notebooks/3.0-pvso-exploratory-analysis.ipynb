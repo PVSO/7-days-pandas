{
 "cells": [
  {
   "cell_type": "code",
   "execution_count": null,
   "id": "837ac96d",
   "metadata": {},
   "outputs": [],
   "source": [
    "import pandas as pd\n",
    "import datetime as dt\n",
    "import plotly.express as px\n",
    "import matplotlib.ticker as ticker\n",
    "import matplotlib.pyplot as plt\n",
    "import seaborn as sns"
   ]
  },
  {
   "cell_type": "code",
   "execution_count": null,
   "id": "8abaffe9",
   "metadata": {},
   "outputs": [],
   "source": [
    "df = pd.read_csv('../data/processed/emprestimos_exemplares.csv')\n",
    "\n",
    "df.head()"
   ]
  },
  {
   "cell_type": "code",
   "execution_count": null,
   "id": "7268b7bc",
   "metadata": {},
   "outputs": [],
   "source": [
    "len(df.id_emprestimo.drop_duplicates())"
   ]
  },
  {
   "cell_type": "code",
   "execution_count": null,
   "id": "4f1b0be7",
   "metadata": {},
   "outputs": [],
   "source": [
    "len(df)"
   ]
  },
  {
   "cell_type": "code",
   "execution_count": null,
   "id": "2d9d82cd",
   "metadata": {},
   "outputs": [],
   "source": [
    "df.dtypes"
   ]
  },
  {
   "cell_type": "markdown",
   "id": "b528cdc4",
   "metadata": {},
   "source": [
    "A diretoria da biblioteca gostaria de entender se a quantidade de empréstimos está diminuindo, aumentando ou permanecendo igual ao decorrer dos últimos anos."
   ]
  },
  {
   "cell_type": "code",
   "execution_count": null,
   "id": "c7620a7b",
   "metadata": {},
   "outputs": [],
   "source": [
    "df['data_emprestimo'].value_counts()"
   ]
  },
  {
   "cell_type": "code",
   "execution_count": null,
   "id": "2201e46b",
   "metadata": {},
   "outputs": [],
   "source": [
    "# convertendo o tipo de data_emprestimo para datetime\n",
    "\n",
    "df['data_emprestimo'] = pd.to_datetime(df['data_emprestimo'], dayfirst=True, format='ISO8601')"
   ]
  },
  {
   "cell_type": "code",
   "execution_count": null,
   "id": "b3827e86",
   "metadata": {},
   "outputs": [],
   "source": [
    "# verifique qual é a quantidade total de exemplares emprestados por cada ano\n",
    "# plote um gráfico de linhas.\n",
    "\n",
    "qtd_por_ano = df['data_emprestimo'].value_counts().reset_index()\n",
    "\n",
    "qtd_por_ano.rename(\n",
    "    columns={\n",
    "        'data_emprestimo': 'data',\n",
    "        'count': 'quantidade'\n",
    "    },\n",
    "    inplace=True\n",
    ")\n",
    "\n",
    "qtd_por_ano\n"
   ]
  },
  {
   "cell_type": "code",
   "execution_count": null,
   "id": "10591d0e",
   "metadata": {},
   "outputs": [],
   "source": [
    "# verifique qual é a quantidade total de exemplares emprestados por cada ano\n",
    "# plote um gráfico de linhas.\n",
    "\n",
    "qtd_por_ano_agrupado = qtd_por_ano.groupby(by=qtd_por_ano.data.dt.year).sum(numeric_only=True).reset_index()\n",
    "\n",
    "qtd_por_ano_agrupado.rename(\n",
    "    columns={\n",
    "        'data': 'ano'\n",
    "    },\n",
    "    inplace=True\n",
    ")\n",
    "\n",
    "# qtd_por_ano_agrupado.columns\n",
    "\n",
    "fig = px.line(\n",
    "    qtd_por_ano_agrupado,\n",
    "    x='ano',\n",
    "    y='quantidade',\n",
    "    markers=True,\n",
    "    title='verifique qual é a quantidade total de exemplares emprestados por cada ano'\n",
    ")\n",
    "\n",
    "fig.show()"
   ]
  },
  {
   "cell_type": "code",
   "execution_count": null,
   "id": "5c1fecf2",
   "metadata": {},
   "outputs": [],
   "source": [
    "qtd_por_ano_agrupado"
   ]
  },
  {
   "cell_type": "code",
   "execution_count": null,
   "id": "af928f7e",
   "metadata": {},
   "outputs": [],
   "source": [
    "sum(qtd_por_ano_agrupado.quantidade)"
   ]
  },
  {
   "cell_type": "code",
   "execution_count": null,
   "id": "7a457caa",
   "metadata": {},
   "outputs": [],
   "source": [
    "# gerenciar a programação de férias dos colaboradores de acordo com os meses de menor demanda;\n",
    "# programar atividades que não sejam de atendimento ao usuário para períodos específicos de\n",
    "# menor demanda.\n",
    "\n",
    "# Portanto, gere uma tabela com a quantidade total de exemplares emprestados por mês e descubra\n",
    "# quais meses são os que possuem a maior quantidade de empréstimos realizados.\n",
    "\n",
    "qtd_por_mes_agrupado = qtd_por_ano.groupby(\n",
    "    by=qtd_por_ano.data.dt.month\n",
    "    ).sum(numeric_only=True).reset_index()\n",
    "\n",
    "qtd_por_mes_agrupado.rename(\n",
    "    columns={\n",
    "        'data': 'mes'\n",
    "    },\n",
    "    inplace=True\n",
    ")\n",
    "\n",
    "# qtd_por_mes_agrupado\n",
    "\n",
    "mes_renomear = {\n",
    "    1: 'jan',\n",
    "    2: 'fev',\n",
    "    3: 'mar',\n",
    "    4: 'abr',\n",
    "    5: 'mai',\n",
    "    6: 'jun',\n",
    "    7: 'jul',\n",
    "    8: 'ago',\n",
    "    9: 'set',\n",
    "    10: 'out',\n",
    "    11: 'nov',\n",
    "    12: 'dez',\n",
    "}\n",
    "\n",
    "qtd_por_mes_agrupado['mes'] = qtd_por_mes_agrupado['mes'].map(mes_renomear)\n",
    "\n",
    "# qtd_por_mes_agrupado.sort_values(by='quantidade',ascending=False)\n",
    "\n",
    "# Plote um gráfico de linhas.\n",
    "fig = px.line(\n",
    "    qtd_por_mes_agrupado,\n",
    "    x='mes',\n",
    "    y='quantidade',\n",
    "    markers=True,\n",
    "    title='Quantidade total de exemplares emprestados por mês',\n",
    ")\n",
    "\n",
    "fig.show()"
   ]
  },
  {
   "cell_type": "code",
   "execution_count": null,
   "id": "8fc38197",
   "metadata": {},
   "outputs": [],
   "source": [
    "qtd_por_mes_agrupado"
   ]
  },
  {
   "cell_type": "code",
   "execution_count": null,
   "id": "c8cbea77",
   "metadata": {},
   "outputs": [],
   "source": [
    "qtd_por_ano.data.dt.hour.unique()"
   ]
  },
  {
   "cell_type": "code",
   "execution_count": null,
   "id": "c63d9229",
   "metadata": {},
   "outputs": [],
   "source": [
    "# Além do gerenciamento anual das atividades, a diretoria também necessita que seja planejada \n",
    "# uma programação diária das atividades. Por este motivo, verifique quais foram os horários\n",
    "# com maior quantidade de empréstimos ao longo de um dia inteiro.\n",
    "\n",
    "\n",
    "qtd_por_hora_agrupado = qtd_por_ano.groupby(\n",
    "    by=qtd_por_ano.data.dt.hour\n",
    "    ).sum(numeric_only=True).reset_index()\n",
    "\n",
    "qtd_por_hora_agrupado.rename(\n",
    "    columns={\n",
    "        'data': 'hora'\n",
    "    },\n",
    "    inplace=True\n",
    ")\n",
    "\n",
    "# qtd_por_hora_agrupado\n",
    "\n",
    "# Plote um gráfico de barras e analise quais seriam os melhores horários para alocar as demais\n",
    "# atividades que não sejam de atendimento ao usuário.\n",
    "fig = px.bar(\n",
    "    qtd_por_hora_agrupado,\n",
    "    x='hora',\n",
    "    y='quantidade',\n",
    "    title='Quantidade total de exemplares emprestados por hora',\n",
    ")\n",
    "\n",
    "fig.show()"
   ]
  },
  {
   "cell_type": "code",
   "execution_count": null,
   "id": "3485ac7f",
   "metadata": {},
   "outputs": [],
   "source": [
    "# O objetivo será entender a quantidade de empréstimos a partir das variáveis categóricas do \n",
    "# seu conjunto de dados.\n",
    "# Para explorar os dados, alguns questionamentos serão pertinentes para a diretoria das bibliotecas,\n",
    "# como:\n",
    "# Vamos explorar algumas das variáveis categóricas das quais precisaremos extrair mais informações. \n",
    "# Elas são:\n",
    "#   Tipo de vínculo\n",
    "#   Coleção\n",
    "#   Biblioteca\n",
    "#   Classificação geral da CDU\n",
    "\n",
    "# Ao se analisar uma nova variável, é bem interessante verificar os valores únicos delas.\n",
    "\n",
    "tipo_vinculo = df['tipo_vinculo_usuario'].unique()\n",
    "\n",
    "colecao = df['colecao'].unique()\n",
    "\n",
    "biblioteca = df['biblioteca'].unique()\n",
    "\n",
    "cdu = df['CDU'].unique()"
   ]
  },
  {
   "cell_type": "code",
   "execution_count": null,
   "id": "94bff034",
   "metadata": {},
   "outputs": [],
   "source": [
    "tipo_vinculo"
   ]
  },
  {
   "cell_type": "code",
   "execution_count": null,
   "id": "5df3d991",
   "metadata": {},
   "outputs": [],
   "source": [
    "colecao"
   ]
  },
  {
   "cell_type": "code",
   "execution_count": null,
   "id": "caa2f4f0",
   "metadata": {},
   "outputs": [],
   "source": [
    "biblioteca"
   ]
  },
  {
   "cell_type": "code",
   "execution_count": null,
   "id": "4cdf7102",
   "metadata": {},
   "outputs": [],
   "source": [
    "cdu"
   ]
  },
  {
   "cell_type": "code",
   "execution_count": null,
   "id": "566ca303",
   "metadata": {},
   "outputs": [],
   "source": [
    "df.columns"
   ]
  },
  {
   "cell_type": "code",
   "execution_count": null,
   "id": "69ef081e",
   "metadata": {},
   "outputs": [],
   "source": [
    "# Gere uma tabela de frequência e com o percentual para cada variável.\n",
    "# Como é um trabalho repetitivo, crie uma função que gere a tabela com os valores.\n",
    "\n",
    "def gerar_tabela_frequencia(campo):\n",
    "    df_tabela = pd.DataFrame(df[campo].value_counts().reset_index())\n",
    "\n",
    "    df_tabela.rename(\n",
    "        columns={\n",
    "            'count':'quantidade'\n",
    "        },\n",
    "        inplace=True\n",
    "    )\n",
    "\n",
    "    df_tabela['porcentagem'] = round((df_tabela['quantidade'] / df_tabela['quantidade'].sum())*100, 10)\n",
    "\n",
    "    return df_tabela\n"
   ]
  },
  {
   "cell_type": "code",
   "execution_count": null,
   "id": "b869ed75",
   "metadata": {},
   "outputs": [],
   "source": [
    "# “Como se distribuem os empréstimos de exemplares pelos tipos de vínculo dos usuários?”\n",
    "# Desta forma, a diretoria poderá entender qual é o público que está utilizando a biblioteca \n",
    "# e assim tomar decisões em continuar com a estratégia de negócio atual ou modificá-la.\n",
    "\n",
    "gerar_tabela_frequencia('tipo_vinculo_usuario')"
   ]
  },
  {
   "cell_type": "code",
   "execution_count": null,
   "id": "06c3d991",
   "metadata": {},
   "outputs": [],
   "source": [
    "# Quais coleções são mais emprestadas?\n",
    "# Da mesma forma, as coleções. Ranquear as coleções mais emprestadas pelo público, será bastante\n",
    "# importante para a estratégia atual.\n",
    "\n",
    "gerar_tabela_frequencia('colecao')"
   ]
  },
  {
   "cell_type": "code",
   "execution_count": null,
   "id": "1a5c47d4",
   "metadata": {},
   "outputs": [],
   "source": [
    "# Quais são as bibliotecas com mais ou menos quantidade de empréstimos?\n",
    "# Assim, a diretoria conseguirá entender onde ela deverá melhorar e focar suas iniciativas.\n",
    "\n",
    "gerar_tabela_frequencia('biblioteca')"
   ]
  },
  {
   "cell_type": "code",
   "execution_count": null,
   "id": "1d3b9439",
   "metadata": {},
   "outputs": [],
   "source": [
    "# De quais temas da CDU tem os exemplares mais emprestados?\n",
    "\n",
    "gerar_tabela_frequencia('CDU')"
   ]
  }
 ],
 "metadata": {
  "kernelspec": {
   "display_name": "py_313_data",
   "language": "python",
   "name": "python3"
  },
  "language_info": {
   "codemirror_mode": {
    "name": "ipython",
    "version": 3
   },
   "file_extension": ".py",
   "mimetype": "text/x-python",
   "name": "python",
   "nbconvert_exporter": "python",
   "pygments_lexer": "ipython3",
   "version": "3.13.5"
  }
 },
 "nbformat": 4,
 "nbformat_minor": 5
}
