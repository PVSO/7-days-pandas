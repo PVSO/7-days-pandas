{
 "cells": [
  {
   "cell_type": "code",
   "execution_count": null,
   "id": "79fdfaa42061cbdb",
   "metadata": {
    "ExecuteTime": {
     "end_time": "2025-08-13T17:58:14.146445Z",
     "start_time": "2025-08-13T17:58:12.073634Z"
    },
    "collapsed": true
   },
   "outputs": [],
   "source": [
    "import pandas as pd\n",
    "import ftfy"
   ]
  },
  {
   "cell_type": "code",
   "execution_count": null,
   "id": "3a33c5e420dbc459",
   "metadata": {
    "ExecuteTime": {
     "end_time": "2025-08-13T17:58:31.140498Z",
     "start_time": "2025-08-13T17:58:14.233875Z"
    }
   },
   "outputs": [],
   "source": [
    "# Lendo o dataframe dos emprestimos\n",
    "\n",
    "df_emprestimos = pd.read_csv('../data/interim/emprestimos-concat.csv')\n",
    "\n",
    "# Mostrando alguns emprestimos\n",
    "# df_emprestimos.head()"
   ]
  },
  {
   "cell_type": "code",
   "execution_count": null,
   "id": "5b8da28d",
   "metadata": {},
   "outputs": [],
   "source": [
    "df_emprestimos['tipo_vinculo_usuario'].unique()"
   ]
  },
  {
   "cell_type": "code",
   "execution_count": null,
   "id": "b53a91ea2e267823",
   "metadata": {},
   "outputs": [],
   "source": [
    "# Lendo o dataframe com os emprestimos\n",
    "df_exemplares = pd.read_parquet('../data/raw/dados_exemplares.parquet')\n",
    "\n",
    "# Mostrando alguns exemplares\n",
    "df_exemplares.head()"
   ]
  },
  {
   "cell_type": "code",
   "execution_count": null,
   "id": "5dd8ca7459bfaa1f",
   "metadata": {},
   "outputs": [],
   "source": [
    "# Renomeando as colunas codigo_barras para referenciar aos respectivos dataframes\n",
    "\n",
    "df_emprestimos.rename(columns={'codigo_barras':'codigo_barras_emprestimo'}, inplace=True)\n",
    "\n",
    "df_exemplares.rename(columns={'codigo_barras':'codigo_barras_exemplar'}, inplace=True)"
   ]
  },
  {
   "cell_type": "code",
   "execution_count": null,
   "id": "e1f191bf",
   "metadata": {},
   "outputs": [],
   "source": [
    "df_emprestimos.dtypes"
   ]
  },
  {
   "cell_type": "code",
   "execution_count": null,
   "id": "4acbf52d",
   "metadata": {},
   "outputs": [],
   "source": [
    "df_exemplares.columns"
   ]
  },
  {
   "cell_type": "code",
   "execution_count": null,
   "id": "81161ce42340ea4d",
   "metadata": {},
   "outputs": [],
   "source": [
    "# Unindo os dataframes\n",
    "\n",
    "df = pd.merge(df_emprestimos, df_exemplares, left_on='codigo_barras_emprestimo', right_on='codigo_barras_exemplar')"
   ]
  },
  {
   "cell_type": "code",
   "execution_count": null,
   "id": "998a5b6f429ee80",
   "metadata": {},
   "outputs": [],
   "source": [
    "# Mostrando alguns registros do dataframe unido\n",
    "df.head()"
   ]
  },
  {
   "cell_type": "code",
   "execution_count": null,
   "id": "3f5d2a399f41abc2",
   "metadata": {},
   "outputs": [],
   "source": [
    "# Retirando colunas inúteis (registro_sistema)\n",
    "df.drop(columns=['registro_sistema'], inplace=True)"
   ]
  },
  {
   "cell_type": "code",
   "execution_count": null,
   "id": "108bc101",
   "metadata": {},
   "outputs": [],
   "source": [
    "df.columns"
   ]
  },
  {
   "cell_type": "markdown",
   "id": "131bfeb68f1163b1",
   "metadata": {
    "ExecuteTime": {
     "end_time": "2025-08-12T21:30:40.783091Z",
     "start_time": "2025-08-12T21:30:40.760264Z"
    }
   },
   "source": [
    "Os itens do acervo em uma biblioteca são organizados por um sistema de classificação de acordo com o respectivo tema. Existem diversos sistemas, mas este conjunto está de acordo com a CDU - Classificação Decimal Universal. Esta classificação é decimal, pois varia de acordo com a classe de cada assunto:\n",
    "\n",
    "\n",
    "000 a 099: Generalidades. Ciência e conhecimento.\n",
    "\n",
    "100 a 199: Filosofia e psicologia.\n",
    "\n",
    "200 a 299: Religião.\n",
    "\n",
    "300 a 399: Ciências sociais.\n",
    "\n",
    "400 a 499: Classe vaga. Provisoriamente não ocupada.\n",
    "\n",
    "500 a 599: Matemática e ciências naturais.\n",
    "\n",
    "600 a 699: Ciências aplicadas.\n",
    "\n",
    "700 a 799: Belas artes.\n",
    "\n",
    "800 a 899: Linguagem. Língua. Linguística.\n",
    "\n",
    "900 a 999: Geografia. Biografia. História.\""
   ]
  },
  {
   "cell_type": "code",
   "execution_count": null,
   "id": "c0ae830dffc60a72",
   "metadata": {},
   "outputs": [],
   "source": [
    "# Classificando o arcevo da biblioteca com .cut()\n",
    "# o tamanho de rotulos deve ser igual a len(caixas)-1\n",
    "\n",
    "caixas = [000, 99, 199, 299, 399, 499, 599, 699, 799, 899, 999]\n",
    "\n",
    "rotulos = [\n",
    "    'Generalidades. Ciência e conhecimento',\n",
    "    'Filosofia e psicologia',\n",
    "    'Religião',\n",
    "    'Ciências sociais',\n",
    "    'Classe vaga. Provisoriamente não ocupada',\n",
    "    'Matemática e ciências naturais',\n",
    "    'Ciências aplicadas',\n",
    "    'Belas artes',\n",
    "    'Linguagem. Língua. Linguística',\n",
    "    'Geografia. Biografia. História.',\n",
    "]\n",
    "\n",
    "df['CDU'] = pd.cut(df['localizacao'], bins=caixas, labels=rotulos, right=True, include_lowest=True)"
   ]
  },
  {
   "cell_type": "code",
   "execution_count": null,
   "id": "976c4cf6a533472e",
   "metadata": {},
   "outputs": [],
   "source": [
    "# A coluna da matricula (“matricula_ou_siape”) não está com um formato muito legível.\n",
    "# Transforme-a em formato String.\n",
    "\n",
    "df['matricula_ou_siape'] = df['matricula_ou_siape'].astype('string').str.split('.').str[0]\n",
    "\n",
    "df.dtypes"
   ]
  },
  {
   "cell_type": "code",
   "execution_count": null,
   "id": "1fdcc28a",
   "metadata": {},
   "outputs": [],
   "source": [
    "df.head()"
   ]
  },
  {
   "cell_type": "code",
   "execution_count": null,
   "id": "68b70158",
   "metadata": {},
   "outputs": [],
   "source": [
    "df.to_parquet('../data/processed/emprestimos_exemplares.parquet', index=False)"
   ]
  },
  {
   "cell_type": "code",
   "execution_count": null,
   "id": "d5bc22c2",
   "metadata": {},
   "outputs": [],
   "source": [
    "df.to_csv('../data/processed/emprestimos_exemplares.csv', encoding='utf-8-sig', index=False)"
   ]
  },
  {
   "cell_type": "code",
   "execution_count": null,
   "id": "5ce5ea8b",
   "metadata": {},
   "outputs": [],
   "source": [
    "df_records_excel_antes_2010 = pd.read_excel(\n",
    "    '../data/raw/students_records/matricula_alunos.xlsx', sheet_name='Até 2010',skiprows=1\n",
    "    )\n",
    "\n",
    "df_records_excel_antes_2010.columns = ['matricula_ou_siape', 'tipo_vinculo_usuario', 'curso']\n",
    "\n",
    "df_records_excel_antes_2010.columns"
   ]
  },
  {
   "cell_type": "code",
   "execution_count": null,
   "id": "9dced964",
   "metadata": {},
   "outputs": [],
   "source": [
    "df_records_excel_antes_2010.shape"
   ]
  },
  {
   "cell_type": "code",
   "execution_count": null,
   "id": "2a05907f",
   "metadata": {},
   "outputs": [],
   "source": [
    "df_records_excel_antes_2010['tipo_vinculo_usuario'].unique()"
   ]
  },
  {
   "cell_type": "code",
   "execution_count": null,
   "id": "dc8f034f",
   "metadata": {},
   "outputs": [],
   "source": [
    "df_records_excel_apos_2010 = pd.read_excel(\n",
    "    '../data/raw/students_records/matricula_alunos.xlsx', sheet_name='Após 2010',skiprows=1\n",
    "    )\n",
    "\n",
    "df_records_excel_apos_2010.columns = ['matricula_ou_siape', 'tipo_vinculo_usuario', 'curso']\n",
    "\n",
    "df_records_excel_apos_2010.columns"
   ]
  },
  {
   "cell_type": "code",
   "execution_count": null,
   "id": "a4a1d09c",
   "metadata": {},
   "outputs": [],
   "source": [
    "df_records_excel_apos_2010.shape"
   ]
  },
  {
   "cell_type": "code",
   "execution_count": null,
   "id": "6cb0e7a5",
   "metadata": {},
   "outputs": [],
   "source": [
    "df_records_excel_apos_2010['tipo_vinculo_usuario'].unique()"
   ]
  },
  {
   "cell_type": "code",
   "execution_count": null,
   "id": "bf20ed72",
   "metadata": {},
   "outputs": [],
   "source": [
    "df_records_excel = pd.concat(\n",
    "    [df_records_excel_antes_2010, df_records_excel_apos_2010],\n",
    "    ignore_index=True\n",
    ")\n",
    "\n",
    "# df_records_excel = df_records_excel.assign(matricula_ou_siape=df_records_excel['matricula_ou_siape'].astype('object'))\n",
    "\n",
    "df_records_excel.dtypes"
   ]
  },
  {
   "cell_type": "code",
   "execution_count": null,
   "id": "5379eb4e",
   "metadata": {},
   "outputs": [],
   "source": [
    "df_records_excel['matricula_ou_siape'] = df_records_excel['matricula_ou_siape'].astype('string').str.split('.').str[0]"
   ]
  },
  {
   "cell_type": "code",
   "execution_count": null,
   "id": "26ae8665",
   "metadata": {},
   "outputs": [],
   "source": [
    "df_records_excel.head()"
   ]
  },
  {
   "cell_type": "code",
   "execution_count": null,
   "id": "fa40a259",
   "metadata": {},
   "outputs": [],
   "source": [
    "df_records_excel.shape"
   ]
  },
  {
   "cell_type": "code",
   "execution_count": null,
   "id": "55e7c33e",
   "metadata": {},
   "outputs": [],
   "source": [
    "df_records_excel.to_csv(\n",
    "    '../data/processed/students_records/matriculas_alunos.csv',\n",
    "    encoding='utf-8-sig',\n",
    "    index=False)"
   ]
  },
  {
   "cell_type": "code",
   "execution_count": null,
   "id": "9c42c81e",
   "metadata": {},
   "outputs": [],
   "source": [
    "# records do ano de 2018\n",
    "\n",
    "df_records_2018 = pd.read_csv('../data/raw/students_records/discentes-2018.csv')\n",
    "\n",
    "# df_records_2018.columns\n",
    "\n",
    "# matricula, nome_curso, nivel_ensino\n",
    "df_records_2018.dtypes"
   ]
  },
  {
   "cell_type": "code",
   "execution_count": null,
   "id": "16b5b02e",
   "metadata": {},
   "outputs": [],
   "source": [
    "df_records_2018.head()"
   ]
  },
  {
   "cell_type": "code",
   "execution_count": null,
   "id": "bd53fccb",
   "metadata": {},
   "outputs": [],
   "source": [
    "df_records_2018.isnull().sum()"
   ]
  },
  {
   "cell_type": "code",
   "execution_count": null,
   "id": "ba160424",
   "metadata": {},
   "outputs": [],
   "source": [
    "# Corrigindo os nomes dos níveis de ensino com ftfy do df_records_2018\n",
    "# por exemplo, o df apresenta ESTATÃ\\x8dSTICA como nível de ensino, com o ftfy passa a ser ESTÁTISTICA\n",
    "# assim como com os outros níveis que apresenta o mesmo erro de caracter\n",
    "\n",
    "df_records_2018['nivel_ensino'] = df_records_2018['nivel_ensino'].apply(ftfy.fix_text)\n",
    "# df_records_2018['nivel_ensino'].unique()"
   ]
  },
  {
   "cell_type": "code",
   "execution_count": null,
   "id": "675d9726",
   "metadata": {},
   "outputs": [],
   "source": [
    "# Assim como nos níveis de ensino, os nomes dos cursos também apresenta o mesmo problema\n",
    "\n",
    "df_records_2018['nome_curso'] = df_records_2018['nome_curso'].apply(\n",
    "    lambda x: ftfy.fix_text(x) if pd.notnull(x) else x\n",
    "    )\n",
    "# df_records_2018['nome_curso'].unique()"
   ]
  },
  {
   "cell_type": "code",
   "execution_count": null,
   "id": "f8a10e00",
   "metadata": {},
   "outputs": [],
   "source": [
    "df_records_2018.head()"
   ]
  },
  {
   "cell_type": "code",
   "execution_count": null,
   "id": "f6785fc2",
   "metadata": {},
   "outputs": [],
   "source": [
    "# Records do ano de 2019\n",
    "df_records_2019 = pd.read_csv('../data/raw/students_records/discentes-2019.csv')\n",
    "df_records_2019.head()"
   ]
  },
  {
   "cell_type": "code",
   "execution_count": null,
   "id": "89681e79",
   "metadata": {},
   "outputs": [],
   "source": [
    "df_records_2019['nivel_ensino'] = df_records_2019['nivel_ensino'].apply(ftfy.fix_text)\n",
    "df_records_2019['nivel_ensino'].unique()"
   ]
  },
  {
   "cell_type": "code",
   "execution_count": null,
   "id": "327a4e3a",
   "metadata": {},
   "outputs": [],
   "source": [
    "df_records_2019['nome_curso'] = df_records_2019['nome_curso'].apply(\n",
    "    lambda x: ftfy.fix_text(x) if pd.notnull(x) else x\n",
    "    )\n",
    "# df_records_2019['nome_curso'].unique()"
   ]
  },
  {
   "cell_type": "code",
   "execution_count": null,
   "id": "94dbfee1",
   "metadata": {},
   "outputs": [],
   "source": [
    "df_records_2018_2019 = pd.concat(\n",
    "    [df_records_2018, df_records_2019], ignore_index=True\n",
    ")"
   ]
  },
  {
   "cell_type": "code",
   "execution_count": null,
   "id": "2ecdb758",
   "metadata": {},
   "outputs": [],
   "source": [
    "# Renomeando colunas\n",
    "\n",
    "df_records_2018_2019 = df_records_2018_2019.rename(columns={\n",
    "    'matricula': 'matricula_ou_siape',\n",
    "    'nivel_ensino': 'tipo_vinculo_usuario',\n",
    "    'nome_curso': 'curso'\n",
    "})"
   ]
  },
  {
   "cell_type": "code",
   "execution_count": null,
   "id": "88ad7621",
   "metadata": {},
   "outputs": [],
   "source": [
    "df_records_2018_2019['matricula_ou_siape'] = df_records_2018_2019['matricula_ou_siape'].astype('string').str.split('.').str[0]"
   ]
  },
  {
   "cell_type": "code",
   "execution_count": null,
   "id": "bfa2a1d2",
   "metadata": {},
   "outputs": [],
   "source": [
    "df_records_2018_2019['tipo_vinculo_usuario'].unique()"
   ]
  },
  {
   "cell_type": "code",
   "execution_count": null,
   "id": "4388a4e7",
   "metadata": {},
   "outputs": [],
   "source": [
    "df_records_2018_2019_graduacao = df_records_2018_2019.loc[df_records_2018_2019['tipo_vinculo_usuario'] == 'GRADUAÇÃO', ['matricula_ou_siape','curso','tipo_vinculo_usuario']]\n",
    "\n",
    "vinculo = {\n",
    "    'GRADUAÇÃO': 'ALUNO DE GRADUAÇÃO'\n",
    "}\n",
    "\n",
    "df_records_2018_2019_graduacao['tipo_vinculo_usuario'] = df_records_2018_2019_graduacao['tipo_vinculo_usuario'].map(vinculo)\n",
    "\n",
    "\n",
    "df_records_2018_2019_graduacao.head()"
   ]
  },
  {
   "cell_type": "code",
   "execution_count": null,
   "id": "a81e352b",
   "metadata": {},
   "outputs": [],
   "source": [
    "df_records_graduacao = pd.concat(\n",
    "    [df_records_2018_2019_graduacao, df_records_excel]\n",
    ")"
   ]
  },
  {
   "cell_type": "code",
   "execution_count": null,
   "id": "a20cf8c6",
   "metadata": {},
   "outputs": [],
   "source": [
    "df_records_graduacao['matricula_ou_siape'].unique()"
   ]
  },
  {
   "cell_type": "code",
   "execution_count": null,
   "id": "307ea642",
   "metadata": {},
   "outputs": [],
   "source": [
    "df_records_graduacao.head()"
   ]
  },
  {
   "cell_type": "code",
   "execution_count": null,
   "id": "8f3d2ca9",
   "metadata": {},
   "outputs": [],
   "source": [
    "df_records_json = pd.read_json('../data/raw/students_records/cadastro_alunos.json')"
   ]
  },
  {
   "cell_type": "code",
   "execution_count": null,
   "id": "016a91ee",
   "metadata": {},
   "outputs": [],
   "source": [
    "df_records_json_graduacao = pd.read_json(df_records_json.registros[0])\n",
    "\n",
    "df_records_json_graduacao['matricula_ou_siape'] = df_records_json_graduacao['matricula_ou_siape'].astype('string').str.split('.').str[0]\n",
    "\n",
    "df_records_json_graduacao.dtypes"
   ]
  },
  {
   "cell_type": "code",
   "execution_count": null,
   "id": "aa7631d4",
   "metadata": {},
   "outputs": [],
   "source": [
    "df_records_json_graduacao.shape"
   ]
  },
  {
   "cell_type": "code",
   "execution_count": null,
   "id": "de0d1652",
   "metadata": {},
   "outputs": [],
   "source": [
    "df_records_json_graduacao.head()"
   ]
  },
  {
   "cell_type": "code",
   "execution_count": null,
   "id": "8d4c9110",
   "metadata": {},
   "outputs": [],
   "source": [
    "df_records = pd.concat([\n",
    "    df_records_graduacao, df_records_json_graduacao\n",
    "],ignore_index=True)"
   ]
  },
  {
   "cell_type": "code",
   "execution_count": null,
   "id": "ad6bd9d5",
   "metadata": {},
   "outputs": [],
   "source": [
    "df_records.shape"
   ]
  },
  {
   "cell_type": "code",
   "execution_count": null,
   "id": "4ff4ecc3",
   "metadata": {},
   "outputs": [],
   "source": [
    "df_records.dtypes"
   ]
  },
  {
   "cell_type": "code",
   "execution_count": null,
   "id": "8958c173",
   "metadata": {},
   "outputs": [],
   "source": [
    "df_records['matricula_ou_siape'].unique()"
   ]
  },
  {
   "cell_type": "code",
   "execution_count": null,
   "id": "4b29f56e",
   "metadata": {},
   "outputs": [],
   "source": [
    "df_records.head()"
   ]
  },
  {
   "cell_type": "code",
   "execution_count": null,
   "id": "aadb15e9",
   "metadata": {},
   "outputs": [],
   "source": [
    "df_records.to_csv(\n",
    "        '../data/processed/students_records/records.csv',\n",
    "        index=False, \n",
    "        encoding='utf-8-sig'\n",
    "    )"
   ]
  },
  {
   "cell_type": "code",
   "execution_count": null,
   "id": "0284cb4a",
   "metadata": {},
   "outputs": [],
   "source": [
    "df_records.to_parquet('../data/processed/students_records/records.parquet', index=False)"
   ]
  },
  {
   "cell_type": "markdown",
   "id": "ae2c0c98",
   "metadata": {},
   "source": [
    "___"
   ]
  },
  {
   "cell_type": "markdown",
   "id": "e0634b73",
   "metadata": {},
   "source": [
    "PÓS-GRADUAÇÃO"
   ]
  },
  {
   "cell_type": "code",
   "execution_count": null,
   "id": "ab257c12",
   "metadata": {},
   "outputs": [],
   "source": [
    "df = pd.read_parquet('../data/processed/emprestimos_exemplares.parquet')"
   ]
  },
  {
   "cell_type": "code",
   "execution_count": null,
   "id": "8208aa68",
   "metadata": {},
   "outputs": [],
   "source": [
    "df_pos_graduacao = df[df['tipo_vinculo_usuario'] == 'ALUNO DE PÓS-GRADUAÇÃO']\n",
    "\n",
    "# df_pos_graduacao.dtypes"
   ]
  },
  {
   "cell_type": "code",
   "execution_count": null,
   "id": "51035c50",
   "metadata": {},
   "outputs": [],
   "source": [
    "df_records_json = pd.read_json('../data/raw/students_records/cadastro_alunos.json')"
   ]
  },
  {
   "cell_type": "code",
   "execution_count": null,
   "id": "09066475",
   "metadata": {},
   "outputs": [],
   "source": [
    "df_records_json_pos_graduacao = pd.read_json(df_records_json.registros[1])\n",
    "\n",
    "df_records_json_pos_graduacao['matricula_ou_siape'] = df_records_json_pos_graduacao['matricula_ou_siape'].astype('string').str.split('.').str[0]\n",
    "\n",
    "df_records_json_pos_graduacao.dtypes"
   ]
  },
  {
   "cell_type": "code",
   "execution_count": null,
   "id": "094b37e0",
   "metadata": {},
   "outputs": [],
   "source": [
    "emprestimos_pos_graduacao = pd.concat(\n",
    "    [df_pos_graduacao, df_records_json_pos_graduacao],ignore_index=True\n",
    ")"
   ]
  },
  {
   "cell_type": "code",
   "execution_count": null,
   "id": "9db7b092",
   "metadata": {},
   "outputs": [],
   "source": [
    "emprestimos_pos_graduacao = df_pos_graduacao.merge(df_records_json_pos_graduacao)"
   ]
  },
  {
   "cell_type": "code",
   "execution_count": null,
   "id": "cedeba6c",
   "metadata": {},
   "outputs": [],
   "source": [
    "emprestimos_pos_graduacao"
   ]
  },
  {
   "cell_type": "code",
   "execution_count": null,
   "id": "62a708f0",
   "metadata": {},
   "outputs": [],
   "source": [
    "emprestimos_pos_graduacao.dtypes"
   ]
  },
  {
   "cell_type": "code",
   "execution_count": null,
   "id": "519c0fe1",
   "metadata": {},
   "outputs": [],
   "source": [
    "emprestimos_pos_graduacao['data_emprestimo'] = pd.to_datetime(emprestimos_pos_graduacao['data_emprestimo'])\n",
    "emprestimos_pos_graduacao.dtypes"
   ]
  },
  {
   "cell_type": "code",
   "execution_count": null,
   "id": "e5bd0049",
   "metadata": {},
   "outputs": [],
   "source": [
    "emprestimos_pos_graduacao.to_parquet(\n",
    "        '../data/processed/students_records/records_pos_graduacao.parquet', index=False\n",
    "    )"
   ]
  },
  {
   "cell_type": "code",
   "execution_count": null,
   "id": "d0eec5be",
   "metadata": {},
   "outputs": [],
   "source": []
  }
 ],
 "metadata": {
  "kernelspec": {
   "display_name": "py_313_data",
   "language": "python",
   "name": "python3"
  },
  "language_info": {
   "codemirror_mode": {
    "name": "ipython",
    "version": 3
   },
   "file_extension": ".py",
   "mimetype": "text/x-python",
   "name": "python",
   "nbconvert_exporter": "python",
   "pygments_lexer": "ipython3",
   "version": "3.13.5"
  }
 },
 "nbformat": 4,
 "nbformat_minor": 5
}
