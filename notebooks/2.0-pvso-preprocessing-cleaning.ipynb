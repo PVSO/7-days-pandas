{
 "cells": [
  {
   "cell_type": "code",
   "execution_count": 1,
   "id": "79fdfaa42061cbdb",
   "metadata": {
    "ExecuteTime": {
     "end_time": "2025-08-13T17:58:14.146445Z",
     "start_time": "2025-08-13T17:58:12.073634Z"
    },
    "collapsed": true
   },
   "outputs": [],
   "source": [
    "import pandas as pd\n",
    "import ftfy"
   ]
  },
  {
   "cell_type": "code",
   "execution_count": 2,
   "id": "3a33c5e420dbc459",
   "metadata": {
    "ExecuteTime": {
     "end_time": "2025-08-13T17:58:31.140498Z",
     "start_time": "2025-08-13T17:58:14.233875Z"
    }
   },
   "outputs": [
    {
     "data": {
      "text/html": [
       "<div>\n",
       "<style scoped>\n",
       "    .dataframe tbody tr th:only-of-type {\n",
       "        vertical-align: middle;\n",
       "    }\n",
       "\n",
       "    .dataframe tbody tr th {\n",
       "        vertical-align: top;\n",
       "    }\n",
       "\n",
       "    .dataframe thead th {\n",
       "        text-align: right;\n",
       "    }\n",
       "</style>\n",
       "<table border=\"1\" class=\"dataframe\">\n",
       "  <thead>\n",
       "    <tr style=\"text-align: right;\">\n",
       "      <th></th>\n",
       "      <th>id_emprestimo</th>\n",
       "      <th>codigo_barras</th>\n",
       "      <th>data_renovacao</th>\n",
       "      <th>data_emprestimo</th>\n",
       "      <th>data_devolucao</th>\n",
       "      <th>matricula_ou_siape</th>\n",
       "      <th>tipo_vinculo_usuario</th>\n",
       "    </tr>\n",
       "  </thead>\n",
       "  <tbody>\n",
       "    <tr>\n",
       "      <th>0</th>\n",
       "      <td>709684</td>\n",
       "      <td>L095049</td>\n",
       "      <td>NaN</td>\n",
       "      <td>2010/01/04 07:44:10.721000000</td>\n",
       "      <td>2010/01/05 16:26:12.662000000</td>\n",
       "      <td>2.008023e+09</td>\n",
       "      <td>ALUNO DE GRADUAÇÃO</td>\n",
       "    </tr>\n",
       "    <tr>\n",
       "      <th>1</th>\n",
       "      <td>709685</td>\n",
       "      <td>L167050</td>\n",
       "      <td>NaN</td>\n",
       "      <td>2010/01/04 07:44:10.750000000</td>\n",
       "      <td>2010/01/12 07:34:13.934000000</td>\n",
       "      <td>2.008023e+09</td>\n",
       "      <td>ALUNO DE GRADUAÇÃO</td>\n",
       "    </tr>\n",
       "    <tr>\n",
       "      <th>2</th>\n",
       "      <td>709686</td>\n",
       "      <td>2006017618</td>\n",
       "      <td>2010/01/26 08:07:01.738000000</td>\n",
       "      <td>2010/01/04 08:08:44.081000000</td>\n",
       "      <td>2010/02/25 07:36:25.800000000</td>\n",
       "      <td>2.008112e+09</td>\n",
       "      <td>ALUNO DE PÓS-GRADUAÇÃO</td>\n",
       "    </tr>\n",
       "    <tr>\n",
       "      <th>3</th>\n",
       "      <td>709687</td>\n",
       "      <td>L184117</td>\n",
       "      <td>2010/01/18 11:07:46.470000000</td>\n",
       "      <td>2010/01/04 08:24:21.284000000</td>\n",
       "      <td>2010/02/03 08:58:45.692000000</td>\n",
       "      <td>2.007211e+08</td>\n",
       "      <td>ALUNO DE GRADUAÇÃO</td>\n",
       "    </tr>\n",
       "    <tr>\n",
       "      <th>4</th>\n",
       "      <td>709688</td>\n",
       "      <td>2007027500</td>\n",
       "      <td>2010/01/19 15:59:26.464000000</td>\n",
       "      <td>2010/01/04 08:27:33.569000000</td>\n",
       "      <td>2010/02/03 13:06:30.662000000</td>\n",
       "      <td>2.009046e+09</td>\n",
       "      <td>ALUNO DE GRADUAÇÃO</td>\n",
       "    </tr>\n",
       "  </tbody>\n",
       "</table>\n",
       "</div>"
      ],
      "text/plain": [
       "   id_emprestimo codigo_barras                 data_renovacao  \\\n",
       "0         709684       L095049                            NaN   \n",
       "1         709685       L167050                            NaN   \n",
       "2         709686    2006017618  2010/01/26 08:07:01.738000000   \n",
       "3         709687       L184117  2010/01/18 11:07:46.470000000   \n",
       "4         709688    2007027500  2010/01/19 15:59:26.464000000   \n",
       "\n",
       "                 data_emprestimo                 data_devolucao  \\\n",
       "0  2010/01/04 07:44:10.721000000  2010/01/05 16:26:12.662000000   \n",
       "1  2010/01/04 07:44:10.750000000  2010/01/12 07:34:13.934000000   \n",
       "2  2010/01/04 08:08:44.081000000  2010/02/25 07:36:25.800000000   \n",
       "3  2010/01/04 08:24:21.284000000  2010/02/03 08:58:45.692000000   \n",
       "4  2010/01/04 08:27:33.569000000  2010/02/03 13:06:30.662000000   \n",
       "\n",
       "   matricula_ou_siape    tipo_vinculo_usuario  \n",
       "0        2.008023e+09      ALUNO DE GRADUAÇÃO  \n",
       "1        2.008023e+09      ALUNO DE GRADUAÇÃO  \n",
       "2        2.008112e+09  ALUNO DE PÓS-GRADUAÇÃO  \n",
       "3        2.007211e+08      ALUNO DE GRADUAÇÃO  \n",
       "4        2.009046e+09      ALUNO DE GRADUAÇÃO  "
      ]
     },
     "execution_count": 2,
     "metadata": {},
     "output_type": "execute_result"
    }
   ],
   "source": [
    "# Lendo o dataframe dos emprestimos\n",
    "\n",
    "df_emprestimos = pd.read_csv('../data/interim/emprestimos-concat.csv')\n",
    "\n",
    "# Mostrando alguns emprestimos\n",
    "df_emprestimos.head()"
   ]
  },
  {
   "cell_type": "code",
   "execution_count": null,
   "id": "5b8da28d",
   "metadata": {},
   "outputs": [],
   "source": [
    "df_emprestimos.columns"
   ]
  },
  {
   "cell_type": "code",
   "execution_count": 3,
   "id": "b53a91ea2e267823",
   "metadata": {},
   "outputs": [
    {
     "data": {
      "text/html": [
       "<div>\n",
       "<style scoped>\n",
       "    .dataframe tbody tr th:only-of-type {\n",
       "        vertical-align: middle;\n",
       "    }\n",
       "\n",
       "    .dataframe tbody tr th {\n",
       "        vertical-align: top;\n",
       "    }\n",
       "\n",
       "    .dataframe thead th {\n",
       "        text-align: right;\n",
       "    }\n",
       "</style>\n",
       "<table border=\"1\" class=\"dataframe\">\n",
       "  <thead>\n",
       "    <tr style=\"text-align: right;\">\n",
       "      <th></th>\n",
       "      <th>id_exemplar</th>\n",
       "      <th>codigo_barras</th>\n",
       "      <th>colecao</th>\n",
       "      <th>biblioteca</th>\n",
       "      <th>status_material</th>\n",
       "      <th>localizacao</th>\n",
       "      <th>registro_sistema</th>\n",
       "    </tr>\n",
       "    <tr>\n",
       "      <th>index</th>\n",
       "      <th></th>\n",
       "      <th></th>\n",
       "      <th></th>\n",
       "      <th></th>\n",
       "      <th></th>\n",
       "      <th></th>\n",
       "      <th></th>\n",
       "    </tr>\n",
       "  </thead>\n",
       "  <tbody>\n",
       "    <tr>\n",
       "      <th>0</th>\n",
       "      <td>5</td>\n",
       "      <td>L000003</td>\n",
       "      <td>Acervo Circulante</td>\n",
       "      <td>Biblioteca Central Zila Mamede</td>\n",
       "      <td>REGULAR</td>\n",
       "      <td>694</td>\n",
       "      <td>1</td>\n",
       "    </tr>\n",
       "    <tr>\n",
       "      <th>1</th>\n",
       "      <td>4</td>\n",
       "      <td>L000002</td>\n",
       "      <td>Acervo Circulante</td>\n",
       "      <td>Biblioteca Central Zila Mamede</td>\n",
       "      <td>REGULAR</td>\n",
       "      <td>688</td>\n",
       "      <td>1</td>\n",
       "    </tr>\n",
       "    <tr>\n",
       "      <th>2</th>\n",
       "      <td>3</td>\n",
       "      <td>L000001</td>\n",
       "      <td>Acervo Circulante</td>\n",
       "      <td>Biblioteca Central Zila Mamede</td>\n",
       "      <td>ESPECIAL</td>\n",
       "      <td>638</td>\n",
       "      <td>1</td>\n",
       "    </tr>\n",
       "    <tr>\n",
       "      <th>3</th>\n",
       "      <td>7</td>\n",
       "      <td>L000114</td>\n",
       "      <td>Acervo Circulante</td>\n",
       "      <td>Biblioteca Central Zila Mamede</td>\n",
       "      <td>REGULAR</td>\n",
       "      <td>616</td>\n",
       "      <td>5</td>\n",
       "    </tr>\n",
       "    <tr>\n",
       "      <th>5</th>\n",
       "      <td>10</td>\n",
       "      <td>L000041</td>\n",
       "      <td>Acervo Circulante</td>\n",
       "      <td>Biblioteca Central Zila Mamede</td>\n",
       "      <td>ESPECIAL</td>\n",
       "      <td>657</td>\n",
       "      <td>15</td>\n",
       "    </tr>\n",
       "  </tbody>\n",
       "</table>\n",
       "</div>"
      ],
      "text/plain": [
       "       id_exemplar codigo_barras            colecao  \\\n",
       "index                                                 \n",
       "0                5       L000003  Acervo Circulante   \n",
       "1                4       L000002  Acervo Circulante   \n",
       "2                3       L000001  Acervo Circulante   \n",
       "3                7       L000114  Acervo Circulante   \n",
       "5               10       L000041  Acervo Circulante   \n",
       "\n",
       "                           biblioteca status_material  localizacao  \\\n",
       "index                                                                \n",
       "0      Biblioteca Central Zila Mamede         REGULAR          694   \n",
       "1      Biblioteca Central Zila Mamede         REGULAR          688   \n",
       "2      Biblioteca Central Zila Mamede        ESPECIAL          638   \n",
       "3      Biblioteca Central Zila Mamede         REGULAR          616   \n",
       "5      Biblioteca Central Zila Mamede        ESPECIAL          657   \n",
       "\n",
       "       registro_sistema  \n",
       "index                    \n",
       "0                     1  \n",
       "1                     1  \n",
       "2                     1  \n",
       "3                     5  \n",
       "5                    15  "
      ]
     },
     "execution_count": 3,
     "metadata": {},
     "output_type": "execute_result"
    }
   ],
   "source": [
    "# Lendo o dataframe com os emprestimos\n",
    "df_exemplares = pd.read_parquet('../data/raw/dados_exemplares.parquet')\n",
    "\n",
    "# Mostrando alguns exemplares\n",
    "df_exemplares.head()"
   ]
  },
  {
   "cell_type": "code",
   "execution_count": 4,
   "id": "5dd8ca7459bfaa1f",
   "metadata": {},
   "outputs": [],
   "source": [
    "# Renomeando as colunas codigo_barras para referenciar aos respectivos dataframes\n",
    "\n",
    "df_emprestimos.rename(columns={'codigo_barras':'codigo_barras_emprestimo'}, inplace=True)\n",
    "\n",
    "df_exemplares.rename(columns={'codigo_barras':'codigo_barras_exemplar'}, inplace=True)"
   ]
  },
  {
   "cell_type": "code",
   "execution_count": 5,
   "id": "e1f191bf",
   "metadata": {},
   "outputs": [
    {
     "data": {
      "text/plain": [
       "id_emprestimo                 int64\n",
       "codigo_barras_emprestimo     object\n",
       "data_renovacao               object\n",
       "data_emprestimo              object\n",
       "data_devolucao               object\n",
       "matricula_ou_siape          float64\n",
       "tipo_vinculo_usuario         object\n",
       "dtype: object"
      ]
     },
     "execution_count": 5,
     "metadata": {},
     "output_type": "execute_result"
    }
   ],
   "source": [
    "df_emprestimos.dtypes"
   ]
  },
  {
   "cell_type": "code",
   "execution_count": null,
   "id": "4acbf52d",
   "metadata": {},
   "outputs": [],
   "source": [
    "df_exemplares.columns"
   ]
  },
  {
   "cell_type": "code",
   "execution_count": 6,
   "id": "81161ce42340ea4d",
   "metadata": {},
   "outputs": [],
   "source": [
    "# Unindo os dataframes\n",
    "\n",
    "df = pd.merge(df_emprestimos, df_exemplares, left_on='codigo_barras_emprestimo', right_on='codigo_barras_exemplar')"
   ]
  },
  {
   "cell_type": "code",
   "execution_count": null,
   "id": "998a5b6f429ee80",
   "metadata": {},
   "outputs": [],
   "source": [
    "# Mostrando alguns registros do dataframe unido\n",
    "df.head()"
   ]
  },
  {
   "cell_type": "code",
   "execution_count": 7,
   "id": "3f5d2a399f41abc2",
   "metadata": {},
   "outputs": [],
   "source": [
    "# Retirando colunas inúteis (registro_sistema)\n",
    "df.drop(columns=['registro_sistema'], inplace=True)"
   ]
  },
  {
   "cell_type": "code",
   "execution_count": null,
   "id": "108bc101",
   "metadata": {},
   "outputs": [],
   "source": [
    "df.columns"
   ]
  },
  {
   "cell_type": "markdown",
   "id": "131bfeb68f1163b1",
   "metadata": {
    "ExecuteTime": {
     "end_time": "2025-08-12T21:30:40.783091Z",
     "start_time": "2025-08-12T21:30:40.760264Z"
    }
   },
   "source": [
    "Os itens do acervo em uma biblioteca são organizados por um sistema de classificação de acordo com o respectivo tema. Existem diversos sistemas, mas este conjunto está de acordo com a CDU - Classificação Decimal Universal. Esta classificação é decimal, pois varia de acordo com a classe de cada assunto:\n",
    "\n",
    "\n",
    "000 a 099: Generalidades. Ciência e conhecimento.\n",
    "\n",
    "100 a 199: Filosofia e psicologia.\n",
    "\n",
    "200 a 299: Religião.\n",
    "\n",
    "300 a 399: Ciências sociais.\n",
    "\n",
    "400 a 499: Classe vaga. Provisoriamente não ocupada.\n",
    "\n",
    "500 a 599: Matemática e ciências naturais.\n",
    "\n",
    "600 a 699: Ciências aplicadas.\n",
    "\n",
    "700 a 799: Belas artes.\n",
    "\n",
    "800 a 899: Linguagem. Língua. Linguística.\n",
    "\n",
    "900 a 999: Geografia. Biografia. História.\""
   ]
  },
  {
   "cell_type": "code",
   "execution_count": 8,
   "id": "c0ae830dffc60a72",
   "metadata": {},
   "outputs": [],
   "source": [
    "# Classificando o arcevo da biblioteca com .cut()\n",
    "# o tamanho de rotulos deve ser igual a len(caixas)-1\n",
    "\n",
    "caixas = [000, 99, 199, 299, 399, 499, 599, 699, 799, 899, 999]\n",
    "\n",
    "rotulos = [\n",
    "    'Generalidades. Ciência e conhecimento',\n",
    "    'Filosofia e psicologia',\n",
    "    'Religião',\n",
    "    'Ciências sociais',\n",
    "    'Classe vaga. Provisoriamente não ocupada',\n",
    "    'Matemática e ciências naturais',\n",
    "    'Ciências aplicadas',\n",
    "    'Belas artes',\n",
    "    'Linguagem. Língua. Linguística',\n",
    "    'Geografia. Biografia. História.',\n",
    "]\n",
    "\n",
    "df['CDU'] = pd.cut(df['localizacao'], bins=caixas, labels=rotulos, right=True, include_lowest=True)"
   ]
  },
  {
   "cell_type": "code",
   "execution_count": 9,
   "id": "976c4cf6a533472e",
   "metadata": {},
   "outputs": [
    {
     "data": {
      "text/plain": [
       "id_emprestimo                  int64\n",
       "codigo_barras_emprestimo      object\n",
       "data_renovacao                object\n",
       "data_emprestimo               object\n",
       "data_devolucao                object\n",
       "matricula_ou_siape            object\n",
       "tipo_vinculo_usuario          object\n",
       "id_exemplar                    int64\n",
       "codigo_barras_exemplar        object\n",
       "colecao                       object\n",
       "biblioteca                    object\n",
       "status_material               object\n",
       "localizacao                    int64\n",
       "CDU                         category\n",
       "dtype: object"
      ]
     },
     "execution_count": 9,
     "metadata": {},
     "output_type": "execute_result"
    }
   ],
   "source": [
    "# A coluna da matricula (“matricula_ou_siape”) não está com um formato muito legível. Transforme-a em formato String.\n",
    "# O desafio pediu para transformar a coluna em string, mas o pandas assimila uma string como object\n",
    "\n",
    "df['matricula_ou_siape'] = df['matricula_ou_siape'].astype('string').str.split('.').str[0]\n",
    "\n",
    "df.dtypes"
   ]
  },
  {
   "cell_type": "code",
   "execution_count": 75,
   "id": "1fdcc28a",
   "metadata": {},
   "outputs": [
    {
     "data": {
      "text/html": [
       "<div>\n",
       "<style scoped>\n",
       "    .dataframe tbody tr th:only-of-type {\n",
       "        vertical-align: middle;\n",
       "    }\n",
       "\n",
       "    .dataframe tbody tr th {\n",
       "        vertical-align: top;\n",
       "    }\n",
       "\n",
       "    .dataframe thead th {\n",
       "        text-align: right;\n",
       "    }\n",
       "</style>\n",
       "<table border=\"1\" class=\"dataframe\">\n",
       "  <thead>\n",
       "    <tr style=\"text-align: right;\">\n",
       "      <th></th>\n",
       "      <th>id_emprestimo</th>\n",
       "      <th>codigo_barras_emprestimo</th>\n",
       "      <th>data_renovacao</th>\n",
       "      <th>data_emprestimo</th>\n",
       "      <th>data_devolucao</th>\n",
       "      <th>matricula_ou_siape</th>\n",
       "      <th>tipo_vinculo_usuario</th>\n",
       "      <th>id_exemplar</th>\n",
       "      <th>codigo_barras_exemplar</th>\n",
       "      <th>colecao</th>\n",
       "      <th>biblioteca</th>\n",
       "      <th>status_material</th>\n",
       "      <th>localizacao</th>\n",
       "      <th>CDU</th>\n",
       "    </tr>\n",
       "  </thead>\n",
       "  <tbody>\n",
       "    <tr>\n",
       "      <th>0</th>\n",
       "      <td>709684</td>\n",
       "      <td>L095049</td>\n",
       "      <td>NaN</td>\n",
       "      <td>2010/01/04 07:44:10.721000000</td>\n",
       "      <td>2010/01/05 16:26:12.662000000</td>\n",
       "      <td>2008023265</td>\n",
       "      <td>ALUNO DE GRADUAÇÃO</td>\n",
       "      <td>13259</td>\n",
       "      <td>L095049</td>\n",
       "      <td>Acervo Circulante</td>\n",
       "      <td>Biblioteca Central Zila Mamede</td>\n",
       "      <td>REGULAR</td>\n",
       "      <td>630</td>\n",
       "      <td>Ciências aplicadas</td>\n",
       "    </tr>\n",
       "    <tr>\n",
       "      <th>1</th>\n",
       "      <td>709685</td>\n",
       "      <td>L167050</td>\n",
       "      <td>NaN</td>\n",
       "      <td>2010/01/04 07:44:10.750000000</td>\n",
       "      <td>2010/01/12 07:34:13.934000000</td>\n",
       "      <td>2008023265</td>\n",
       "      <td>ALUNO DE GRADUAÇÃO</td>\n",
       "      <td>70865</td>\n",
       "      <td>L167050</td>\n",
       "      <td>Acervo Circulante</td>\n",
       "      <td>Biblioteca Central Zila Mamede</td>\n",
       "      <td>REGULAR</td>\n",
       "      <td>647</td>\n",
       "      <td>Ciências aplicadas</td>\n",
       "    </tr>\n",
       "    <tr>\n",
       "      <th>2</th>\n",
       "      <td>709686</td>\n",
       "      <td>2006017618</td>\n",
       "      <td>2010/01/26 08:07:01.738000000</td>\n",
       "      <td>2010/01/04 08:08:44.081000000</td>\n",
       "      <td>2010/02/25 07:36:25.800000000</td>\n",
       "      <td>2008112114</td>\n",
       "      <td>ALUNO DE PÓS-GRADUAÇÃO</td>\n",
       "      <td>195347</td>\n",
       "      <td>2006017618</td>\n",
       "      <td>Acervo Circulante</td>\n",
       "      <td>Biblioteca Setorial Prof. Rodolfo Helinski - E...</td>\n",
       "      <td>REGULAR</td>\n",
       "      <td>640</td>\n",
       "      <td>Ciências aplicadas</td>\n",
       "    </tr>\n",
       "    <tr>\n",
       "      <th>3</th>\n",
       "      <td>709687</td>\n",
       "      <td>L184117</td>\n",
       "      <td>2010/01/18 11:07:46.470000000</td>\n",
       "      <td>2010/01/04 08:24:21.284000000</td>\n",
       "      <td>2010/02/03 08:58:45.692000000</td>\n",
       "      <td>200721119</td>\n",
       "      <td>ALUNO DE GRADUAÇÃO</td>\n",
       "      <td>131639</td>\n",
       "      <td>L184117</td>\n",
       "      <td>Acervo Circulante</td>\n",
       "      <td>Biblioteca Central Zila Mamede</td>\n",
       "      <td>REGULAR</td>\n",
       "      <td>609</td>\n",
       "      <td>Ciências aplicadas</td>\n",
       "    </tr>\n",
       "    <tr>\n",
       "      <th>4</th>\n",
       "      <td>709688</td>\n",
       "      <td>2007027500</td>\n",
       "      <td>2010/01/19 15:59:26.464000000</td>\n",
       "      <td>2010/01/04 08:27:33.569000000</td>\n",
       "      <td>2010/02/03 13:06:30.662000000</td>\n",
       "      <td>2009045971</td>\n",
       "      <td>ALUNO DE GRADUAÇÃO</td>\n",
       "      <td>225646</td>\n",
       "      <td>2007027500</td>\n",
       "      <td>Acervo Circulante</td>\n",
       "      <td>Biblioteca Central Zila Mamede</td>\n",
       "      <td>REGULAR</td>\n",
       "      <td>686</td>\n",
       "      <td>Ciências aplicadas</td>\n",
       "    </tr>\n",
       "  </tbody>\n",
       "</table>\n",
       "</div>"
      ],
      "text/plain": [
       "   id_emprestimo codigo_barras_emprestimo                 data_renovacao  \\\n",
       "0         709684                  L095049                            NaN   \n",
       "1         709685                  L167050                            NaN   \n",
       "2         709686               2006017618  2010/01/26 08:07:01.738000000   \n",
       "3         709687                  L184117  2010/01/18 11:07:46.470000000   \n",
       "4         709688               2007027500  2010/01/19 15:59:26.464000000   \n",
       "\n",
       "                 data_emprestimo                 data_devolucao  \\\n",
       "0  2010/01/04 07:44:10.721000000  2010/01/05 16:26:12.662000000   \n",
       "1  2010/01/04 07:44:10.750000000  2010/01/12 07:34:13.934000000   \n",
       "2  2010/01/04 08:08:44.081000000  2010/02/25 07:36:25.800000000   \n",
       "3  2010/01/04 08:24:21.284000000  2010/02/03 08:58:45.692000000   \n",
       "4  2010/01/04 08:27:33.569000000  2010/02/03 13:06:30.662000000   \n",
       "\n",
       "  matricula_ou_siape    tipo_vinculo_usuario  id_exemplar  \\\n",
       "0         2008023265      ALUNO DE GRADUAÇÃO        13259   \n",
       "1         2008023265      ALUNO DE GRADUAÇÃO        70865   \n",
       "2         2008112114  ALUNO DE PÓS-GRADUAÇÃO       195347   \n",
       "3          200721119      ALUNO DE GRADUAÇÃO       131639   \n",
       "4         2009045971      ALUNO DE GRADUAÇÃO       225646   \n",
       "\n",
       "  codigo_barras_exemplar            colecao  \\\n",
       "0                L095049  Acervo Circulante   \n",
       "1                L167050  Acervo Circulante   \n",
       "2             2006017618  Acervo Circulante   \n",
       "3                L184117  Acervo Circulante   \n",
       "4             2007027500  Acervo Circulante   \n",
       "\n",
       "                                          biblioteca status_material  \\\n",
       "0                     Biblioteca Central Zila Mamede         REGULAR   \n",
       "1                     Biblioteca Central Zila Mamede         REGULAR   \n",
       "2  Biblioteca Setorial Prof. Rodolfo Helinski - E...         REGULAR   \n",
       "3                     Biblioteca Central Zila Mamede         REGULAR   \n",
       "4                     Biblioteca Central Zila Mamede         REGULAR   \n",
       "\n",
       "   localizacao                 CDU  \n",
       "0          630  Ciências aplicadas  \n",
       "1          647  Ciências aplicadas  \n",
       "2          640  Ciências aplicadas  \n",
       "3          609  Ciências aplicadas  \n",
       "4          686  Ciências aplicadas  "
      ]
     },
     "execution_count": 75,
     "metadata": {},
     "output_type": "execute_result"
    }
   ],
   "source": [
    "df.head()"
   ]
  },
  {
   "cell_type": "code",
   "execution_count": null,
   "id": "bd87c594",
   "metadata": {},
   "outputs": [],
   "source": []
  },
  {
   "cell_type": "code",
   "execution_count": 52,
   "id": "68b70158",
   "metadata": {},
   "outputs": [],
   "source": [
    "df.to_parquet('../data/processed/emprestimos_exemplares.parquet', index=False)"
   ]
  },
  {
   "cell_type": "code",
   "execution_count": 70,
   "id": "d5bc22c2",
   "metadata": {},
   "outputs": [],
   "source": [
    "df.to_csv('../data/processed/emprestimos_exemplares.csv', encoding='utf-8-sig', index=False)"
   ]
  },
  {
   "cell_type": "code",
   "execution_count": 17,
   "id": "5ce5ea8b",
   "metadata": {},
   "outputs": [
    {
     "data": {
      "text/plain": [
       "Index(['matricula_ou_siape', 'tipo_vinculo_usuario', 'curso'], dtype='object')"
      ]
     },
     "execution_count": 17,
     "metadata": {},
     "output_type": "execute_result"
    }
   ],
   "source": [
    "df_records_excel_antes_2010 = pd.read_excel(\n",
    "    '../data/raw/students_records/matricula_alunos.xlsx', sheet_name='Até 2010',skiprows=1\n",
    "    )\n",
    "\n",
    "df_records_excel_antes_2010.columns = ['matricula_ou_siape', 'tipo_vinculo_usuario', 'curso']\n",
    "\n",
    "df_records_excel_antes_2010.columns"
   ]
  },
  {
   "cell_type": "code",
   "execution_count": null,
   "id": "9dced964",
   "metadata": {},
   "outputs": [],
   "source": [
    "df_records_excel_antes_2010.shape"
   ]
  },
  {
   "cell_type": "code",
   "execution_count": 18,
   "id": "dc8f034f",
   "metadata": {},
   "outputs": [
    {
     "data": {
      "text/plain": [
       "Index(['matricula_ou_siape', 'tipo_vinculo_usuario', 'curso'], dtype='object')"
      ]
     },
     "execution_count": 18,
     "metadata": {},
     "output_type": "execute_result"
    }
   ],
   "source": [
    "df_records_excel_apos_2010 = pd.read_excel(\n",
    "    '../data/raw/students_records/matricula_alunos.xlsx', sheet_name='Após 2010',skiprows=1\n",
    "    )\n",
    "\n",
    "df_records_excel_apos_2010.columns = ['matricula_ou_siape', 'tipo_vinculo_usuario', 'curso']\n",
    "\n",
    "df_records_excel_apos_2010.columns"
   ]
  },
  {
   "cell_type": "code",
   "execution_count": null,
   "id": "a4a1d09c",
   "metadata": {},
   "outputs": [],
   "source": [
    "df_records_excel_apos_2010.shape"
   ]
  },
  {
   "cell_type": "code",
   "execution_count": 19,
   "id": "bf20ed72",
   "metadata": {},
   "outputs": [
    {
     "data": {
      "text/plain": [
       "matricula_ou_siape      float64\n",
       "tipo_vinculo_usuario     object\n",
       "curso                    object\n",
       "dtype: object"
      ]
     },
     "execution_count": 19,
     "metadata": {},
     "output_type": "execute_result"
    }
   ],
   "source": [
    "df_records_excel = pd.concat(\n",
    "    [df_records_excel_antes_2010, df_records_excel_apos_2010],\n",
    "    ignore_index=True\n",
    ")\n",
    "\n",
    "# df_records_excel = df_records_excel.assign(matricula_ou_siape=df_records_excel['matricula_ou_siape'].astype('object'))\n",
    "\n",
    "df_records_excel.dtypes"
   ]
  },
  {
   "cell_type": "code",
   "execution_count": 20,
   "id": "5379eb4e",
   "metadata": {},
   "outputs": [],
   "source": [
    "df_records_excel['matricula_ou_siape'] = df_records_excel['matricula_ou_siape'].astype('string').str.split('.').str[0]"
   ]
  },
  {
   "cell_type": "code",
   "execution_count": 15,
   "id": "26ae8665",
   "metadata": {},
   "outputs": [
    {
     "data": {
      "text/html": [
       "<div>\n",
       "<style scoped>\n",
       "    .dataframe tbody tr th:only-of-type {\n",
       "        vertical-align: middle;\n",
       "    }\n",
       "\n",
       "    .dataframe tbody tr th {\n",
       "        vertical-align: top;\n",
       "    }\n",
       "\n",
       "    .dataframe thead th {\n",
       "        text-align: right;\n",
       "    }\n",
       "</style>\n",
       "<table border=\"1\" class=\"dataframe\">\n",
       "  <thead>\n",
       "    <tr style=\"text-align: right;\">\n",
       "      <th></th>\n",
       "      <th>matricula_ou_siape</th>\n",
       "      <th>tipo_vinculo_usuario</th>\n",
       "      <th>curso</th>\n",
       "    </tr>\n",
       "  </thead>\n",
       "  <tbody>\n",
       "    <tr>\n",
       "      <th>0</th>\n",
       "      <td>190001688</td>\n",
       "      <td>ALUNO DE GRADUAÇÃO</td>\n",
       "      <td>MATEMÁTICA</td>\n",
       "    </tr>\n",
       "    <tr>\n",
       "      <th>1</th>\n",
       "      <td>199014489</td>\n",
       "      <td>ALUNO DE GRADUAÇÃO</td>\n",
       "      <td>CIÊNCIAS BIOLÓGICAS</td>\n",
       "    </tr>\n",
       "    <tr>\n",
       "      <th>2</th>\n",
       "      <td>199735674</td>\n",
       "      <td>ALUNO DE GRADUAÇÃO</td>\n",
       "      <td>MATEMÁTICA</td>\n",
       "    </tr>\n",
       "    <tr>\n",
       "      <th>3</th>\n",
       "      <td>199812431</td>\n",
       "      <td>ALUNO DE GRADUAÇÃO</td>\n",
       "      <td>LETRAS</td>\n",
       "    </tr>\n",
       "    <tr>\n",
       "      <th>4</th>\n",
       "      <td>199823670</td>\n",
       "      <td>ALUNO DE GRADUAÇÃO</td>\n",
       "      <td>ECOLOGIA</td>\n",
       "    </tr>\n",
       "  </tbody>\n",
       "</table>\n",
       "</div>"
      ],
      "text/plain": [
       "  matricula_ou_siape tipo_vinculo_usuario                curso\n",
       "0          190001688   ALUNO DE GRADUAÇÃO           MATEMÁTICA\n",
       "1          199014489   ALUNO DE GRADUAÇÃO  CIÊNCIAS BIOLÓGICAS\n",
       "2          199735674   ALUNO DE GRADUAÇÃO           MATEMÁTICA\n",
       "3          199812431   ALUNO DE GRADUAÇÃO               LETRAS\n",
       "4          199823670   ALUNO DE GRADUAÇÃO             ECOLOGIA"
      ]
     },
     "execution_count": 15,
     "metadata": {},
     "output_type": "execute_result"
    }
   ],
   "source": [
    "df_records_excel.head()"
   ]
  },
  {
   "cell_type": "code",
   "execution_count": null,
   "id": "fa40a259",
   "metadata": {},
   "outputs": [],
   "source": [
    "df_records_excel.shape"
   ]
  },
  {
   "cell_type": "code",
   "execution_count": null,
   "id": "55e7c33e",
   "metadata": {},
   "outputs": [],
   "source": [
    "df_records_excel.to_csv(\n",
    "    '../data/processed/students_records/matriculas_alunos.csv',\n",
    "    encoding='utf-8-sig',\n",
    "    index=False)"
   ]
  },
  {
   "cell_type": "code",
   "execution_count": 3,
   "id": "b17e424a",
   "metadata": {},
   "outputs": [
    {
     "data": {
      "text/plain": [
       "Index(['matricula_ou_siape', 'tipo_vinculo_usuario', 'curso'], dtype='object')"
      ]
     },
     "execution_count": 3,
     "metadata": {},
     "output_type": "execute_result"
    }
   ],
   "source": [
    "df_records_excel_ = pd.read_csv('../data/processed/students_records/matriculas_alunos.csv')\n",
    "\n",
    "df_records_excel_.columns"
   ]
  },
  {
   "cell_type": "code",
   "execution_count": 21,
   "id": "9c42c81e",
   "metadata": {},
   "outputs": [
    {
     "data": {
      "text/plain": [
       "matricula                 int64\n",
       "nome_discente            object\n",
       "sexo                     object\n",
       "ano_ingresso              int64\n",
       "periodo_ingresso        float64\n",
       "forma_ingresso           object\n",
       "tipo_discente            object\n",
       "status                   object\n",
       "sigla_nivel_ensino       object\n",
       "nivel_ensino             object\n",
       "id_curso                float64\n",
       "nome_curso               object\n",
       "modalidade_educacao      object\n",
       "id_unidade              float64\n",
       "nome_unidade             object\n",
       "id_unidade_gestora      float64\n",
       "nome_unidade_gestora     object\n",
       "dtype: object"
      ]
     },
     "execution_count": 21,
     "metadata": {},
     "output_type": "execute_result"
    }
   ],
   "source": [
    "# records do ano de 2018\n",
    "\n",
    "df_records_2018 = pd.read_csv('../data/raw/students_records/discentes-2018.csv')\n",
    "\n",
    "# df_records_2018.columns\n",
    "\n",
    "# matricula, nome_curso, nivel_ensino\n",
    "df_records_2018.dtypes"
   ]
  },
  {
   "cell_type": "code",
   "execution_count": null,
   "id": "16b5b02e",
   "metadata": {},
   "outputs": [],
   "source": [
    "df_records_2018.head()"
   ]
  },
  {
   "cell_type": "code",
   "execution_count": null,
   "id": "bd53fccb",
   "metadata": {},
   "outputs": [],
   "source": [
    "df_records_2018.isnull().sum()"
   ]
  },
  {
   "cell_type": "code",
   "execution_count": 22,
   "id": "ba160424",
   "metadata": {},
   "outputs": [
    {
     "data": {
      "text/plain": [
       "array(['GRADUAÇÃO', 'TÉCNICO', 'LATO SENSU', 'MESTRADO',\n",
       "       'FORMAÇÃO COMPLEMENTAR', 'TÉCNICO INTEGRADO', 'RESIDÊNCIA',\n",
       "       'DOUTORADO', 'FUNDAMENTAL'], dtype=object)"
      ]
     },
     "execution_count": 22,
     "metadata": {},
     "output_type": "execute_result"
    }
   ],
   "source": [
    "df_records_2018['nivel_ensino'] = df_records_2018['nivel_ensino'].apply(ftfy.fix_text)\n",
    "df_records_2018['nivel_ensino'].unique()"
   ]
  },
  {
   "cell_type": "code",
   "execution_count": null,
   "id": "675d9726",
   "metadata": {},
   "outputs": [],
   "source": [
    "df_records_2018['nome_curso'] = df_records_2018['nome_curso'].apply(\n",
    "    lambda x: ftfy.fix_text(x) if pd.notnull(x) else x\n",
    "    )\n",
    "df_records_2018['nome_curso'].unique()"
   ]
  },
  {
   "cell_type": "code",
   "execution_count": null,
   "id": "f8a10e00",
   "metadata": {},
   "outputs": [],
   "source": [
    "df_records_2018.head()"
   ]
  },
  {
   "cell_type": "code",
   "execution_count": 24,
   "id": "7451f236",
   "metadata": {},
   "outputs": [
    {
     "data": {
      "text/html": [
       "<div>\n",
       "<style scoped>\n",
       "    .dataframe tbody tr th:only-of-type {\n",
       "        vertical-align: middle;\n",
       "    }\n",
       "\n",
       "    .dataframe tbody tr th {\n",
       "        vertical-align: top;\n",
       "    }\n",
       "\n",
       "    .dataframe thead th {\n",
       "        text-align: right;\n",
       "    }\n",
       "</style>\n",
       "<table border=\"1\" class=\"dataframe\">\n",
       "  <thead>\n",
       "    <tr style=\"text-align: right;\">\n",
       "      <th></th>\n",
       "      <th>matricula</th>\n",
       "      <th>nome_curso</th>\n",
       "      <th>nivel_ensino</th>\n",
       "    </tr>\n",
       "  </thead>\n",
       "  <tbody>\n",
       "    <tr>\n",
       "      <th>0</th>\n",
       "      <td>20180057132</td>\n",
       "      <td>ESTATÍSTICA</td>\n",
       "      <td>GRADUAÇÃO</td>\n",
       "    </tr>\n",
       "    <tr>\n",
       "      <th>3</th>\n",
       "      <td>20180107403</td>\n",
       "      <td>CIÊNCIAS E TECNOLOGIA</td>\n",
       "      <td>GRADUAÇÃO</td>\n",
       "    </tr>\n",
       "    <tr>\n",
       "      <th>7</th>\n",
       "      <td>20180128824</td>\n",
       "      <td>EDUCAÇÃO FÍSICA</td>\n",
       "      <td>GRADUAÇÃO</td>\n",
       "    </tr>\n",
       "    <tr>\n",
       "      <th>10</th>\n",
       "      <td>20180149163</td>\n",
       "      <td>ENGENHARIA CIVIL</td>\n",
       "      <td>GRADUAÇÃO</td>\n",
       "    </tr>\n",
       "    <tr>\n",
       "      <th>11</th>\n",
       "      <td>20180073539</td>\n",
       "      <td>HISTÓRIA</td>\n",
       "      <td>GRADUAÇÃO</td>\n",
       "    </tr>\n",
       "  </tbody>\n",
       "</table>\n",
       "</div>"
      ],
      "text/plain": [
       "      matricula             nome_curso nivel_ensino\n",
       "0   20180057132            ESTATÍSTICA    GRADUAÇÃO\n",
       "3   20180107403  CIÊNCIAS E TECNOLOGIA    GRADUAÇÃO\n",
       "7   20180128824        EDUCAÇÃO FÍSICA    GRADUAÇÃO\n",
       "10  20180149163       ENGENHARIA CIVIL    GRADUAÇÃO\n",
       "11  20180073539               HISTÓRIA    GRADUAÇÃO"
      ]
     },
     "execution_count": 24,
     "metadata": {},
     "output_type": "execute_result"
    }
   ],
   "source": [
    "df_records_2018_graduacao = df_records_2018.loc[df_records_2018['nivel_ensino'] == 'GRADUAÇÃO', ['matricula','nome_curso','nivel_ensino']]\n",
    "df_records_2018_graduacao.head()"
   ]
  },
  {
   "cell_type": "code",
   "execution_count": 25,
   "id": "3b52d7a4",
   "metadata": {},
   "outputs": [],
   "source": [
    "df_records_2018_graduacao['matricula'] = df_records_2018_graduacao['matricula'].astype('string').str.split('.').str[0]\n"
   ]
  },
  {
   "cell_type": "code",
   "execution_count": 26,
   "id": "70c5e426",
   "metadata": {},
   "outputs": [
    {
     "data": {
      "text/plain": [
       "matricula       object\n",
       "nome_curso      object\n",
       "nivel_ensino    object\n",
       "dtype: object"
      ]
     },
     "execution_count": 26,
     "metadata": {},
     "output_type": "execute_result"
    }
   ],
   "source": [
    "df_records_2018_graduacao.dtypes"
   ]
  },
  {
   "cell_type": "code",
   "execution_count": 28,
   "id": "f6785fc2",
   "metadata": {},
   "outputs": [
    {
     "data": {
      "text/html": [
       "<div>\n",
       "<style scoped>\n",
       "    .dataframe tbody tr th:only-of-type {\n",
       "        vertical-align: middle;\n",
       "    }\n",
       "\n",
       "    .dataframe tbody tr th {\n",
       "        vertical-align: top;\n",
       "    }\n",
       "\n",
       "    .dataframe thead th {\n",
       "        text-align: right;\n",
       "    }\n",
       "</style>\n",
       "<table border=\"1\" class=\"dataframe\">\n",
       "  <thead>\n",
       "    <tr style=\"text-align: right;\">\n",
       "      <th></th>\n",
       "      <th>matricula</th>\n",
       "      <th>nome_discente</th>\n",
       "      <th>sexo</th>\n",
       "      <th>ano_ingresso</th>\n",
       "      <th>periodo_ingresso</th>\n",
       "      <th>forma_ingresso</th>\n",
       "      <th>tipo_discente</th>\n",
       "      <th>status</th>\n",
       "      <th>sigla_nivel_ensino</th>\n",
       "      <th>nivel_ensino</th>\n",
       "      <th>id_curso</th>\n",
       "      <th>nome_curso</th>\n",
       "      <th>modalidade_educacao</th>\n",
       "      <th>id_unidade</th>\n",
       "      <th>nome_unidade</th>\n",
       "      <th>id_unidade_gestora</th>\n",
       "      <th>nome_unidade_gestora</th>\n",
       "    </tr>\n",
       "  </thead>\n",
       "  <tbody>\n",
       "    <tr>\n",
       "      <th>0</th>\n",
       "      <td>20193012209</td>\n",
       "      <td>ABDENOR BEZERRA DOS SANTOS</td>\n",
       "      <td>M</td>\n",
       "      <td>2019</td>\n",
       "      <td>1.0</td>\n",
       "      <td>PROCESSO SELETIVO</td>\n",
       "      <td>REGULAR</td>\n",
       "      <td>CANCELADO</td>\n",
       "      <td>T</td>\n",
       "      <td>TÃ‰CNICO</td>\n",
       "      <td>96054058.0</td>\n",
       "      <td>CURSO TÃ‰CNICO DA METRÃ“POLE DIGITAL</td>\n",
       "      <td>SEMI-PRESENCIAL</td>\n",
       "      <td>6069.0</td>\n",
       "      <td>INSTITUTO METROPOLE DIGITAL</td>\n",
       "      <td>605.0</td>\n",
       "      <td>UNIVERSIDADE FEDERAL DO RIO GRANDE DO NORTE</td>\n",
       "    </tr>\n",
       "    <tr>\n",
       "      <th>1</th>\n",
       "      <td>20190088900</td>\n",
       "      <td>ABDIAS MONTEIRO DE ANDRADE MELO</td>\n",
       "      <td>M</td>\n",
       "      <td>2019</td>\n",
       "      <td>1.0</td>\n",
       "      <td>SiSU</td>\n",
       "      <td>REGULAR</td>\n",
       "      <td>CONCLUÃDO</td>\n",
       "      <td>G</td>\n",
       "      <td>GRADUAÃ‡ÃƒO</td>\n",
       "      <td>111635060.0</td>\n",
       "      <td>HISTÃ“RIA</td>\n",
       "      <td>PRESENCIAL</td>\n",
       "      <td>1482.0</td>\n",
       "      <td>CENTRO DE  ENSINO SUPERIOR DO SERIDÃ“</td>\n",
       "      <td>1482.0</td>\n",
       "      <td>CENTRO DE  ENSINO SUPERIOR DO SERIDÃ“</td>\n",
       "    </tr>\n",
       "    <tr>\n",
       "      <th>2</th>\n",
       "      <td>20190127606</td>\n",
       "      <td>ABDIAS SABINO RODRIGUES FILHO</td>\n",
       "      <td>M</td>\n",
       "      <td>2019</td>\n",
       "      <td>1.0</td>\n",
       "      <td>SiSU</td>\n",
       "      <td>REGULAR</td>\n",
       "      <td>CANCELADO</td>\n",
       "      <td>G</td>\n",
       "      <td>GRADUAÃ‡ÃƒO</td>\n",
       "      <td>111635060.0</td>\n",
       "      <td>HISTÃ“RIA</td>\n",
       "      <td>PRESENCIAL</td>\n",
       "      <td>1482.0</td>\n",
       "      <td>CENTRO DE  ENSINO SUPERIOR DO SERIDÃ“</td>\n",
       "      <td>1482.0</td>\n",
       "      <td>CENTRO DE  ENSINO SUPERIOR DO SERIDÃ“</td>\n",
       "    </tr>\n",
       "    <tr>\n",
       "      <th>3</th>\n",
       "      <td>20195001008</td>\n",
       "      <td>ABEL GOMES DE OLIVEIRA FILHO</td>\n",
       "      <td>M</td>\n",
       "      <td>2019</td>\n",
       "      <td>1.0</td>\n",
       "      <td>PROCESSO SELETIVO</td>\n",
       "      <td>REGULAR</td>\n",
       "      <td>CONCLUÃDO</td>\n",
       "      <td>F</td>\n",
       "      <td>FORMAÃ‡ÃƒO COMPLEMENTAR</td>\n",
       "      <td>112718836.0</td>\n",
       "      <td>CURSO DE LÃNGUA BRASILEIRA DE SINAIS (LIBRAS)</td>\n",
       "      <td>PRESENCIAL</td>\n",
       "      <td>6042.0</td>\n",
       "      <td>INSTITUTO ÃGORA - LÃNGUAS, LITERATURAS E CUL...</td>\n",
       "      <td>442.0</td>\n",
       "      <td>CENTRO DE CIÃŠNCIAS HUMANAS, LETRAS E ARTES</td>\n",
       "    </tr>\n",
       "    <tr>\n",
       "      <th>4</th>\n",
       "      <td>20190032217</td>\n",
       "      <td>ABI AMANA DE AQUINO BEZERRA</td>\n",
       "      <td>F</td>\n",
       "      <td>2019</td>\n",
       "      <td>2.0</td>\n",
       "      <td>SiSU</td>\n",
       "      <td>REGULAR</td>\n",
       "      <td>CANCELADO</td>\n",
       "      <td>G</td>\n",
       "      <td>GRADUAÃ‡ÃƒO</td>\n",
       "      <td>119512361.0</td>\n",
       "      <td>COMUNICAÃ‡ÃƒO SOCIAL - AUDIOVISUAL</td>\n",
       "      <td>PRESENCIAL</td>\n",
       "      <td>442.0</td>\n",
       "      <td>CENTRO DE CIÃŠNCIAS HUMANAS, LETRAS E ARTES</td>\n",
       "      <td>442.0</td>\n",
       "      <td>CENTRO DE CIÃŠNCIAS HUMANAS, LETRAS E ARTES</td>\n",
       "    </tr>\n",
       "  </tbody>\n",
       "</table>\n",
       "</div>"
      ],
      "text/plain": [
       "     matricula                    nome_discente sexo  ano_ingresso  \\\n",
       "0  20193012209       ABDENOR BEZERRA DOS SANTOS    M          2019   \n",
       "1  20190088900  ABDIAS MONTEIRO DE ANDRADE MELO    M          2019   \n",
       "2  20190127606    ABDIAS SABINO RODRIGUES FILHO    M          2019   \n",
       "3  20195001008     ABEL GOMES DE OLIVEIRA FILHO    M          2019   \n",
       "4  20190032217      ABI AMANA DE AQUINO BEZERRA    F          2019   \n",
       "\n",
       "   periodo_ingresso     forma_ingresso tipo_discente      status  \\\n",
       "0               1.0  PROCESSO SELETIVO       REGULAR   CANCELADO   \n",
       "1               1.0               SiSU       REGULAR  CONCLUÃDO   \n",
       "2               1.0               SiSU       REGULAR   CANCELADO   \n",
       "3               1.0  PROCESSO SELETIVO       REGULAR  CONCLUÃDO   \n",
       "4               2.0               SiSU       REGULAR   CANCELADO   \n",
       "\n",
       "  sigla_nivel_ensino             nivel_ensino     id_curso  \\\n",
       "0                  T                 TÃ‰CNICO   96054058.0   \n",
       "1                  G              GRADUAÃ‡ÃƒO  111635060.0   \n",
       "2                  G              GRADUAÃ‡ÃƒO  111635060.0   \n",
       "3                  F  FORMAÃ‡ÃƒO COMPLEMENTAR  112718836.0   \n",
       "4                  G              GRADUAÃ‡ÃƒO  119512361.0   \n",
       "\n",
       "                                       nome_curso modalidade_educacao  \\\n",
       "0            CURSO TÃ‰CNICO DA METRÃ“POLE DIGITAL     SEMI-PRESENCIAL   \n",
       "1                                       HISTÃ“RIA          PRESENCIAL   \n",
       "2                                       HISTÃ“RIA          PRESENCIAL   \n",
       "3  CURSO DE LÃNGUA BRASILEIRA DE SINAIS (LIBRAS)          PRESENCIAL   \n",
       "4              COMUNICAÃ‡ÃƒO SOCIAL - AUDIOVISUAL          PRESENCIAL   \n",
       "\n",
       "   id_unidade                                       nome_unidade  \\\n",
       "0      6069.0                        INSTITUTO METROPOLE DIGITAL   \n",
       "1      1482.0              CENTRO DE  ENSINO SUPERIOR DO SERIDÃ“   \n",
       "2      1482.0              CENTRO DE  ENSINO SUPERIOR DO SERIDÃ“   \n",
       "3      6042.0  INSTITUTO ÃGORA - LÃNGUAS, LITERATURAS E CUL...   \n",
       "4       442.0        CENTRO DE CIÃŠNCIAS HUMANAS, LETRAS E ARTES   \n",
       "\n",
       "   id_unidade_gestora                         nome_unidade_gestora  \n",
       "0               605.0  UNIVERSIDADE FEDERAL DO RIO GRANDE DO NORTE  \n",
       "1              1482.0        CENTRO DE  ENSINO SUPERIOR DO SERIDÃ“  \n",
       "2              1482.0        CENTRO DE  ENSINO SUPERIOR DO SERIDÃ“  \n",
       "3               442.0  CENTRO DE CIÃŠNCIAS HUMANAS, LETRAS E ARTES  \n",
       "4               442.0  CENTRO DE CIÃŠNCIAS HUMANAS, LETRAS E ARTES  "
      ]
     },
     "execution_count": 28,
     "metadata": {},
     "output_type": "execute_result"
    }
   ],
   "source": [
    "# Records do ano de 2019\n",
    "df_records_2019 = pd.read_csv('../data/raw/students_records/discentes-2019.csv')\n",
    "df_records_2019.head()"
   ]
  },
  {
   "cell_type": "code",
   "execution_count": 29,
   "id": "89681e79",
   "metadata": {},
   "outputs": [
    {
     "data": {
      "text/plain": [
       "array(['TÉCNICO', 'GRADUAÇÃO', 'FORMAÇÃO COMPLEMENTAR', 'DOUTORADO',\n",
       "       'LATO SENSU', 'MESTRADO', 'RESIDÊNCIA', 'TÉCNICO INTEGRADO',\n",
       "       'FUNDAMENTAL'], dtype=object)"
      ]
     },
     "execution_count": 29,
     "metadata": {},
     "output_type": "execute_result"
    }
   ],
   "source": [
    "df_records_2019['nivel_ensino'] = df_records_2019['nivel_ensino'].apply(ftfy.fix_text)\n",
    "df_records_2019['nivel_ensino'].unique()"
   ]
  },
  {
   "cell_type": "code",
   "execution_count": null,
   "id": "327a4e3a",
   "metadata": {},
   "outputs": [],
   "source": [
    "df_records_2019['nome_curso'] = df_records_2019['nome_curso'].apply(\n",
    "    lambda x: ftfy.fix_text(x) if pd.notnull(x) else x\n",
    "    )\n",
    "df_records_2019['nome_curso'].unique()"
   ]
  },
  {
   "cell_type": "code",
   "execution_count": 31,
   "id": "563dac80",
   "metadata": {},
   "outputs": [
    {
     "data": {
      "text/html": [
       "<div>\n",
       "<style scoped>\n",
       "    .dataframe tbody tr th:only-of-type {\n",
       "        vertical-align: middle;\n",
       "    }\n",
       "\n",
       "    .dataframe tbody tr th {\n",
       "        vertical-align: top;\n",
       "    }\n",
       "\n",
       "    .dataframe thead th {\n",
       "        text-align: right;\n",
       "    }\n",
       "</style>\n",
       "<table border=\"1\" class=\"dataframe\">\n",
       "  <thead>\n",
       "    <tr style=\"text-align: right;\">\n",
       "      <th></th>\n",
       "      <th>matricula</th>\n",
       "      <th>nome_curso</th>\n",
       "      <th>nivel_ensino</th>\n",
       "    </tr>\n",
       "  </thead>\n",
       "  <tbody>\n",
       "    <tr>\n",
       "      <th>1</th>\n",
       "      <td>20190088900</td>\n",
       "      <td>HISTÓRIA</td>\n",
       "      <td>GRADUAÇÃO</td>\n",
       "    </tr>\n",
       "    <tr>\n",
       "      <th>2</th>\n",
       "      <td>20190127606</td>\n",
       "      <td>HISTÓRIA</td>\n",
       "      <td>GRADUAÇÃO</td>\n",
       "    </tr>\n",
       "    <tr>\n",
       "      <th>4</th>\n",
       "      <td>20190032217</td>\n",
       "      <td>COMUNICAÇÃO SOCIAL - AUDIOVISUAL</td>\n",
       "      <td>GRADUAÇÃO</td>\n",
       "    </tr>\n",
       "    <tr>\n",
       "      <th>6</th>\n",
       "      <td>20190015083</td>\n",
       "      <td>SAÚDE COLETIVA</td>\n",
       "      <td>GRADUAÇÃO</td>\n",
       "    </tr>\n",
       "    <tr>\n",
       "      <th>7</th>\n",
       "      <td>20190013409</td>\n",
       "      <td>FARMÁCIA</td>\n",
       "      <td>GRADUAÇÃO</td>\n",
       "    </tr>\n",
       "  </tbody>\n",
       "</table>\n",
       "</div>"
      ],
      "text/plain": [
       "     matricula                        nome_curso nivel_ensino\n",
       "1  20190088900                          HISTÓRIA    GRADUAÇÃO\n",
       "2  20190127606                          HISTÓRIA    GRADUAÇÃO\n",
       "4  20190032217  COMUNICAÇÃO SOCIAL - AUDIOVISUAL    GRADUAÇÃO\n",
       "6  20190015083                    SAÚDE COLETIVA    GRADUAÇÃO\n",
       "7  20190013409                          FARMÁCIA    GRADUAÇÃO"
      ]
     },
     "execution_count": 31,
     "metadata": {},
     "output_type": "execute_result"
    }
   ],
   "source": [
    "df_records_2019_graduacao = df_records_2019.loc[df_records_2019['nivel_ensino'] == 'GRADUAÇÃO', ['matricula','nome_curso','nivel_ensino']]\n",
    "df_records_2019_graduacao.head()"
   ]
  },
  {
   "cell_type": "code",
   "execution_count": 34,
   "id": "d479704a",
   "metadata": {},
   "outputs": [],
   "source": [
    "df_records_2019_graduacao['matricula'] = df_records_2019_graduacao['matricula'].astype('string').str.split('.').str[0]"
   ]
  },
  {
   "cell_type": "code",
   "execution_count": 35,
   "id": "53a069fb",
   "metadata": {},
   "outputs": [
    {
     "data": {
      "text/plain": [
       "matricula       object\n",
       "nome_curso      object\n",
       "nivel_ensino    object\n",
       "dtype: object"
      ]
     },
     "execution_count": 35,
     "metadata": {},
     "output_type": "execute_result"
    }
   ],
   "source": [
    "df_records_2019_graduacao.dtypes"
   ]
  },
  {
   "cell_type": "code",
   "execution_count": 36,
   "id": "121f5f04",
   "metadata": {},
   "outputs": [],
   "source": [
    "df_records_2018_2019 = pd.concat(\n",
    "    [df_records_2018_graduacao, df_records_2019_graduacao],\n",
    "    ignore_index=True\n",
    ")"
   ]
  },
  {
   "cell_type": "code",
   "execution_count": 37,
   "id": "90d64a0d",
   "metadata": {},
   "outputs": [
    {
     "data": {
      "text/plain": [
       "matricula       object\n",
       "nome_curso      object\n",
       "nivel_ensino    object\n",
       "dtype: object"
      ]
     },
     "execution_count": 37,
     "metadata": {},
     "output_type": "execute_result"
    }
   ],
   "source": [
    "df_records_2018_2019.dtypes"
   ]
  },
  {
   "cell_type": "code",
   "execution_count": 38,
   "id": "1689096c",
   "metadata": {},
   "outputs": [],
   "source": [
    "df_records_2018_2019.columns = ['matricula_ou_siape', 'curso', 'tipo_vinculo_usuario']"
   ]
  },
  {
   "cell_type": "code",
   "execution_count": 39,
   "id": "41572d2e",
   "metadata": {},
   "outputs": [
    {
     "data": {
      "text/html": [
       "<div>\n",
       "<style scoped>\n",
       "    .dataframe tbody tr th:only-of-type {\n",
       "        vertical-align: middle;\n",
       "    }\n",
       "\n",
       "    .dataframe tbody tr th {\n",
       "        vertical-align: top;\n",
       "    }\n",
       "\n",
       "    .dataframe thead th {\n",
       "        text-align: right;\n",
       "    }\n",
       "</style>\n",
       "<table border=\"1\" class=\"dataframe\">\n",
       "  <thead>\n",
       "    <tr style=\"text-align: right;\">\n",
       "      <th></th>\n",
       "      <th>matricula_ou_siape</th>\n",
       "      <th>curso</th>\n",
       "      <th>tipo_vinculo_usuario</th>\n",
       "    </tr>\n",
       "  </thead>\n",
       "  <tbody>\n",
       "    <tr>\n",
       "      <th>0</th>\n",
       "      <td>20180057132</td>\n",
       "      <td>ESTATÍSTICA</td>\n",
       "      <td>GRADUAÇÃO</td>\n",
       "    </tr>\n",
       "    <tr>\n",
       "      <th>1</th>\n",
       "      <td>20180107403</td>\n",
       "      <td>CIÊNCIAS E TECNOLOGIA</td>\n",
       "      <td>GRADUAÇÃO</td>\n",
       "    </tr>\n",
       "    <tr>\n",
       "      <th>2</th>\n",
       "      <td>20180128824</td>\n",
       "      <td>EDUCAÇÃO FÍSICA</td>\n",
       "      <td>GRADUAÇÃO</td>\n",
       "    </tr>\n",
       "    <tr>\n",
       "      <th>3</th>\n",
       "      <td>20180149163</td>\n",
       "      <td>ENGENHARIA CIVIL</td>\n",
       "      <td>GRADUAÇÃO</td>\n",
       "    </tr>\n",
       "    <tr>\n",
       "      <th>4</th>\n",
       "      <td>20180073539</td>\n",
       "      <td>HISTÓRIA</td>\n",
       "      <td>GRADUAÇÃO</td>\n",
       "    </tr>\n",
       "  </tbody>\n",
       "</table>\n",
       "</div>"
      ],
      "text/plain": [
       "  matricula_ou_siape                  curso tipo_vinculo_usuario\n",
       "0        20180057132            ESTATÍSTICA            GRADUAÇÃO\n",
       "1        20180107403  CIÊNCIAS E TECNOLOGIA            GRADUAÇÃO\n",
       "2        20180128824        EDUCAÇÃO FÍSICA            GRADUAÇÃO\n",
       "3        20180149163       ENGENHARIA CIVIL            GRADUAÇÃO\n",
       "4        20180073539               HISTÓRIA            GRADUAÇÃO"
      ]
     },
     "execution_count": 39,
     "metadata": {},
     "output_type": "execute_result"
    }
   ],
   "source": [
    "df_records_2018_2019.head()"
   ]
  },
  {
   "cell_type": "code",
   "execution_count": 40,
   "id": "0630e4fe",
   "metadata": {},
   "outputs": [
    {
     "data": {
      "text/html": [
       "<div>\n",
       "<style scoped>\n",
       "    .dataframe tbody tr th:only-of-type {\n",
       "        vertical-align: middle;\n",
       "    }\n",
       "\n",
       "    .dataframe tbody tr th {\n",
       "        vertical-align: top;\n",
       "    }\n",
       "\n",
       "    .dataframe thead th {\n",
       "        text-align: right;\n",
       "    }\n",
       "</style>\n",
       "<table border=\"1\" class=\"dataframe\">\n",
       "  <thead>\n",
       "    <tr style=\"text-align: right;\">\n",
       "      <th></th>\n",
       "      <th>matricula_ou_siape</th>\n",
       "      <th>curso</th>\n",
       "      <th>tipo_vinculo_usuario</th>\n",
       "    </tr>\n",
       "  </thead>\n",
       "  <tbody>\n",
       "    <tr>\n",
       "      <th>0</th>\n",
       "      <td>20180057132</td>\n",
       "      <td>ESTATÍSTICA</td>\n",
       "      <td>ALUNO DE GRADUAÇÃO</td>\n",
       "    </tr>\n",
       "    <tr>\n",
       "      <th>1</th>\n",
       "      <td>20180107403</td>\n",
       "      <td>CIÊNCIAS E TECNOLOGIA</td>\n",
       "      <td>ALUNO DE GRADUAÇÃO</td>\n",
       "    </tr>\n",
       "    <tr>\n",
       "      <th>2</th>\n",
       "      <td>20180128824</td>\n",
       "      <td>EDUCAÇÃO FÍSICA</td>\n",
       "      <td>ALUNO DE GRADUAÇÃO</td>\n",
       "    </tr>\n",
       "    <tr>\n",
       "      <th>3</th>\n",
       "      <td>20180149163</td>\n",
       "      <td>ENGENHARIA CIVIL</td>\n",
       "      <td>ALUNO DE GRADUAÇÃO</td>\n",
       "    </tr>\n",
       "    <tr>\n",
       "      <th>4</th>\n",
       "      <td>20180073539</td>\n",
       "      <td>HISTÓRIA</td>\n",
       "      <td>ALUNO DE GRADUAÇÃO</td>\n",
       "    </tr>\n",
       "  </tbody>\n",
       "</table>\n",
       "</div>"
      ],
      "text/plain": [
       "  matricula_ou_siape                  curso tipo_vinculo_usuario\n",
       "0        20180057132            ESTATÍSTICA   ALUNO DE GRADUAÇÃO\n",
       "1        20180107403  CIÊNCIAS E TECNOLOGIA   ALUNO DE GRADUAÇÃO\n",
       "2        20180128824        EDUCAÇÃO FÍSICA   ALUNO DE GRADUAÇÃO\n",
       "3        20180149163       ENGENHARIA CIVIL   ALUNO DE GRADUAÇÃO\n",
       "4        20180073539               HISTÓRIA   ALUNO DE GRADUAÇÃO"
      ]
     },
     "execution_count": 40,
     "metadata": {},
     "output_type": "execute_result"
    }
   ],
   "source": [
    "vinculo = {\n",
    "    'GRADUAÇÃO': 'ALUNO DE GRADUAÇÃO'\n",
    "}\n",
    "\n",
    "df_records_2018_2019['tipo_vinculo_usuario'] = df_records_2018_2019['tipo_vinculo_usuario'].map(vinculo)\n",
    "\n",
    "df_records_2018_2019.head()"
   ]
  },
  {
   "cell_type": "code",
   "execution_count": 21,
   "id": "71369ce8",
   "metadata": {},
   "outputs": [],
   "source": [
    "df_records_2018_2019.to_csv(\n",
    "    '../data/processed/students_records/matricula_alunos_2018_2019.csv',\n",
    "    encoding='utf-8-sig',\n",
    "    index=False\n",
    ")"
   ]
  },
  {
   "cell_type": "code",
   "execution_count": 42,
   "id": "e91a341d",
   "metadata": {},
   "outputs": [],
   "source": [
    "df_matriculas = pd.concat(\n",
    "    [df_records_excel, df_records_2018_2019],\n",
    "    ignore_index=True\n",
    ")"
   ]
  },
  {
   "cell_type": "code",
   "execution_count": 43,
   "id": "b6c14d4e",
   "metadata": {},
   "outputs": [
    {
     "data": {
      "text/html": [
       "<div>\n",
       "<style scoped>\n",
       "    .dataframe tbody tr th:only-of-type {\n",
       "        vertical-align: middle;\n",
       "    }\n",
       "\n",
       "    .dataframe tbody tr th {\n",
       "        vertical-align: top;\n",
       "    }\n",
       "\n",
       "    .dataframe thead th {\n",
       "        text-align: right;\n",
       "    }\n",
       "</style>\n",
       "<table border=\"1\" class=\"dataframe\">\n",
       "  <thead>\n",
       "    <tr style=\"text-align: right;\">\n",
       "      <th></th>\n",
       "      <th>matricula_ou_siape</th>\n",
       "      <th>tipo_vinculo_usuario</th>\n",
       "      <th>curso</th>\n",
       "    </tr>\n",
       "  </thead>\n",
       "  <tbody>\n",
       "    <tr>\n",
       "      <th>0</th>\n",
       "      <td>190001688</td>\n",
       "      <td>ALUNO DE GRADUAÇÃO</td>\n",
       "      <td>MATEMÁTICA</td>\n",
       "    </tr>\n",
       "    <tr>\n",
       "      <th>1</th>\n",
       "      <td>199014489</td>\n",
       "      <td>ALUNO DE GRADUAÇÃO</td>\n",
       "      <td>CIÊNCIAS BIOLÓGICAS</td>\n",
       "    </tr>\n",
       "    <tr>\n",
       "      <th>2</th>\n",
       "      <td>199735674</td>\n",
       "      <td>ALUNO DE GRADUAÇÃO</td>\n",
       "      <td>MATEMÁTICA</td>\n",
       "    </tr>\n",
       "    <tr>\n",
       "      <th>3</th>\n",
       "      <td>199812431</td>\n",
       "      <td>ALUNO DE GRADUAÇÃO</td>\n",
       "      <td>LETRAS</td>\n",
       "    </tr>\n",
       "    <tr>\n",
       "      <th>4</th>\n",
       "      <td>199823670</td>\n",
       "      <td>ALUNO DE GRADUAÇÃO</td>\n",
       "      <td>ECOLOGIA</td>\n",
       "    </tr>\n",
       "  </tbody>\n",
       "</table>\n",
       "</div>"
      ],
      "text/plain": [
       "  matricula_ou_siape tipo_vinculo_usuario                curso\n",
       "0          190001688   ALUNO DE GRADUAÇÃO           MATEMÁTICA\n",
       "1          199014489   ALUNO DE GRADUAÇÃO  CIÊNCIAS BIOLÓGICAS\n",
       "2          199735674   ALUNO DE GRADUAÇÃO           MATEMÁTICA\n",
       "3          199812431   ALUNO DE GRADUAÇÃO               LETRAS\n",
       "4          199823670   ALUNO DE GRADUAÇÃO             ECOLOGIA"
      ]
     },
     "execution_count": 43,
     "metadata": {},
     "output_type": "execute_result"
    }
   ],
   "source": [
    "df_matriculas.head()"
   ]
  },
  {
   "cell_type": "code",
   "execution_count": 24,
   "id": "5e1c79b7",
   "metadata": {},
   "outputs": [
    {
     "data": {
      "text/plain": [
       "matricula_ou_siape      object\n",
       "tipo_vinculo_usuario    object\n",
       "curso                   object\n",
       "dtype: object"
      ]
     },
     "execution_count": 24,
     "metadata": {},
     "output_type": "execute_result"
    }
   ],
   "source": [
    "df_matriculas.dtypes"
   ]
  },
  {
   "cell_type": "code",
   "execution_count": null,
   "id": "65e23c05",
   "metadata": {},
   "outputs": [],
   "source": [
    "df_matriculas.shape"
   ]
  },
  {
   "cell_type": "code",
   "execution_count": 25,
   "id": "bb39ea6d",
   "metadata": {},
   "outputs": [],
   "source": [
    "df_matriculas.to_csv(\n",
    "    '../data/processed/students_records/matriculas_alunos_total.csv',\n",
    "    encoding='utf-8-sig',\n",
    "    index=False\n",
    ")"
   ]
  },
  {
   "cell_type": "code",
   "execution_count": 44,
   "id": "8f3d2ca9",
   "metadata": {},
   "outputs": [
    {
     "name": "stderr",
     "output_type": "stream",
     "text": [
      "F:\\pedro\\Documents\\dev\\VSCode\\VSCode Python\\data\\tmp\\ipykernel_10852\\2815048638.py:3: FutureWarning: Passing literal json to 'read_json' is deprecated and will be removed in a future version. To read from a literal string, wrap it in a 'StringIO' object.\n",
      "  df_records_json_registros = pd.read_json(df_records_json.registros[0])\n"
     ]
    },
    {
     "data": {
      "text/plain": [
       "matricula_ou_siape      object\n",
       "tipo_vinculo_usuario    object\n",
       "curso                   object\n",
       "dtype: object"
      ]
     },
     "execution_count": 44,
     "metadata": {},
     "output_type": "execute_result"
    }
   ],
   "source": [
    "df_records_json = pd.read_json('../data/raw/students_records/cadastro_alunos.json')\n",
    "\n",
    "df_records_json_registros = pd.read_json(df_records_json.registros[0])\n",
    "\n",
    "df_records_json_registros = df_records_json_registros.assign(matricula_ou_siape=df_records_json_registros['matricula_ou_siape'].astype('object'))\n",
    "\n",
    "df_records_json_registros.dtypes"
   ]
  },
  {
   "cell_type": "code",
   "execution_count": null,
   "id": "aa7631d4",
   "metadata": {},
   "outputs": [],
   "source": [
    "df_records_json_registros.shape"
   ]
  },
  {
   "cell_type": "code",
   "execution_count": null,
   "id": "de0d1652",
   "metadata": {},
   "outputs": [],
   "source": [
    "df_records_json_registros.head()"
   ]
  },
  {
   "cell_type": "code",
   "execution_count": 45,
   "id": "8d4c9110",
   "metadata": {},
   "outputs": [],
   "source": [
    "df_records = pd.concat([\n",
    "    df_matriculas, df_records_json_registros\n",
    "],ignore_index=True)"
   ]
  },
  {
   "cell_type": "code",
   "execution_count": null,
   "id": "ad6bd9d5",
   "metadata": {},
   "outputs": [],
   "source": [
    "df_records.shape"
   ]
  },
  {
   "cell_type": "code",
   "execution_count": 46,
   "id": "4ff4ecc3",
   "metadata": {},
   "outputs": [
    {
     "data": {
      "text/plain": [
       "matricula_ou_siape      object\n",
       "tipo_vinculo_usuario    object\n",
       "curso                   object\n",
       "dtype: object"
      ]
     },
     "execution_count": 46,
     "metadata": {},
     "output_type": "execute_result"
    }
   ],
   "source": [
    "df_records.dtypes"
   ]
  },
  {
   "cell_type": "code",
   "execution_count": 48,
   "id": "f4697d17",
   "metadata": {},
   "outputs": [],
   "source": [
    "df_records['matricula_ou_siape'] = df_records['matricula_ou_siape'].astype('string').str.split('.').str[0]"
   ]
  },
  {
   "cell_type": "code",
   "execution_count": 46,
   "id": "4b29f56e",
   "metadata": {},
   "outputs": [
    {
     "data": {
      "text/html": [
       "<div>\n",
       "<style scoped>\n",
       "    .dataframe tbody tr th:only-of-type {\n",
       "        vertical-align: middle;\n",
       "    }\n",
       "\n",
       "    .dataframe tbody tr th {\n",
       "        vertical-align: top;\n",
       "    }\n",
       "\n",
       "    .dataframe thead th {\n",
       "        text-align: right;\n",
       "    }\n",
       "</style>\n",
       "<table border=\"1\" class=\"dataframe\">\n",
       "  <thead>\n",
       "    <tr style=\"text-align: right;\">\n",
       "      <th></th>\n",
       "      <th>matricula_ou_siape</th>\n",
       "      <th>tipo_vinculo_usuario</th>\n",
       "      <th>curso</th>\n",
       "    </tr>\n",
       "  </thead>\n",
       "  <tbody>\n",
       "    <tr>\n",
       "      <th>0</th>\n",
       "      <td>190001688</td>\n",
       "      <td>ALUNO DE GRADUAÇÃO</td>\n",
       "      <td>MATEMÁTICA</td>\n",
       "    </tr>\n",
       "    <tr>\n",
       "      <th>1</th>\n",
       "      <td>199014489</td>\n",
       "      <td>ALUNO DE GRADUAÇÃO</td>\n",
       "      <td>CIÊNCIAS BIOLÓGICAS</td>\n",
       "    </tr>\n",
       "    <tr>\n",
       "      <th>2</th>\n",
       "      <td>199735674</td>\n",
       "      <td>ALUNO DE GRADUAÇÃO</td>\n",
       "      <td>MATEMÁTICA</td>\n",
       "    </tr>\n",
       "    <tr>\n",
       "      <th>3</th>\n",
       "      <td>199812431</td>\n",
       "      <td>ALUNO DE GRADUAÇÃO</td>\n",
       "      <td>LETRAS</td>\n",
       "    </tr>\n",
       "    <tr>\n",
       "      <th>4</th>\n",
       "      <td>199823670</td>\n",
       "      <td>ALUNO DE GRADUAÇÃO</td>\n",
       "      <td>ECOLOGIA</td>\n",
       "    </tr>\n",
       "  </tbody>\n",
       "</table>\n",
       "</div>"
      ],
      "text/plain": [
       "  matricula_ou_siape tipo_vinculo_usuario                curso\n",
       "0          190001688   ALUNO DE GRADUAÇÃO           MATEMÁTICA\n",
       "1          199014489   ALUNO DE GRADUAÇÃO  CIÊNCIAS BIOLÓGICAS\n",
       "2          199735674   ALUNO DE GRADUAÇÃO           MATEMÁTICA\n",
       "3          199812431   ALUNO DE GRADUAÇÃO               LETRAS\n",
       "4          199823670   ALUNO DE GRADUAÇÃO             ECOLOGIA"
      ]
     },
     "execution_count": 46,
     "metadata": {},
     "output_type": "execute_result"
    }
   ],
   "source": [
    "df_records.head()"
   ]
  },
  {
   "cell_type": "code",
   "execution_count": 28,
   "id": "aadb15e9",
   "metadata": {},
   "outputs": [],
   "source": [
    "df_records.to_csv('../data/processed/students_records/records.csv', index=False, encoding='utf-8-sig')"
   ]
  },
  {
   "cell_type": "code",
   "execution_count": 51,
   "id": "0284cb4a",
   "metadata": {},
   "outputs": [],
   "source": [
    "df_records.to_parquet('../data/processed/students_records/records.parquet', index=False)"
   ]
  },
  {
   "cell_type": "code",
   "execution_count": null,
   "id": "85a5380c",
   "metadata": {},
   "outputs": [],
   "source": [
    "records = pd.read_csv('../data/processed/students_records/records.csv')\n",
    "\n",
    "records.dtypes"
   ]
  }
 ],
 "metadata": {
  "kernelspec": {
   "display_name": "py_313_data",
   "language": "python",
   "name": "python3"
  },
  "language_info": {
   "codemirror_mode": {
    "name": "ipython",
    "version": 3
   },
   "file_extension": ".py",
   "mimetype": "text/x-python",
   "name": "python",
   "nbconvert_exporter": "python",
   "pygments_lexer": "ipython3",
   "version": "3.13.5"
  }
 },
 "nbformat": 4,
 "nbformat_minor": 5
}
