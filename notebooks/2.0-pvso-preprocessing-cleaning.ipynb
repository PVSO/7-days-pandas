{
 "cells": [
  {
   "metadata": {
    "collapsed": true
   },
   "cell_type": "code",
   "source": "import pandas as pd",
   "id": "79fdfaa42061cbdb",
   "outputs": [],
   "execution_count": null
  },
  {
   "metadata": {},
   "cell_type": "code",
   "source": [
    "# Lendo o dataframe dos emprestimos\n",
    "\n",
    "df_emprestimos = pd.read_csv('../data/interim/emprestimos-concat.csv')\n",
    "\n",
    "# Mostrando alguns emprestimos\n",
    "df_emprestimos.head()"
   ],
   "id": "3a33c5e420dbc459",
   "outputs": [],
   "execution_count": null
  },
  {
   "metadata": {},
   "cell_type": "code",
   "source": [
    "# Lendo o dataframe com os emprestimos\n",
    "df_exemplares = pd.read_parquet('../data/raw/dados_exemplares.parquet')\n",
    "\n",
    "# Mostrando alguns exemplares\n",
    "df_exemplares.head()"
   ],
   "id": "b53a91ea2e267823",
   "outputs": [],
   "execution_count": null
  },
  {
   "metadata": {},
   "cell_type": "code",
   "source": [
    "# Renomeando as colunas codigo_barras para referenciar aos respectivos dataframes\n",
    "\n",
    "df_emprestimos.rename(columns={'codigo_barras':'codigo_barras_emprestimo'}, inplace=True)\n",
    "\n",
    "df_exemplares.rename(columns={'codigo_barras_exemplares':'codigo_barras_exemplar'}, inplace=True)"
   ],
   "id": "5dd8ca7459bfaa1f",
   "outputs": [],
   "execution_count": null
  },
  {
   "metadata": {},
   "cell_type": "code",
   "source": [
    "# Unindo os dataframes\n",
    "\n",
    "df = pd.merge(df_emprestimos, df_exemplares, left_on='codigo_barras_emprestimo', right_on='codigo_barras_exemplar')"
   ],
   "id": "81161ce42340ea4d",
   "outputs": [],
   "execution_count": null
  },
  {
   "metadata": {},
   "cell_type": "code",
   "source": [
    "# Mostrando alguns registros do dataframe unido\n",
    "df.head()"
   ],
   "id": "998a5b6f429ee80",
   "outputs": [],
   "execution_count": null
  },
  {
   "metadata": {},
   "cell_type": "code",
   "source": [
    "# Retirando colunas inúteis ( nome_usuario e registro_sistema)\n",
    "\n",
    "df.drop(columns=['nome_usuario'], inplace=True)\n",
    "df.drop(columns=['registro_sistema'], inplace=True)"
   ],
   "id": "3f5d2a399f41abc2",
   "outputs": [],
   "execution_count": null
  },
  {
   "metadata": {},
   "cell_type": "code",
   "source": [
    "# Verificando se as colunas foram retiradas do dataframe\n",
    "\n",
    "if ('nome_usuario' or 'registro_sistema') in df.columns:\n",
    "    print('Funfa')\n",
    "else:\n",
    "    print('nenhum funfa')"
   ],
   "id": "45613e4e0dba0838",
   "outputs": [],
   "execution_count": null
  },
  {
   "metadata": {
    "ExecuteTime": {
     "end_time": "2025-08-12T21:30:40.783091Z",
     "start_time": "2025-08-12T21:30:40.760264Z"
    }
   },
   "cell_type": "markdown",
   "source": [
    "Os itens do acervo em uma biblioteca são organizados por um sistema de classificação de acordo com o respectivo tema. Existem diversos sistemas, mas este conjunto está de acordo com a CDU - Classificação Decimal Universal. Esta classificação é decimal, pois varia de acordo com a classe de cada assunto:\n",
    "\n",
    "\n",
    "000 a 099: Generalidades. Ciência e conhecimento.\n",
    "\n",
    "100 a 199: Filosofia e psicologia.\n",
    "\n",
    "200 a 299: Religião.\n",
    "\n",
    "300 a 399: Ciências sociais.\n",
    "\n",
    "400 a 499: Classe vaga. Provisoriamente não ocupada.\n",
    "\n",
    "500 a 599: Matemática e ciências naturais.\n",
    "\n",
    "600 a 699: Ciências aplicadas.\n",
    "\n",
    "700 a 799: Belas artes.\n",
    "\n",
    "800 a 899: Linguagem. Língua. Linguística.\n",
    "\n",
    "900 a 999: Geografia. Biografia. História.\""
   ],
   "id": "131bfeb68f1163b1"
  },
  {
   "metadata": {},
   "cell_type": "code",
   "source": [
    "# Classificando o arcevo da biblioteca com .cut()\n",
    "# o tamanho de rotulos deve ser igual a len(caixas)-1\n",
    "\n",
    "caixas = [000, 99, 199, 299, 399, 499, 599, 699, 799, 899, 999]\n",
    "\n",
    "rotulos = [\n",
    "    'Generalidades. Ciência e conhecimento',\n",
    "    'Filosofia e psicologia',\n",
    "    'Religião',\n",
    "    'Ciências sociais',\n",
    "    'Classe vaga. Provisoriamente não ocupada',\n",
    "    'Matemática e ciências naturais',\n",
    "    'Ciências aplicadas',\n",
    "    'Belas artes',\n",
    "    'Linguagem. Língua. Linguística',\n",
    "    'Geografia. Biografia. História.',\n",
    "]\n",
    "\n",
    "df['CDU'] = pd.cut(df['localizacao'], bins=caixas, labels=rotulos, right=True, include_lowest=True)\n",
    "\n",
    "df"
   ],
   "id": "c0ae830dffc60a72",
   "outputs": [],
   "execution_count": null
  },
  {
   "metadata": {},
   "cell_type": "code",
   "source": [
    "# A coluna da matricula (“matricula_ou_siape”) não está com um formato muito legível. Transforme-a em formato String.\n",
    "# O desafio pediu para transformar a coluna em string, mas o pandas assimila uma string como object\n",
    "\n",
    "df = df.assign(matricula_ou_siape=df['matricula_ou_siape'].astype('object'))\n",
    "\n",
    "df.dtypes"
   ],
   "id": "976c4cf6a533472e",
   "outputs": [],
   "execution_count": null
  }
 ],
 "metadata": {
  "kernelspec": {
   "display_name": "py_313_data",
   "language": "python",
   "name": "python3"
  },
  "language_info": {
   "codemirror_mode": {
    "name": "ipython",
    "version": 3
   },
   "file_extension": ".py",
   "mimetype": "text/x-python",
   "name": "python",
   "nbconvert_exporter": "python",
   "pygments_lexer": "ipython3",
   "version": "3.13.5"
  }
 },
 "nbformat": 4,
 "nbformat_minor": 5
}
