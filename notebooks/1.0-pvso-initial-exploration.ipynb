{
 "cells": [
  {
   "cell_type": "markdown",
   "id": "59bbe954d44608b9",
   "metadata": {},
   "source": [
    "Questões de diferentes perspectivas podem surgir como:\n",
    "\n",
    "A quantidade de empréstimos está aumentando ou diminuindo ao decorrer dos últimos anos?\n",
    "\n",
    "Em quais bibliotecas do sistema estão a maior quantidade de empréstimos?\n",
    "\n",
    "Quais são os temas mais emprestados? E os menos?\n"
   ]
  },
  {
   "cell_type": "code",
   "execution_count": 1,
   "id": "initial_id",
   "metadata": {
    "ExecuteTime": {
     "end_time": "2025-08-12T20:58:31.826600Z",
     "start_time": "2025-08-12T20:58:31.816302Z"
    },
    "collapsed": true
   },
   "outputs": [],
   "source": [
    "# Importação\n",
    "\n",
    "import pandas as pd"
   ]
  },
  {
   "cell_type": "code",
   "execution_count": 2,
   "id": "452621023280112e",
   "metadata": {
    "ExecuteTime": {
     "end_time": "2025-08-12T20:58:54.018780Z",
     "start_time": "2025-08-12T20:58:36.205391Z"
    }
   },
   "outputs": [],
   "source": [
    "# Lendo os dataframes 2010-2020.1\n",
    "\n",
    "df_2010_1 = pd.read_csv('../data/raw/emprestimos/emprestimos-20101.csv')\n",
    "df_2010_2 = pd.read_csv('../data/raw/emprestimos/emprestimos-20102.csv')\n",
    "\n",
    "df_2011_1 = pd.read_csv('../data/raw/emprestimos/emprestimos-20111.csv')\n",
    "df_2011_2 = pd.read_csv('../data/raw/emprestimos/emprestimos-20112.csv')\n",
    "\n",
    "df_2012_1 = pd.read_csv('../data/raw/emprestimos/emprestimos-20121.csv')\n",
    "df_2012_2 = pd.read_csv('../data/raw/emprestimos/emprestimos-20122.csv')\n",
    "\n",
    "df_2013_1 = pd.read_csv('../data/raw/emprestimos/emprestimos-20131.csv')\n",
    "df_2013_2 = pd.read_csv('../data/raw/emprestimos/emprestimos-20131.csv')\n",
    "\n",
    "df_2014_1 = pd.read_csv('../data/raw/emprestimos/emprestimos-20141.csv')\n",
    "df_2014_2 = pd.read_csv('../data/raw/emprestimos/emprestimos-20142.csv')\n",
    "\n",
    "df_2015_1 = pd.read_csv('../data/raw/emprestimos/emprestimos-20151.csv')\n",
    "df_2015_2 = pd.read_csv('../data/raw/emprestimos/emprestimos-20152.csv')\n",
    "\n",
    "df_2016_1 = pd.read_csv('../data/raw/emprestimos/emprestimos-20161.csv')\n",
    "df_2016_2 = pd.read_csv('../data/raw/emprestimos/emprestimos-20162.csv')\n",
    "\n",
    "df_2017_1 = pd.read_csv('../data/raw/emprestimos/emprestimos-20171.csv')\n",
    "df_2017_2 = pd.read_csv('../data/raw/emprestimos/emprestimos-20172.csv')\n",
    "\n",
    "df_2018_1 = pd.read_csv('../data/raw/emprestimos/emprestimos-20181.csv')\n",
    "df_2018_2 = pd.read_csv('../data/raw/emprestimos/emprestimos-20182.csv')\n",
    "\n",
    "df_2019_1 = pd.read_csv('../data/raw/emprestimos/emprestimos-20191.csv')\n",
    "df_2019_2 = pd.read_csv('../data/raw/emprestimos/emprestimos-20192.csv')\n",
    "\n",
    "df_2020_1 = pd.read_csv('../data/raw/emprestimos/emprestimos-20201.csv')\n",
    "df_2020_2 = pd.read_csv('../data/raw/emprestimos/emprestimos-20202.csv')\n",
    "\n",
    "df_2021_1 = pd.read_csv('../data/raw/emprestimos/emprestimos-20211.csv')\n",
    "df_2021_2 = pd.read_csv('../data/raw/emprestimos/emprestimos-20212.csv')\n",
    "\n",
    "df_2022_1 = pd.read_csv('../data/raw/emprestimos/emprestimos-20221.csv')\n",
    "df_2022_2 = pd.read_csv('../data/raw/emprestimos/emprestimos-20222.csv')"
   ]
  },
  {
   "cell_type": "code",
   "execution_count": 3,
   "id": "23f52f959faf39d",
   "metadata": {
    "ExecuteTime": {
     "end_time": "2025-08-12T20:59:31.630576Z",
     "start_time": "2025-08-12T20:59:31.198112Z"
    }
   },
   "outputs": [],
   "source": [
    "# Concatenando todos os dataframes em um\n",
    "\n",
    "df_concat = pd.concat([\n",
    "    df_2010_1, df_2010_2,\n",
    "    df_2011_1, df_2011_2,\n",
    "    df_2012_1, df_2012_2,\n",
    "    df_2013_1, df_2013_2,\n",
    "    df_2014_1, df_2014_2,\n",
    "    df_2015_1, df_2015_2,\n",
    "    df_2016_1, df_2016_2,\n",
    "    df_2017_1, df_2017_2,\n",
    "    df_2018_1, df_2018_2,\n",
    "    df_2019_1, df_2019_2,\n",
    "    df_2020_1, df_2020_2,\n",
    "    df_2021_1, df_2021_2,\n",
    "    df_2022_1, df_2022_2\n",
    "], ignore_index=True)"
   ]
  },
  {
   "cell_type": "code",
   "execution_count": 4,
   "id": "db874548",
   "metadata": {},
   "outputs": [],
   "source": [
    "df_concat.drop(columns='nome_usuario', inplace=True)"
   ]
  },
  {
   "cell_type": "code",
   "execution_count": 5,
   "id": "5cad723c12983756",
   "metadata": {
    "ExecuteTime": {
     "end_time": "2025-08-12T20:59:39.827163Z",
     "start_time": "2025-08-12T20:59:39.786714Z"
    }
   },
   "outputs": [
    {
     "data": {
      "text/html": [
       "<div>\n",
       "<style scoped>\n",
       "    .dataframe tbody tr th:only-of-type {\n",
       "        vertical-align: middle;\n",
       "    }\n",
       "\n",
       "    .dataframe tbody tr th {\n",
       "        vertical-align: top;\n",
       "    }\n",
       "\n",
       "    .dataframe thead th {\n",
       "        text-align: right;\n",
       "    }\n",
       "</style>\n",
       "<table border=\"1\" class=\"dataframe\">\n",
       "  <thead>\n",
       "    <tr style=\"text-align: right;\">\n",
       "      <th></th>\n",
       "      <th>id_emprestimo</th>\n",
       "      <th>codigo_barras</th>\n",
       "      <th>data_renovacao</th>\n",
       "      <th>data_emprestimo</th>\n",
       "      <th>data_devolucao</th>\n",
       "      <th>matricula_ou_siape</th>\n",
       "      <th>tipo_vinculo_usuario</th>\n",
       "    </tr>\n",
       "  </thead>\n",
       "  <tbody>\n",
       "    <tr>\n",
       "      <th>0</th>\n",
       "      <td>709684</td>\n",
       "      <td>L095049</td>\n",
       "      <td>NaN</td>\n",
       "      <td>2010/01/04 07:44:10.721000000</td>\n",
       "      <td>2010/01/05 16:26:12.662000000</td>\n",
       "      <td>2.008023e+09</td>\n",
       "      <td>ALUNO DE GRADUAÇÃO</td>\n",
       "    </tr>\n",
       "    <tr>\n",
       "      <th>1</th>\n",
       "      <td>709685</td>\n",
       "      <td>L167050</td>\n",
       "      <td>NaN</td>\n",
       "      <td>2010/01/04 07:44:10.750000000</td>\n",
       "      <td>2010/01/12 07:34:13.934000000</td>\n",
       "      <td>2.008023e+09</td>\n",
       "      <td>ALUNO DE GRADUAÇÃO</td>\n",
       "    </tr>\n",
       "    <tr>\n",
       "      <th>2</th>\n",
       "      <td>709686</td>\n",
       "      <td>2006017618</td>\n",
       "      <td>2010/01/26 08:07:01.738000000</td>\n",
       "      <td>2010/01/04 08:08:44.081000000</td>\n",
       "      <td>2010/02/25 07:36:25.800000000</td>\n",
       "      <td>2.008112e+09</td>\n",
       "      <td>ALUNO DE PÓS-GRADUAÇÃO</td>\n",
       "    </tr>\n",
       "    <tr>\n",
       "      <th>3</th>\n",
       "      <td>709687</td>\n",
       "      <td>L184117</td>\n",
       "      <td>2010/01/18 11:07:46.470000000</td>\n",
       "      <td>2010/01/04 08:24:21.284000000</td>\n",
       "      <td>2010/02/03 08:58:45.692000000</td>\n",
       "      <td>2.007211e+08</td>\n",
       "      <td>ALUNO DE GRADUAÇÃO</td>\n",
       "    </tr>\n",
       "    <tr>\n",
       "      <th>4</th>\n",
       "      <td>709684</td>\n",
       "      <td>L095049</td>\n",
       "      <td>NaN</td>\n",
       "      <td>2010/01/04 07:44:10.721000000</td>\n",
       "      <td>2010/01/05 16:26:12.662000000</td>\n",
       "      <td>2.008023e+09</td>\n",
       "      <td>ALUNO DE GRADUAÇÃO</td>\n",
       "    </tr>\n",
       "  </tbody>\n",
       "</table>\n",
       "</div>"
      ],
      "text/plain": [
       "   id_emprestimo codigo_barras                 data_renovacao  \\\n",
       "0         709684       L095049                            NaN   \n",
       "1         709685       L167050                            NaN   \n",
       "2         709686    2006017618  2010/01/26 08:07:01.738000000   \n",
       "3         709687       L184117  2010/01/18 11:07:46.470000000   \n",
       "4         709684       L095049                            NaN   \n",
       "\n",
       "                 data_emprestimo                 data_devolucao  \\\n",
       "0  2010/01/04 07:44:10.721000000  2010/01/05 16:26:12.662000000   \n",
       "1  2010/01/04 07:44:10.750000000  2010/01/12 07:34:13.934000000   \n",
       "2  2010/01/04 08:08:44.081000000  2010/02/25 07:36:25.800000000   \n",
       "3  2010/01/04 08:24:21.284000000  2010/02/03 08:58:45.692000000   \n",
       "4  2010/01/04 07:44:10.721000000  2010/01/05 16:26:12.662000000   \n",
       "\n",
       "   matricula_ou_siape    tipo_vinculo_usuario  \n",
       "0        2.008023e+09      ALUNO DE GRADUAÇÃO  \n",
       "1        2.008023e+09      ALUNO DE GRADUAÇÃO  \n",
       "2        2.008112e+09  ALUNO DE PÓS-GRADUAÇÃO  \n",
       "3        2.007211e+08      ALUNO DE GRADUAÇÃO  \n",
       "4        2.008023e+09      ALUNO DE GRADUAÇÃO  "
      ]
     },
     "execution_count": 5,
     "metadata": {},
     "output_type": "execute_result"
    }
   ],
   "source": [
    "# Mostrando alguns registros da concatenação\n",
    "df_concat.head()"
   ]
  },
  {
   "cell_type": "code",
   "execution_count": null,
   "id": "8037d486d41ecbdd",
   "metadata": {},
   "outputs": [],
   "source": [
    "df_concat.tail()"
   ]
  },
  {
   "cell_type": "code",
   "execution_count": null,
   "id": "e3292adcce7e0937",
   "metadata": {
    "ExecuteTime": {
     "end_time": "2025-08-12T20:59:46.079073Z",
     "start_time": "2025-08-12T20:59:46.051744Z"
    }
   },
   "outputs": [],
   "source": [
    "# Mostrando os tipos dos dados da base de dados\n",
    "df_concat.info()"
   ]
  },
  {
   "cell_type": "code",
   "execution_count": 6,
   "id": "edf98713b0e1046c",
   "metadata": {
    "ExecuteTime": {
     "end_time": "2025-08-12T20:59:35.984255Z",
     "start_time": "2025-08-12T20:59:35.964518Z"
    }
   },
   "outputs": [
    {
     "data": {
      "text/plain": [
       "(2346186, 7)"
      ]
     },
     "execution_count": 6,
     "metadata": {},
     "output_type": "execute_result"
    }
   ],
   "source": [
    "# Mostrando o tamanho da base de dados (linhas e colunas)\n",
    "df_concat.shape"
   ]
  },
  {
   "cell_type": "code",
   "execution_count": 7,
   "id": "bf93d6591c6f6f2f",
   "metadata": {},
   "outputs": [
    {
     "data": {
      "text/plain": [
       "Index(['id_emprestimo', 'codigo_barras', 'data_renovacao', 'data_emprestimo',\n",
       "       'data_devolucao', 'matricula_ou_siape', 'tipo_vinculo_usuario'],\n",
       "      dtype='object')"
      ]
     },
     "execution_count": 7,
     "metadata": {},
     "output_type": "execute_result"
    }
   ],
   "source": [
    "# Mostrando as colunas da base de dados\n",
    "df_concat.columns"
   ]
  },
  {
   "cell_type": "code",
   "execution_count": null,
   "id": "9bad3e3f0644fc3f",
   "metadata": {},
   "outputs": [],
   "source": [
    "# Verificando o tipo de dado de cada coluna\n",
    "df_concat.dtypes"
   ]
  },
  {
   "cell_type": "code",
   "execution_count": null,
   "id": "5eac8b6d23cf3954",
   "metadata": {},
   "outputs": [],
   "source": [
    "# Verificando se há registros nulos\n",
    "df_concat.isnull().sum()"
   ]
  },
  {
   "cell_type": "code",
   "execution_count": 8,
   "id": "f326566eee773ed3",
   "metadata": {},
   "outputs": [
    {
     "data": {
      "text/plain": [
       "id_emprestimo  codigo_barras  data_renovacao                 data_emprestimo                data_devolucao                 matricula_ou_siape  tipo_vinculo_usuario  \n",
       "709704         2006021442     2010/01/17 18:56:43.923000000  2010/01/04 09:58:46.522000000  2010/02/01 13:59:02.528000000  2.008010e+09        ALUNO DE GRADUAÇÃO        7\n",
       "709705         2009032168     2010/01/17 18:56:43.909000000  2010/01/04 09:58:46.549000000  2010/01/20 13:14:34.464000000  2.008010e+09        ALUNO DE GRADUAÇÃO        7\n",
       "709698         2009047725     2010/01/18 14:44:41.163000000  2010/01/04 09:21:19.099000000  2010/02/02 12:02:38.444000000  2.009047e+09        ALUNO DE GRADUAÇÃO        3\n",
       "1408405        2009011068     2013/02/15 12:33:45.516000000  2013/01/31 16:47:08.196000000  2013/03/04 16:50:24.000000000  2.011032e+09        ALUNO DE GRADUAÇÃO        2\n",
       "1408406        2011068132     2013/02/15 12:33:45.456000000  2013/01/31 16:47:08.250000000  2013/03/04 16:50:32.000000000  2.011032e+09        ALUNO DE GRADUAÇÃO        2\n",
       "                                                                                                                                                                        ..\n",
       "10322140       2012043425     2018/01/29 21:31:14.254000000  2017/12/29 14:11:46.562000000  2018/02/27 14:49:44.000000000  2.016201e+09        ALUNO DE PÓS-GRADUAÇÃO    1\n",
       "10322144       2012052321     2018/01/29 21:31:14.235000000  2017/12/29 14:11:46.621000000  2018/02/27 14:49:18.000000000  2.016201e+09        ALUNO DE PÓS-GRADUAÇÃO    1\n",
       "10322148       2013114500     2018/01/29 21:31:14.215000000  2017/12/29 14:11:46.680000000  2018/02/27 14:49:53.000000000  2.016201e+09        ALUNO DE PÓS-GRADUAÇÃO    1\n",
       "10322152       2014057666     2018/01/29 21:31:14.192000000  2017/12/29 14:11:46.742000000  2018/02/27 14:49:33.000000000  2.016201e+09        ALUNO DE PÓS-GRADUAÇÃO    1\n",
       "709703         2007020476     2010/01/13 09:39:02.522000000  2010/01/04 09:56:42.325000000  2010/01/21 10:25:28.007000000  2.006256e+08        ALUNO DE GRADUAÇÃO        1\n",
       "Name: count, Length: 947290, dtype: int64"
      ]
     },
     "execution_count": 8,
     "metadata": {},
     "output_type": "execute_result"
    }
   ],
   "source": [
    "# Verificando se há duplicatas\n",
    "df_concat.value_counts()"
   ]
  },
  {
   "cell_type": "code",
   "execution_count": null,
   "id": "9123e94d539808dc",
   "metadata": {},
   "outputs": [],
   "source": [
    "# Resumo estatístico da base de dados com dados categoricos\n",
    "df_concat.describe(include='object')"
   ]
  },
  {
   "cell_type": "code",
   "execution_count": 9,
   "id": "5136f93cc7b5465d",
   "metadata": {
    "ExecuteTime": {
     "end_time": "2025-08-12T21:02:18.299928Z",
     "start_time": "2025-08-12T21:01:48.239433Z"
    }
   },
   "outputs": [],
   "source": [
    "df_concat.to_csv('../data/interim/emprestimos-concat.csv', index=False)"
   ]
  },
  {
   "cell_type": "code",
   "execution_count": null,
   "id": "b9a6e95e6f10b2a5",
   "metadata": {},
   "outputs": [],
   "source": [
    "# Lendo o arquivo que contém os exemplares\n",
    "df_exemplares = pd.read_parquet('../data/raw/dados_exemplares.parquet')\n",
    "\n",
    "# Mostrando alguns registros dos exemplares\n",
    "df_exemplares.head()"
   ]
  },
  {
   "cell_type": "code",
   "execution_count": null,
   "id": "c109ca72c53b7320",
   "metadata": {},
   "outputs": [],
   "source": [
    "# Mostrando os tipos dos dados dos exemplares\n",
    "df_exemplares.info()"
   ]
  },
  {
   "cell_type": "code",
   "execution_count": null,
   "id": "fcacb5721a0044c2",
   "metadata": {},
   "outputs": [],
   "source": [
    "# Tamanho do dataframe exemplares\n",
    "df_exemplares.shape"
   ]
  },
  {
   "cell_type": "code",
   "execution_count": null,
   "id": "10edcf4a49eaca77",
   "metadata": {},
   "outputs": [],
   "source": [
    "# Mostrando as colunas do dataframe exemplares\n",
    "df_exemplares.columns"
   ]
  },
  {
   "cell_type": "code",
   "execution_count": null,
   "id": "86b5cec7709c7bbb",
   "metadata": {},
   "outputs": [],
   "source": [
    "# Verificando o tipo de dado de cada coluna do dataframe exemplares\n",
    "df_exemplares.dtypes"
   ]
  },
  {
   "cell_type": "code",
   "execution_count": null,
   "id": "a45235fb5812ac11",
   "metadata": {},
   "outputs": [],
   "source": [
    "# Verificando se há registros nulos no dataframe exemplares\n",
    "df_exemplares.isnull().sum()"
   ]
  },
  {
   "cell_type": "code",
   "execution_count": null,
   "id": "5f2a4db3e11052ba",
   "metadata": {},
   "outputs": [],
   "source": [
    "# Resumo estatístico do dataframe exemplares com dados categoricos\n",
    "df_exemplares.describe(include='object')"
   ]
  }
 ],
 "metadata": {
  "kernelspec": {
   "display_name": "py_313_data",
   "language": "python",
   "name": "python3"
  },
  "language_info": {
   "codemirror_mode": {
    "name": "ipython",
    "version": 3
   },
   "file_extension": ".py",
   "mimetype": "text/x-python",
   "name": "python",
   "nbconvert_exporter": "python",
   "pygments_lexer": "ipython3",
   "version": "3.13.5"
  }
 },
 "nbformat": 4,
 "nbformat_minor": 5
}
