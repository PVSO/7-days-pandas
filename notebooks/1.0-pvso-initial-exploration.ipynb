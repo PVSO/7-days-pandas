{
 "cells": [
  {
   "cell_type": "code",
   "execution_count": null,
   "id": "initial_id",
   "metadata": {
    "ExecuteTime": {
     "end_time": "2025-08-12T20:58:31.826600Z",
     "start_time": "2025-08-12T20:58:31.816302Z"
    },
    "collapsed": true
   },
   "outputs": [],
   "source": [
    "# Importação\n",
    "\n",
    "import pandas as pd"
   ]
  },
  {
   "cell_type": "code",
   "execution_count": null,
   "id": "452621023280112e",
   "metadata": {
    "ExecuteTime": {
     "end_time": "2025-08-12T20:58:54.018780Z",
     "start_time": "2025-08-12T20:58:36.205391Z"
    }
   },
   "outputs": [],
   "source": [
    "# Lendo os dataframes 2010-2022\n",
    "\n",
    "df_2010_1 = pd.read_csv('../data/raw/emprestimos/emprestimos-20101.csv')\n",
    "df_2010_2 = pd.read_csv('../data/raw/emprestimos/emprestimos-20102.csv')\n",
    "\n",
    "df_2011_1 = pd.read_csv('../data/raw/emprestimos/emprestimos-20111.csv')\n",
    "df_2011_2 = pd.read_csv('../data/raw/emprestimos/emprestimos-20112.csv')\n",
    "\n",
    "df_2012_1 = pd.read_csv('../data/raw/emprestimos/emprestimos-20121.csv')\n",
    "df_2012_2 = pd.read_csv('../data/raw/emprestimos/emprestimos-20122.csv')\n",
    "\n",
    "df_2013_1 = pd.read_csv('../data/raw/emprestimos/emprestimos-20131.csv')\n",
    "df_2013_2 = pd.read_csv('../data/raw/emprestimos/emprestimos-20131.csv')\n",
    "\n",
    "df_2014_1 = pd.read_csv('../data/raw/emprestimos/emprestimos-20141.csv')\n",
    "df_2014_2 = pd.read_csv('../data/raw/emprestimos/emprestimos-20142.csv')\n",
    "\n",
    "df_2015_1 = pd.read_csv('../data/raw/emprestimos/emprestimos-20151.csv')\n",
    "df_2015_2 = pd.read_csv('../data/raw/emprestimos/emprestimos-20152.csv')\n",
    "\n",
    "df_2016_1 = pd.read_csv('../data/raw/emprestimos/emprestimos-20161.csv')\n",
    "df_2016_2 = pd.read_csv('../data/raw/emprestimos/emprestimos-20162.csv')\n",
    "\n",
    "df_2017_1 = pd.read_csv('../data/raw/emprestimos/emprestimos-20171.csv')\n",
    "df_2017_2 = pd.read_csv('../data/raw/emprestimos/emprestimos-20172.csv')\n",
    "\n",
    "df_2018_1 = pd.read_csv('../data/raw/emprestimos/emprestimos-20181.csv')\n",
    "df_2018_2 = pd.read_csv('../data/raw/emprestimos/emprestimos-20182.csv')\n",
    "\n",
    "df_2019_1 = pd.read_csv('../data/raw/emprestimos/emprestimos-20191.csv')\n",
    "df_2019_2 = pd.read_csv('../data/raw/emprestimos/emprestimos-20192.csv')\n",
    "\n",
    "df_2020_1 = pd.read_csv('../data/raw/emprestimos/emprestimos-20201.csv')\n",
    "df_2020_2 = pd.read_csv('../data/raw/emprestimos/emprestimos-20202.csv')\n",
    "\n",
    "df_2021_1 = pd.read_csv('../data/raw/emprestimos/emprestimos-20211.csv')\n",
    "df_2021_2 = pd.read_csv('../data/raw/emprestimos/emprestimos-20212.csv')\n",
    "\n",
    "df_2022_1 = pd.read_csv('../data/raw/emprestimos/emprestimos-20221.csv')\n",
    "df_2022_2 = pd.read_csv('../data/raw/emprestimos/emprestimos-20222.csv')"
   ]
  },
  {
   "cell_type": "code",
   "execution_count": null,
   "id": "f50a1071",
   "metadata": {},
   "outputs": [],
   "source": [
    "df_2020_2022 = pd.concat([\n",
    "    df_2020_2, df_2021_1, df_2021_2, df_2022_1, df_2022_2\n",
    "    ], ignore_index=True)"
   ]
  },
  {
   "cell_type": "code",
   "execution_count": null,
   "id": "d82bde15",
   "metadata": {},
   "outputs": [],
   "source": [
    "df_2020_2022['tipo_vinculo_usuario'].unique()"
   ]
  },
  {
   "cell_type": "code",
   "execution_count": null,
   "id": "aac3ffc5",
   "metadata": {},
   "outputs": [],
   "source": [
    "df_2020_2022.columns"
   ]
  },
  {
   "cell_type": "code",
   "execution_count": null,
   "id": "69973131",
   "metadata": {},
   "outputs": [],
   "source": [
    "tipo_vinculo_usuario = {\n",
    "    'ALUNO DE PÃ“S-GRADUAÃ‡ÃƒO': 'ALUNO DE PÓS-GRADUAÇÃO',\n",
    "    'DOCENTE': 'DOCENTE',\n",
    "    'ALUNO DE GRADUAÃ‡ÃƒO': 'ALUNO DE GRADUAÇÃO',\n",
    "    'SERVIDOR TÃ‰CNICO-ADMINISTRATIVO': 'SERVIDOR TÉCNICO-ADMINISTRATIVO',\n",
    "    'ALUNO MÃ‰DIO/TÃ‰CNICO': 'ALUNO MÉDIO/TÉCNICO',\n",
    "    'DOCENTE EXTERNO': 'DOCENTE EXTERNO',\n",
    "    'USUÃ\\x81RIO EXTERNO': 'USUÁRIO EXTERNO'\n",
    "}\n",
    "\n",
    "df_2020_2022['tipo_vinculo_usuario'] = df_2020_2022['tipo_vinculo_usuario'].map(tipo_vinculo_usuario)\n",
    "\n",
    "\n",
    "df_2020_2022['tipo_vinculo_usuario'].unique()"
   ]
  },
  {
   "cell_type": "code",
   "execution_count": null,
   "id": "db874548",
   "metadata": {},
   "outputs": [],
   "source": [
    "df_2020_2022.drop(columns='nome_usuario', inplace=True)"
   ]
  },
  {
   "cell_type": "code",
   "execution_count": null,
   "id": "c2377bad",
   "metadata": {},
   "outputs": [],
   "source": [
    "df_2020_2022.columns"
   ]
  },
  {
   "cell_type": "code",
   "execution_count": null,
   "id": "23f52f959faf39d",
   "metadata": {
    "ExecuteTime": {
     "end_time": "2025-08-12T20:59:31.630576Z",
     "start_time": "2025-08-12T20:59:31.198112Z"
    }
   },
   "outputs": [],
   "source": [
    "# Concatenando todos os dataframes em um\n",
    "\n",
    "df_concat = pd.concat([\n",
    "    df_2010_1, df_2010_2,\n",
    "    df_2011_1, df_2011_2,\n",
    "    df_2012_1, df_2012_2,\n",
    "    df_2013_1, df_2013_2,\n",
    "    df_2014_1, df_2014_2,\n",
    "    df_2015_1, df_2015_2,\n",
    "    df_2016_1, df_2016_2,\n",
    "    df_2017_1, df_2017_2,\n",
    "    df_2018_1, df_2018_2,\n",
    "    df_2019_1, df_2019_2,\n",
    "    df_2020_1, df_2020_2022\n",
    "], ignore_index=True)"
   ]
  },
  {
   "cell_type": "code",
   "execution_count": null,
   "id": "c3789d0b",
   "metadata": {},
   "outputs": [],
   "source": [
    "df_concat['tipo_vinculo_usuario'].unique()"
   ]
  },
  {
   "cell_type": "code",
   "execution_count": null,
   "id": "5cad723c12983756",
   "metadata": {
    "ExecuteTime": {
     "end_time": "2025-08-12T20:59:39.827163Z",
     "start_time": "2025-08-12T20:59:39.786714Z"
    }
   },
   "outputs": [],
   "source": [
    "# Mostrando alguns registros da concatenação\n",
    "df_concat.head()"
   ]
  },
  {
   "cell_type": "code",
   "execution_count": null,
   "id": "8037d486d41ecbdd",
   "metadata": {},
   "outputs": [],
   "source": [
    "df_concat.tail()"
   ]
  },
  {
   "cell_type": "code",
   "execution_count": null,
   "id": "e3292adcce7e0937",
   "metadata": {
    "ExecuteTime": {
     "end_time": "2025-08-12T20:59:46.079073Z",
     "start_time": "2025-08-12T20:59:46.051744Z"
    }
   },
   "outputs": [],
   "source": [
    "# Mostrando os tipos dos dados da base de dados\n",
    "df_concat.info()"
   ]
  },
  {
   "cell_type": "code",
   "execution_count": null,
   "id": "edf98713b0e1046c",
   "metadata": {
    "ExecuteTime": {
     "end_time": "2025-08-12T20:59:35.984255Z",
     "start_time": "2025-08-12T20:59:35.964518Z"
    }
   },
   "outputs": [],
   "source": [
    "# Mostrando o tamanho da base de dados (linhas e colunas)\n",
    "df_concat.shape"
   ]
  },
  {
   "cell_type": "code",
   "execution_count": null,
   "id": "bf93d6591c6f6f2f",
   "metadata": {},
   "outputs": [],
   "source": [
    "# Mostrando as colunas da base de dados\n",
    "df_concat.columns"
   ]
  },
  {
   "cell_type": "code",
   "execution_count": null,
   "id": "9bad3e3f0644fc3f",
   "metadata": {},
   "outputs": [],
   "source": [
    "# Verificando o tipo de dado de cada coluna\n",
    "df_concat.dtypes"
   ]
  },
  {
   "cell_type": "code",
   "execution_count": null,
   "id": "5eac8b6d23cf3954",
   "metadata": {},
   "outputs": [],
   "source": [
    "# Verificando se há registros nulos\n",
    "df_concat.isnull().sum()"
   ]
  },
  {
   "cell_type": "code",
   "execution_count": null,
   "id": "f326566eee773ed3",
   "metadata": {},
   "outputs": [],
   "source": [
    "# Verificando se há duplicatas\n",
    "df_concat.value_counts()"
   ]
  },
  {
   "cell_type": "code",
   "execution_count": null,
   "id": "bee048f9",
   "metadata": {},
   "outputs": [],
   "source": [
    "df_concat.drop_duplicates(inplace=True)"
   ]
  },
  {
   "cell_type": "code",
   "execution_count": null,
   "id": "c9e62e34",
   "metadata": {},
   "outputs": [],
   "source": [
    "# Verificando se há duplicatas\n",
    "df_concat.value_counts()"
   ]
  },
  {
   "cell_type": "code",
   "execution_count": null,
   "id": "9123e94d539808dc",
   "metadata": {},
   "outputs": [],
   "source": [
    "# Resumo estatístico da base de dados com dados categoricos\n",
    "df_concat.describe(include='object')"
   ]
  },
  {
   "cell_type": "code",
   "execution_count": null,
   "id": "5136f93cc7b5465d",
   "metadata": {
    "ExecuteTime": {
     "end_time": "2025-08-12T21:02:18.299928Z",
     "start_time": "2025-08-12T21:01:48.239433Z"
    }
   },
   "outputs": [],
   "source": [
    "df_concat.to_csv('../data/interim/emprestimos-concat.csv', index=False)"
   ]
  },
  {
   "cell_type": "code",
   "execution_count": null,
   "id": "b9a6e95e6f10b2a5",
   "metadata": {},
   "outputs": [],
   "source": [
    "# Lendo o arquivo que contém os exemplares\n",
    "df_exemplares = pd.read_parquet('../data/raw/dados_exemplares.parquet')\n",
    "\n",
    "# Mostrando alguns registros dos exemplares\n",
    "df_exemplares.head()"
   ]
  },
  {
   "cell_type": "code",
   "execution_count": null,
   "id": "c109ca72c53b7320",
   "metadata": {},
   "outputs": [],
   "source": [
    "# Mostrando os tipos dos dados dos exemplares\n",
    "df_exemplares.info()"
   ]
  },
  {
   "cell_type": "code",
   "execution_count": null,
   "id": "fcacb5721a0044c2",
   "metadata": {},
   "outputs": [],
   "source": [
    "# Tamanho do dataframe exemplares\n",
    "df_exemplares.shape"
   ]
  },
  {
   "cell_type": "code",
   "execution_count": null,
   "id": "10edcf4a49eaca77",
   "metadata": {},
   "outputs": [],
   "source": [
    "# Mostrando as colunas do dataframe exemplares\n",
    "df_exemplares.columns"
   ]
  },
  {
   "cell_type": "code",
   "execution_count": null,
   "id": "86b5cec7709c7bbb",
   "metadata": {},
   "outputs": [],
   "source": [
    "# Verificando o tipo de dado de cada coluna do dataframe exemplares\n",
    "df_exemplares.dtypes"
   ]
  },
  {
   "cell_type": "code",
   "execution_count": null,
   "id": "a45235fb5812ac11",
   "metadata": {},
   "outputs": [],
   "source": [
    "# Verificando se há registros nulos no dataframe exemplares\n",
    "df_exemplares.isnull().sum()"
   ]
  },
  {
   "cell_type": "code",
   "execution_count": null,
   "id": "5f2a4db3e11052ba",
   "metadata": {},
   "outputs": [],
   "source": [
    "# Resumo estatístico do dataframe exemplares com dados categoricos\n",
    "df_exemplares.describe(include='object')"
   ]
  }
 ],
 "metadata": {
  "kernelspec": {
   "display_name": "py_313_data",
   "language": "python",
   "name": "python3"
  },
  "language_info": {
   "codemirror_mode": {
    "name": "ipython",
    "version": 3
   },
   "file_extension": ".py",
   "mimetype": "text/x-python",
   "name": "python",
   "nbconvert_exporter": "python",
   "pygments_lexer": "ipython3",
   "version": "3.13.5"
  }
 },
 "nbformat": 4,
 "nbformat_minor": 5
}
