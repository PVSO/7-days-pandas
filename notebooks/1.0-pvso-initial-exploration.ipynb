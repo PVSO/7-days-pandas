{
 "cells": [
  {
   "cell_type": "markdown",
   "id": "59bbe954d44608b9",
   "metadata": {},
   "source": [
    "Questões de diferentes perspectivas podem surgir como:\n",
    "\n",
    "A quantidade de empréstimos está aumentando ou diminuindo ao decorrer dos últimos anos?\n",
    "\n",
    "Em quais bibliotecas do sistema estão a maior quantidade de empréstimos?\n",
    "\n",
    "Quais são os temas mais emprestados? E os menos?\n"
   ]
  },
  {
   "cell_type": "code",
   "id": "initial_id",
   "metadata": {
    "collapsed": true,
    "ExecuteTime": {
     "end_time": "2025-08-12T19:27:08.454557Z",
     "start_time": "2025-08-12T19:27:08.444530Z"
    }
   },
   "source": [
    "# Importação\n",
    "\n",
    "import numpy as np\n",
    "import pandas as pd\n",
    "import matplotlib.pyplot as plt\n",
    "import seaborn as sns"
   ],
   "outputs": [],
   "execution_count": 1
  },
  {
   "cell_type": "code",
   "id": "452621023280112e",
   "metadata": {
    "ExecuteTime": {
     "end_time": "2025-08-12T19:30:23.018200Z",
     "start_time": "2025-08-12T19:30:06.134829Z"
    }
   },
   "source": [
    "# Lendo os dataframes 2010-2020.1\n",
    "\n",
    "df_2010_1 = pd.read_csv('../data/raw/emprestimos/emprestimos-20101.csv')\n",
    "df_2010_2 = pd.read_csv('../data/raw/emprestimos/emprestimos-20102.csv')\n",
    "\n",
    "df_2011_1 = pd.read_csv('../data/raw/emprestimos/emprestimos-20111.csv')\n",
    "df_2011_2 = pd.read_csv('../data/raw/emprestimos/emprestimos-20112.csv')\n",
    "\n",
    "df_2012_1 = pd.read_csv('../data/raw/emprestimos/emprestimos-20121.csv')\n",
    "df_2012_2 = pd.read_csv('../data/raw/emprestimos/emprestimos-20122.csv')\n",
    "\n",
    "df_2013_1 = pd.read_csv('../data/raw/emprestimos/emprestimos-20131.csv')\n",
    "df_2013_2 = pd.read_csv('../data/raw/emprestimos/emprestimos-20131.csv')\n",
    "\n",
    "df_2014_1 = pd.read_csv('../data/raw/emprestimos/emprestimos-20141.csv')\n",
    "df_2014_2 = pd.read_csv('../data/raw/emprestimos/emprestimos-20142.csv')\n",
    "\n",
    "df_2015_1 = pd.read_csv('../data/raw/emprestimos/emprestimos-20151.csv')\n",
    "df_2015_2 = pd.read_csv('../data/raw/emprestimos/emprestimos-20152.csv')\n",
    "\n",
    "df_2016_1 = pd.read_csv('../data/raw/emprestimos/emprestimos-20161.csv')\n",
    "df_2016_2 = pd.read_csv('../data/raw/emprestimos/emprestimos-20162.csv')\n",
    "\n",
    "df_2017_1 = pd.read_csv('../data/raw/emprestimos/emprestimos-20171.csv')\n",
    "df_2017_2 = pd.read_csv('../data/raw/emprestimos/emprestimos-20172.csv')\n",
    "\n",
    "df_2018_1 = pd.read_csv('../data/raw/emprestimos/emprestimos-20181.csv')\n",
    "df_2018_2 = pd.read_csv('../data/raw/emprestimos/emprestimos-20182.csv')\n",
    "\n",
    "df_2019_1 = pd.read_csv('../data/raw/emprestimos/emprestimos-20191.csv')\n",
    "df_2019_2 = pd.read_csv('../data/raw/emprestimos/emprestimos-20192.csv')\n",
    "\n",
    "df_2020_1 = pd.read_csv('../data/raw/emprestimos/emprestimos-20201.csv')\n",
    "df_2020_2 = pd.read_csv('../data/raw/emprestimos/emprestimos-20202.csv')\n",
    "\n",
    "df_2021_1 = pd.read_csv('../data/raw/emprestimos/emprestimos-20211.csv')\n",
    "df_2021_2 = pd.read_csv('../data/raw/emprestimos/emprestimos-20212.csv')\n",
    "\n",
    "df_2022_1 = pd.read_csv('../data/raw/emprestimos/emprestimos-20221.csv')\n",
    "df_2022_2 = pd.read_csv('../data/raw/emprestimos/emprestimos-20222.csv')"
   ],
   "outputs": [],
   "execution_count": 5
  },
  {
   "cell_type": "code",
   "id": "23f52f959faf39d",
   "metadata": {
    "ExecuteTime": {
     "end_time": "2025-08-12T19:30:26.093041Z",
     "start_time": "2025-08-12T19:30:25.553466Z"
    }
   },
   "source": [
    "# Concatenando todos os dataframes em um\n",
    "\n",
    "df_concat = pd.concat([\n",
    "    df_2010_1, df_2010_2,\n",
    "    df_2011_1, df_2011_2,\n",
    "    df_2012_1, df_2012_2,\n",
    "    df_2013_1, df_2013_2,\n",
    "    df_2014_1, df_2014_2,\n",
    "    df_2015_1, df_2015_2,\n",
    "    df_2016_1, df_2016_2,\n",
    "    df_2017_1, df_2017_2,\n",
    "    df_2018_1, df_2018_2,\n",
    "    df_2019_1, df_2019_2,\n",
    "    df_2020_1, df_2020_2,\n",
    "    df_2021_1, df_2021_2,\n",
    "    df_2022_1, df_2022_2\n",
    "], ignore_index=True)\n",
    "\n",
    "# Mostrando alguns registros da concatenação\n",
    "df_concat.head()"
   ],
   "outputs": [
    {
     "data": {
      "text/plain": [
       "   id_emprestimo codigo_barras                 data_renovacao  \\\n",
       "0       709684.0       L095049                            NaN   \n",
       "1       709685.0       L167050                            NaN   \n",
       "2       709686.0    2006017618  2010/01/26 08:07:01.738000000   \n",
       "3       709687.0       L184117  2010/01/18 11:07:46.470000000   \n",
       "4       709684.0       L095049                            NaN   \n",
       "\n",
       "                 data_emprestimo                 data_devolucao  \\\n",
       "0  2010/01/04 07:44:10.721000000  2010/01/05 16:26:12.662000000   \n",
       "1  2010/01/04 07:44:10.750000000  2010/01/12 07:34:13.934000000   \n",
       "2  2010/01/04 08:08:44.081000000  2010/02/25 07:36:25.800000000   \n",
       "3  2010/01/04 08:24:21.284000000  2010/02/03 08:58:45.692000000   \n",
       "4  2010/01/04 07:44:10.721000000  2010/01/05 16:26:12.662000000   \n",
       "\n",
       "   matricula_ou_siape    tipo_vinculo_usuario  \\\n",
       "0        2.008023e+09      ALUNO DE GRADUAÇÃO   \n",
       "1        2.008023e+09      ALUNO DE GRADUAÇÃO   \n",
       "2        2.008112e+09  ALUNO DE PÓS-GRADUAÇÃO   \n",
       "3        2.007211e+08      ALUNO DE GRADUAÇÃO   \n",
       "4        2.008023e+09      ALUNO DE GRADUAÇÃO   \n",
       "\n",
       "  id_emprestimo;\"codigo_barras\";\"data_renovacao\";\"data_emprestimo\";\"data_devolucao\";\"matricula_ou_siape\";\"nome_usuario\";\"tipo_vinculo_usuario\"  \n",
       "0                                                NaN                                                                                            \n",
       "1                                                NaN                                                                                            \n",
       "2                                                NaN                                                                                            \n",
       "3                                                NaN                                                                                            \n",
       "4                                                NaN                                                                                            "
      ],
      "text/html": [
       "<div>\n",
       "<style scoped>\n",
       "    .dataframe tbody tr th:only-of-type {\n",
       "        vertical-align: middle;\n",
       "    }\n",
       "\n",
       "    .dataframe tbody tr th {\n",
       "        vertical-align: top;\n",
       "    }\n",
       "\n",
       "    .dataframe thead th {\n",
       "        text-align: right;\n",
       "    }\n",
       "</style>\n",
       "<table border=\"1\" class=\"dataframe\">\n",
       "  <thead>\n",
       "    <tr style=\"text-align: right;\">\n",
       "      <th></th>\n",
       "      <th>id_emprestimo</th>\n",
       "      <th>codigo_barras</th>\n",
       "      <th>data_renovacao</th>\n",
       "      <th>data_emprestimo</th>\n",
       "      <th>data_devolucao</th>\n",
       "      <th>matricula_ou_siape</th>\n",
       "      <th>tipo_vinculo_usuario</th>\n",
       "      <th>id_emprestimo;\"codigo_barras\";\"data_renovacao\";\"data_emprestimo\";\"data_devolucao\";\"matricula_ou_siape\";\"nome_usuario\";\"tipo_vinculo_usuario\"</th>\n",
       "    </tr>\n",
       "  </thead>\n",
       "  <tbody>\n",
       "    <tr>\n",
       "      <th>0</th>\n",
       "      <td>709684.0</td>\n",
       "      <td>L095049</td>\n",
       "      <td>NaN</td>\n",
       "      <td>2010/01/04 07:44:10.721000000</td>\n",
       "      <td>2010/01/05 16:26:12.662000000</td>\n",
       "      <td>2.008023e+09</td>\n",
       "      <td>ALUNO DE GRADUAÇÃO</td>\n",
       "      <td>NaN</td>\n",
       "    </tr>\n",
       "    <tr>\n",
       "      <th>1</th>\n",
       "      <td>709685.0</td>\n",
       "      <td>L167050</td>\n",
       "      <td>NaN</td>\n",
       "      <td>2010/01/04 07:44:10.750000000</td>\n",
       "      <td>2010/01/12 07:34:13.934000000</td>\n",
       "      <td>2.008023e+09</td>\n",
       "      <td>ALUNO DE GRADUAÇÃO</td>\n",
       "      <td>NaN</td>\n",
       "    </tr>\n",
       "    <tr>\n",
       "      <th>2</th>\n",
       "      <td>709686.0</td>\n",
       "      <td>2006017618</td>\n",
       "      <td>2010/01/26 08:07:01.738000000</td>\n",
       "      <td>2010/01/04 08:08:44.081000000</td>\n",
       "      <td>2010/02/25 07:36:25.800000000</td>\n",
       "      <td>2.008112e+09</td>\n",
       "      <td>ALUNO DE PÓS-GRADUAÇÃO</td>\n",
       "      <td>NaN</td>\n",
       "    </tr>\n",
       "    <tr>\n",
       "      <th>3</th>\n",
       "      <td>709687.0</td>\n",
       "      <td>L184117</td>\n",
       "      <td>2010/01/18 11:07:46.470000000</td>\n",
       "      <td>2010/01/04 08:24:21.284000000</td>\n",
       "      <td>2010/02/03 08:58:45.692000000</td>\n",
       "      <td>2.007211e+08</td>\n",
       "      <td>ALUNO DE GRADUAÇÃO</td>\n",
       "      <td>NaN</td>\n",
       "    </tr>\n",
       "    <tr>\n",
       "      <th>4</th>\n",
       "      <td>709684.0</td>\n",
       "      <td>L095049</td>\n",
       "      <td>NaN</td>\n",
       "      <td>2010/01/04 07:44:10.721000000</td>\n",
       "      <td>2010/01/05 16:26:12.662000000</td>\n",
       "      <td>2.008023e+09</td>\n",
       "      <td>ALUNO DE GRADUAÇÃO</td>\n",
       "      <td>NaN</td>\n",
       "    </tr>\n",
       "  </tbody>\n",
       "</table>\n",
       "</div>"
      ]
     },
     "execution_count": 6,
     "metadata": {},
     "output_type": "execute_result"
    }
   ],
   "execution_count": 6
  },
  {
   "cell_type": "code",
   "id": "e3292adcce7e0937",
   "metadata": {},
   "source": [
    "# Mostrando os tipos dos dados da base de dados\n",
    "df_concat.info()"
   ],
   "outputs": [],
   "execution_count": null
  },
  {
   "cell_type": "code",
   "id": "edf98713b0e1046c",
   "metadata": {
    "ExecuteTime": {
     "end_time": "2025-08-12T19:30:37.214346Z",
     "start_time": "2025-08-12T19:30:37.197579Z"
    }
   },
   "source": [
    "# Mostrando o tamanho da base de dados (linhas e colunas)\n",
    "df_concat.shape"
   ],
   "outputs": [
    {
     "data": {
      "text/plain": [
       "(2346186, 8)"
      ]
     },
     "execution_count": 7,
     "metadata": {},
     "output_type": "execute_result"
    }
   ],
   "execution_count": 7
  },
  {
   "cell_type": "code",
   "id": "bf93d6591c6f6f2f",
   "metadata": {},
   "source": [
    "# Mostrando as colunas da base de dados\n",
    "df_concat.columns"
   ],
   "outputs": [],
   "execution_count": null
  },
  {
   "cell_type": "code",
   "id": "9bad3e3f0644fc3f",
   "metadata": {},
   "source": [
    "# Verificando o tipo de dado de cada coluna\n",
    "df_concat.dtypes"
   ],
   "outputs": [],
   "execution_count": null
  },
  {
   "cell_type": "code",
   "id": "5eac8b6d23cf3954",
   "metadata": {},
   "source": [
    "# Verificando se há registros nulos\n",
    "df_concat.isnull().sum()"
   ],
   "outputs": [],
   "execution_count": null
  },
  {
   "cell_type": "code",
   "id": "f326566eee773ed3",
   "metadata": {},
   "source": [
    "# Verificando se há duplicatas\n",
    "df_concat.value_counts()"
   ],
   "outputs": [],
   "execution_count": null
  },
  {
   "cell_type": "code",
   "id": "9123e94d539808dc",
   "metadata": {},
   "source": [
    "# Resumo estatístico da base de dados com dados categoricos\n",
    "df_concat.describe(include='object')"
   ],
   "outputs": [],
   "execution_count": null
  },
  {
   "cell_type": "code",
   "id": "5136f93cc7b5465d",
   "metadata": {
    "ExecuteTime": {
     "end_time": "2025-08-12T19:32:15.094286Z",
     "start_time": "2025-08-12T19:31:42.773349Z"
    }
   },
   "source": [
    "df_concat.to_csv('../data/interim/emprestimos-concat.csv')"
   ],
   "outputs": [],
   "execution_count": 8
  },
  {
   "cell_type": "code",
   "id": "b9a6e95e6f10b2a5",
   "metadata": {},
   "source": [
    "# Lendo o arquivo que contém os exemplares\n",
    "df_exemplares = pd.read_parquet('../data/raw/dados_exemplares.parquet')\n",
    "\n",
    "# Mostrando alguns registros dos exemplares\n",
    "df_exemplares.head()"
   ],
   "outputs": [],
   "execution_count": null
  },
  {
   "cell_type": "code",
   "id": "c109ca72c53b7320",
   "metadata": {},
   "source": [
    "# Mostrando os tipos dos dados dos exemplares\n",
    "df_exemplares.info()"
   ],
   "outputs": [],
   "execution_count": null
  },
  {
   "cell_type": "code",
   "id": "fcacb5721a0044c2",
   "metadata": {},
   "source": [
    "# Tamanho do dataframe exemplares\n",
    "df_exemplares.shape"
   ],
   "outputs": [],
   "execution_count": null
  },
  {
   "cell_type": "code",
   "id": "10edcf4a49eaca77",
   "metadata": {},
   "source": [
    "# Mostrando as colunas do dataframe exemplares\n",
    "df_exemplares.columns"
   ],
   "outputs": [],
   "execution_count": null
  },
  {
   "cell_type": "code",
   "id": "86b5cec7709c7bbb",
   "metadata": {},
   "source": [
    "# Verificando o tipo de dado de cada coluna do dataframe exemplares\n",
    "df_exemplares.dtypes"
   ],
   "outputs": [],
   "execution_count": null
  },
  {
   "cell_type": "code",
   "id": "a45235fb5812ac11",
   "metadata": {},
   "source": [
    "# Verificando se há registros nulos no dataframe exemplares\n",
    "df_exemplares.isnull().sum()"
   ],
   "outputs": [],
   "execution_count": null
  },
  {
   "cell_type": "code",
   "id": "5f2a4db3e11052ba",
   "metadata": {},
   "source": [
    "# Resumo estatístico do dataframe exemplares com dados categoricos\n",
    "df_exemplares.describe(include='object')"
   ],
   "outputs": [],
   "execution_count": null
  }
 ],
 "metadata": {
  "kernelspec": {
   "display_name": "Python 3",
   "language": "python",
   "name": "python3"
  },
  "language_info": {
   "codemirror_mode": {
    "name": "ipython",
    "version": 2
   },
   "file_extension": ".py",
   "mimetype": "text/x-python",
   "name": "python",
   "nbconvert_exporter": "python",
   "pygments_lexer": "ipython2",
   "version": "2.7.6"
  }
 },
 "nbformat": 4,
 "nbformat_minor": 5
}
