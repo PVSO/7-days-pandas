{
 "cells": [
  {
   "metadata": {},
   "cell_type": "markdown",
   "source": [
    "Questões de diferentes perspectivas podem surgir como:\n",
    "\n",
    "A quantidade de empréstimos está aumentando ou diminuindo ao decorrer dos últimos anos?\n",
    "\n",
    "Em quais bibliotecas do sistema estão a maior quantidade de empréstimos?\n",
    "\n",
    "Quais são os temas mais emprestados? E os menos?\n"
   ],
   "id": "59bbe954d44608b9"
  },
  {
   "cell_type": "code",
   "id": "initial_id",
   "metadata": {
    "collapsed": true
   },
   "source": [
    "# Importação\n",
    "\n",
    "import numpy as np\n",
    "import pandas as pd\n",
    "import matplotlib.pyplot as plt\n",
    "import seaborn as sns"
   ],
   "outputs": [],
   "execution_count": null
  },
  {
   "metadata": {},
   "cell_type": "code",
   "source": [
    "# Lendo os dataframes 2010-2020.1\n",
    "\n",
    "df_2010_1 = pd.read_csv('../data/raw/emprestimos/emprestimos-20101.csv')\n",
    "df_2010_2 = pd.read_csv('../data/raw/emprestimos/emprestimos-20102.csv')\n",
    "\n",
    "df_2011_1 = pd.read_csv('../data/raw/emprestimos/emprestimos-20111.csv')\n",
    "df_2011_2 = pd.read_csv('../data/raw/emprestimos/emprestimos-20111.csv')\n",
    "\n",
    "df_2012_1 = pd.read_csv('../data/raw/emprestimos/emprestimos-20121.csv')\n",
    "df_2012_2 = pd.read_csv('../data/raw/emprestimos/emprestimos-20122.csv')\n",
    "\n",
    "df_2013_1 = pd.read_csv('../data/raw/emprestimos/emprestimos-20131.csv')\n",
    "df_2013_2 = pd.read_csv('../data/raw/emprestimos/emprestimos-20132.csv')\n",
    "\n",
    "df_2014_1 = pd.read_csv('../data/raw/emprestimos/emprestimos-20141.csv')\n",
    "df_2014_2 = pd.read_csv('../data/raw/emprestimos/emprestimos-20142.csv')\n",
    "\n",
    "df_2015_1 = pd.read_csv('../data/raw/emprestimos/emprestimos-20151.csv')\n",
    "df_2015_2 = pd.read_csv('../data/raw/emprestimos/emprestimos-20152.csv')\n",
    "\n",
    "df_2016_1 = pd.read_csv('../data/raw/emprestimos/emprestimos-20161.csv')\n",
    "df_2016_2 = pd.read_csv('../data/raw/emprestimos/emprestimos-20162.csv')\n",
    "\n",
    "df_2017_1 = pd.read_csv('../data/raw/emprestimos/emprestimos-20171.csv')\n",
    "df_2017_2 = pd.read_csv('../data/raw/emprestimos/emprestimos-20172.csv')\n",
    "\n",
    "df_2018_1 = pd.read_csv('../data/raw/emprestimos/emprestimos-20181.csv')\n",
    "df_2018_2 = pd.read_csv('../data/raw/emprestimos/emprestimos-20182.csv')\n",
    "\n",
    "df_2019_1 = pd.read_csv('../data/raw/emprestimos/emprestimos-20191.csv')\n",
    "df_2019_2 = pd.read_csv('../data/raw/emprestimos/emprestimos-20192.csv')\n",
    "\n",
    "df_2020_1 = pd.read_csv('../data/raw/emprestimos/emprestimos-20201.csv')"
   ],
   "id": "452621023280112e",
   "outputs": [],
   "execution_count": null
  },
  {
   "metadata": {},
   "cell_type": "code",
   "source": [
    "# Concatenando todos os dataframes em um\n",
    "\n",
    "df_concat = pd.concat([\n",
    "    df_2010_1, df_2010_2,\n",
    "    df_2011_1, df_2011_2,\n",
    "    df_2012_1, df_2012_2,\n",
    "    df_2013_1, df_2013_2,\n",
    "    df_2014_1, df_2014_2,\n",
    "    df_2015_1, df_2015_2,\n",
    "    df_2016_1, df_2016_2,\n",
    "    df_2017_1, df_2017_2,\n",
    "    df_2018_1, df_2018_2,\n",
    "    df_2019_1, df_2019_2,\n",
    "    df_2020_1\n",
    "], ignore_index=True)\n",
    "\n",
    "# Mostrando alguns registros da concatenação\n",
    "df_concat.head()"
   ],
   "id": "23f52f959faf39d",
   "outputs": [],
   "execution_count": null
  },
  {
   "metadata": {},
   "cell_type": "code",
   "source": [
    "# Mostrando os tipos dos dados da base de dados\n",
    "df_concat.info()"
   ],
   "id": "e3292adcce7e0937",
   "outputs": [],
   "execution_count": null
  },
  {
   "metadata": {},
   "cell_type": "code",
   "source": [
    "# Mostrando o tamanho da base de dados (linhas e colunas)\n",
    "df_concat.shape"
   ],
   "id": "edf98713b0e1046c",
   "outputs": [],
   "execution_count": null
  },
  {
   "metadata": {},
   "cell_type": "code",
   "source": [
    "# Mostrando as colunas da base de dados\n",
    "df_concat.columns"
   ],
   "id": "bf93d6591c6f6f2f",
   "outputs": [],
   "execution_count": null
  },
  {
   "metadata": {},
   "cell_type": "code",
   "source": [
    "# Verificando o tipo de dado de cada coluna\n",
    "df_concat.dtypes"
   ],
   "id": "9bad3e3f0644fc3f",
   "outputs": [],
   "execution_count": null
  },
  {
   "metadata": {},
   "cell_type": "code",
   "source": [
    "# Verificando se há registros nulos\n",
    "df_concat.isnull().sum()"
   ],
   "id": "5eac8b6d23cf3954",
   "outputs": [],
   "execution_count": null
  },
  {
   "metadata": {},
   "cell_type": "code",
   "source": [
    "# Verificando se há duplicatas\n",
    "df_concat.value_counts()"
   ],
   "id": "f326566eee773ed3",
   "outputs": [],
   "execution_count": null
  },
  {
   "metadata": {},
   "cell_type": "code",
   "source": [
    "# Resumo estatístico da base de dados com dados categoricos\n",
    "df_concat.describe(include='object')"
   ],
   "id": "9123e94d539808dc",
   "outputs": [],
   "execution_count": null
  },
  {
   "metadata": {},
   "cell_type": "code",
   "source": "df_concat.to_csv('../data/interim/emprestimos-concat.csv')",
   "id": "5136f93cc7b5465d",
   "outputs": [],
   "execution_count": null
  },
  {
   "metadata": {},
   "cell_type": "code",
   "source": [
    "# Lendo o arquivo que contém os exemplares\n",
    "df_exemplares = pd.read_parquet('../data/raw/dados_exemplares.parquet')\n",
    "\n",
    "# Mostrando alguns registros dos exemplares\n",
    "df_exemplares.head()"
   ],
   "id": "b9a6e95e6f10b2a5",
   "outputs": [],
   "execution_count": null
  },
  {
   "metadata": {},
   "cell_type": "code",
   "source": [
    "# Mostrando os tipos dos dados dos exemplares\n",
    "df_exemplares.info()"
   ],
   "id": "c109ca72c53b7320",
   "outputs": [],
   "execution_count": null
  },
  {
   "metadata": {},
   "cell_type": "code",
   "source": [
    "# Tamanho do dataframe exemplares\n",
    "df_exemplares.shape"
   ],
   "id": "fcacb5721a0044c2",
   "outputs": [],
   "execution_count": null
  },
  {
   "metadata": {},
   "cell_type": "code",
   "source": [
    "# Mostrando as colunas do dataframe exemplares\n",
    "df_exemplares.columns"
   ],
   "id": "10edcf4a49eaca77",
   "outputs": [],
   "execution_count": null
  },
  {
   "metadata": {},
   "cell_type": "code",
   "source": [
    "# Verificando o tipo de dado de cada coluna do dataframe exemplares\n",
    "df_exemplares.dtypes"
   ],
   "id": "86b5cec7709c7bbb",
   "outputs": [],
   "execution_count": null
  },
  {
   "metadata": {},
   "cell_type": "code",
   "source": [
    "# Verificando se há registros nulos no dataframe exemplares\n",
    "df_exemplares.isnull().sum()"
   ],
   "id": "a45235fb5812ac11",
   "outputs": [],
   "execution_count": null
  },
  {
   "metadata": {},
   "cell_type": "code",
   "source": [
    "# Resumo estatístico do dataframe exemplares com dados categoricos\n",
    "df_exemplares.describe(include='object')"
   ],
   "id": "5f2a4db3e11052ba",
   "outputs": [],
   "execution_count": null
  }
 ],
 "metadata": {
  "kernelspec": {
   "display_name": "Python 3",
   "language": "python",
   "name": "python3"
  },
  "language_info": {
   "codemirror_mode": {
    "name": "ipython",
    "version": 2
   },
   "file_extension": ".py",
   "mimetype": "text/x-python",
   "name": "python",
   "nbconvert_exporter": "python",
   "pygments_lexer": "ipython2",
   "version": "2.7.6"
  }
 },
 "nbformat": 4,
 "nbformat_minor": 5
}
